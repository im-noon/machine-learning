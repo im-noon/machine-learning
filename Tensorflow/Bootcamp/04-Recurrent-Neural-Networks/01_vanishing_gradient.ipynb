{
 "cells": [
  {
   "cell_type": "markdown",
   "metadata": {},
   "source": [
    "### Vanishing Gradient\n",
    "- Backpropagation goes backwards from the output to the input layer, propagating error gradient.\n",
    "- For deeper networks issue can arise from backpropagation, vanishing and explode gradients!\n"
   ]
  },
  {
   "cell_type": "markdown",
   "metadata": {},
   "source": [
    "### Why vanishing gradient happend?"
   ]
  },
  {
   "cell_type": "markdown",
   "metadata": {},
   "source": [
    "![title](./img/00_vanis1.png)\n",
    "\n",
    "![title](./img/00_vanis2.png)\n",
    "\n",
    "![title](./img/00_vanis3.png)\n",
    "\n",
    "![title](./img/00_vanis4.png)"
   ]
  },
  {
   "cell_type": "code",
   "execution_count": null,
   "metadata": {},
   "outputs": [],
   "source": []
  },
  {
   "cell_type": "markdown",
   "metadata": {},
   "source": [
    "### Typical RNN unit\n",
    "![title](./img/00_rnn.png)"
   ]
  },
  {
   "attachments": {},
   "cell_type": "markdown",
   "metadata": {},
   "source": [
    "### LSTM\n",
    "- Long Short-Term Memory (LSTM) cell was create to help address vanishing gradient issue!\n",
    "- ![](./img/01_lstm1.png)\n",
    "\n",
    "\n",
    "- 1) forgets gate layer : what information we decide to forget or throw away fron th cell state\n",
    "\n",
    "    0 : forget \n",
    "    1 : keep\n",
    "    ![](./img/01_lstm2.png)\n",
    "\n",
    "- 2) decide what new information we're going to store in the cell state\n",
    "    sigmoid lager : input gate layer\n",
    "    hyperbolic tanh layer : new candidate layer\n",
    "    ![](./img/01_lstm3.png)\n",
    "\n",
    "- 3) update the cell state output\n",
    "    ![](./img/01_lstm4.png)\n",
    "\n",
    "- 4) final decision the output part\n",
    "    ![](./img/01_lstm5.png)\n"
   ]
  },
  {
   "cell_type": "markdown",
   "metadata": {},
   "source": [
    "#### LSTM with peepholds\n",
    "add poopholde variance to all the input gate, that allow to see the previous cell state \n",
    "- ![](./img/01_lstm6.png)"
   ]
  },
  {
   "cell_type": "markdown",
   "metadata": {},
   "source": [
    "### Gated Recurent Unit : (GRU)\n",
    "was simplify thing by combine to a single gate call update gate\n",
    "- ![](./img/01_lstm7.png)"
   ]
  },
  {
   "cell_type": "code",
   "execution_count": null,
   "metadata": {},
   "outputs": [],
   "source": []
  }
 ],
 "metadata": {
  "kernelspec": {
   "display_name": "Python 3",
   "language": "python",
   "name": "python3"
  },
  "language_info": {
   "codemirror_mode": {
    "name": "ipython",
    "version": 3
   },
   "file_extension": ".py",
   "mimetype": "text/x-python",
   "name": "python",
   "nbconvert_exporter": "python",
   "pygments_lexer": "ipython3",
   "version": "3.7.3"
  }
 },
 "nbformat": 4,
 "nbformat_minor": 2
}
