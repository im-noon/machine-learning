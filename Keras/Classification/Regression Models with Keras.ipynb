{
 "cells": [
  {
   "cell_type": "markdown",
   "metadata": {
    "collapsed": true,
    "pycharm": {
     "name": "#%% md\n"
    }
   },
   "source": [
    "<a href=\"https://cognitiveclass.ai\"><img src = \"https://s3-api.us-geo.objectstorage.softlayer.net/cf-courses-data/CognitiveClass/Logos/organization_logo/organization_logo.png\" width = 400> </a>\n",
    "\n",
    "<h1 align=center><font size = 5>Regression Models with Keras</font></h1>"
   ]
  },
  {
   "cell_type": "markdown",
   "source": [
    "## Introduction"
   ],
   "metadata": {
    "collapsed": false,
    "pycharm": {
     "name": "#%% md\n"
    }
   }
  },
  {
   "cell_type": "markdown",
   "source": [
    "As we discussed in the videos, despite the popularity of more powerful libraries such as PyToch and TensorFlow, they are not easy to use and have a steep learning curve. So, for people who are just starting to learn deep learning, there is no better library to use other than the Keras library. \n",
    "\n",
    "Keras is a high-level API for building deep learning models. It has gained favor for its ease of use and syntactic simplicity facilitating fast development. As you will see in this lab and the other labs in this course, building a very complex deep learning network can be achieved with Keras with only few lines of code. You will appreciate Keras even more, once you learn how to build deep models using PyTorch and TensorFlow in the other courses.\n",
    "\n",
    "So, in this lab, you will learn how to use the Keras library to build a regression model."
   ],
   "metadata": {
    "collapsed": false,
    "pycharm": {
     "name": "#%% md\n"
    }
   }
  },
  {
   "cell_type": "markdown",
   "source": [
    "## Table of Contents\n",
    "\n",
    "<div class=\"alert alert-block alert-info\" style=\"margin-top: 20px\">\n",
    "\n",
    "<font size = 3>\n",
    "    \n",
    "1. <a href=\"#item31\">Download and Clean Dataset</a>  \n",
    "2. <a href=\"#item32\">Import Keras</a>  \n",
    "3. <a href=\"#item33\">Build a Neural Network</a>  \n",
    "4. <a href=\"#item34\">Train and Test the Network</a>  \n",
    "\n",
    "</font>\n",
    "</div>"
   ],
   "metadata": {
    "collapsed": false,
    "pycharm": {
     "name": "#%% md\n"
    }
   }
  },
  {
   "cell_type": "markdown",
   "source": [
    "## Download and Clean Dataset"
   ],
   "metadata": {
    "collapsed": false,
    "pycharm": {
     "name": "#%% md\n"
    }
   }
  },
  {
   "cell_type": "markdown",
   "source": [
    "Let's start by importing the <em>pandas</em> and the Numpy libraries."
   ],
   "metadata": {
    "collapsed": false,
    "pycharm": {
     "name": "#%% md\n"
    }
   }
  },
  {
   "cell_type": "code",
   "execution_count": 1,
   "outputs": [],
   "source": [
    "import pandas as pd\n",
    "import numpy as np"
   ],
   "metadata": {
    "collapsed": false,
    "pycharm": {
     "name": "#%%\n",
     "is_executing": false
    }
   }
  },
  {
   "cell_type": "markdown",
   "source": [
    "We will be playing around with the same dataset that we used in the videos.\n",
    "\n",
    "<strong>The dataset is about the compressive strength of different samples of concrete based on the volumes of the different ingredients that were used to make them. Ingredients include:</strong>\n",
    "\n",
    "<strong>1. Cement</strong>\n",
    "\n",
    "<strong>2. Blast Furnace Slag</strong>\n",
    "\n",
    "<strong>3. Fly Ash</strong>\n",
    "\n",
    "<strong>4. Water</strong>\n",
    "\n",
    "<strong>5. Superplasticizer</strong>\n",
    "\n",
    "<strong>6. Coarse Aggregate</strong>\n",
    "\n",
    "<strong>7. Fine Aggregate</strong>"
   ],
   "metadata": {
    "collapsed": false,
    "pycharm": {
     "name": "#%% md\n"
    }
   }
  },
  {
   "cell_type": "markdown",
   "source": [
    "Let's download the data and read it into a <em>pandas</em> dataframe."
   ],
   "metadata": {
    "collapsed": false,
    "pycharm": {
     "name": "#%% md\n"
    }
   }
  },
  {
   "cell_type": "code",
   "source": [
    "concrete_data = pd.read_csv('https://s3-api.us-geo.objectstorage.softlayer.net/cf-courses-data/CognitiveClass/DL0101EN/labs/data/concrete_data.csv')\n",
    "concrete_data.head()"
   ],
   "metadata": {
    "collapsed": false,
    "pycharm": {
     "name": "#%%\n",
     "is_executing": false
    }
   },
   "execution_count": 2,
   "outputs": [
    {
     "data": {
      "text/plain": "   Cement  Blast Furnace Slag  Fly Ash  Water  Superplasticizer  \\\n0   540.0                 0.0      0.0  162.0               2.5   \n1   540.0                 0.0      0.0  162.0               2.5   \n2   332.5               142.5      0.0  228.0               0.0   \n3   332.5               142.5      0.0  228.0               0.0   \n4   198.6               132.4      0.0  192.0               0.0   \n\n   Coarse Aggregate  Fine Aggregate  Age  Strength  \n0            1040.0           676.0   28     79.99  \n1            1055.0           676.0   28     61.89  \n2             932.0           594.0  270     40.27  \n3             932.0           594.0  365     41.05  \n4             978.4           825.5  360     44.30  ",
      "text/html": "<div>\n<style scoped>\n    .dataframe tbody tr th:only-of-type {\n        vertical-align: middle;\n    }\n\n    .dataframe tbody tr th {\n        vertical-align: top;\n    }\n\n    .dataframe thead th {\n        text-align: right;\n    }\n</style>\n<table border=\"1\" class=\"dataframe\">\n  <thead>\n    <tr style=\"text-align: right;\">\n      <th></th>\n      <th>Cement</th>\n      <th>Blast Furnace Slag</th>\n      <th>Fly Ash</th>\n      <th>Water</th>\n      <th>Superplasticizer</th>\n      <th>Coarse Aggregate</th>\n      <th>Fine Aggregate</th>\n      <th>Age</th>\n      <th>Strength</th>\n    </tr>\n  </thead>\n  <tbody>\n    <tr>\n      <th>0</th>\n      <td>540.0</td>\n      <td>0.0</td>\n      <td>0.0</td>\n      <td>162.0</td>\n      <td>2.5</td>\n      <td>1040.0</td>\n      <td>676.0</td>\n      <td>28</td>\n      <td>79.99</td>\n    </tr>\n    <tr>\n      <th>1</th>\n      <td>540.0</td>\n      <td>0.0</td>\n      <td>0.0</td>\n      <td>162.0</td>\n      <td>2.5</td>\n      <td>1055.0</td>\n      <td>676.0</td>\n      <td>28</td>\n      <td>61.89</td>\n    </tr>\n    <tr>\n      <th>2</th>\n      <td>332.5</td>\n      <td>142.5</td>\n      <td>0.0</td>\n      <td>228.0</td>\n      <td>0.0</td>\n      <td>932.0</td>\n      <td>594.0</td>\n      <td>270</td>\n      <td>40.27</td>\n    </tr>\n    <tr>\n      <th>3</th>\n      <td>332.5</td>\n      <td>142.5</td>\n      <td>0.0</td>\n      <td>228.0</td>\n      <td>0.0</td>\n      <td>932.0</td>\n      <td>594.0</td>\n      <td>365</td>\n      <td>41.05</td>\n    </tr>\n    <tr>\n      <th>4</th>\n      <td>198.6</td>\n      <td>132.4</td>\n      <td>0.0</td>\n      <td>192.0</td>\n      <td>0.0</td>\n      <td>978.4</td>\n      <td>825.5</td>\n      <td>360</td>\n      <td>44.30</td>\n    </tr>\n  </tbody>\n</table>\n</div>"
     },
     "metadata": {},
     "output_type": "execute_result",
     "execution_count": 2
    }
   ]
  },
  {
   "cell_type": "markdown",
   "source": [
    "So the first concrete sample has 540 cubic meter of cement, 0 cubic meter of blast furnace slag, 0 cubic meter of fly ash, 162 cubic meter of water, 2.5 cubic meter of superplaticizer, 1040 cubic meter of coarse aggregate, 676 cubic meter of fine aggregate. Such a concrete mix which is 28 days old, has a compressive strength of 79.99 MPa."
   ],
   "metadata": {
    "collapsed": false,
    "pycharm": {
     "name": "#%% md\n"
    }
   }
  },
  {
   "cell_type": "markdown",
   "source": [
    "#### Let's check how many data points we have."
   ],
   "metadata": {
    "collapsed": false,
    "pycharm": {
     "name": "#%% md\n"
    }
   }
  },
  {
   "cell_type": "code",
   "execution_count": 3,
   "outputs": [
    {
     "data": {
      "text/plain": "(1030, 9)"
     },
     "metadata": {},
     "output_type": "execute_result",
     "execution_count": 3
    }
   ],
   "source": [
    "concrete_data.shape"
   ],
   "metadata": {
    "collapsed": false,
    "pycharm": {
     "name": "#%%\n",
     "is_executing": false
    }
   }
  },
  {
   "cell_type": "markdown",
   "source": [
    "So, there are approximately 1000 samples to train our model on. Because of the few samples, we have to be careful not to overfit the training data."
   ],
   "metadata": {
    "collapsed": false,
    "pycharm": {
     "name": "#%% md\n"
    }
   }
  },
  {
   "cell_type": "markdown",
   "source": [
    "Let's check the dataset for any missing values."
   ],
   "metadata": {
    "collapsed": false,
    "pycharm": {
     "name": "#%% md\n"
    }
   }
  },
  {
   "cell_type": "code",
   "execution_count": 4,
   "outputs": [
    {
     "data": {
      "text/plain": "            Cement  Blast Furnace Slag      Fly Ash        Water  \\\ncount  1030.000000         1030.000000  1030.000000  1030.000000   \nmean    281.167864           73.895825    54.188350   181.567282   \nstd     104.506364           86.279342    63.997004    21.354219   \nmin     102.000000            0.000000     0.000000   121.800000   \n25%     192.375000            0.000000     0.000000   164.900000   \n50%     272.900000           22.000000     0.000000   185.000000   \n75%     350.000000          142.950000   118.300000   192.000000   \nmax     540.000000          359.400000   200.100000   247.000000   \n\n       Superplasticizer  Coarse Aggregate  Fine Aggregate          Age  \\\ncount       1030.000000       1030.000000     1030.000000  1030.000000   \nmean           6.204660        972.918932      773.580485    45.662136   \nstd            5.973841         77.753954       80.175980    63.169912   \nmin            0.000000        801.000000      594.000000     1.000000   \n25%            0.000000        932.000000      730.950000     7.000000   \n50%            6.400000        968.000000      779.500000    28.000000   \n75%           10.200000       1029.400000      824.000000    56.000000   \nmax           32.200000       1145.000000      992.600000   365.000000   \n\n          Strength  \ncount  1030.000000  \nmean     35.817961  \nstd      16.705742  \nmin       2.330000  \n25%      23.710000  \n50%      34.445000  \n75%      46.135000  \nmax      82.600000  ",
      "text/html": "<div>\n<style scoped>\n    .dataframe tbody tr th:only-of-type {\n        vertical-align: middle;\n    }\n\n    .dataframe tbody tr th {\n        vertical-align: top;\n    }\n\n    .dataframe thead th {\n        text-align: right;\n    }\n</style>\n<table border=\"1\" class=\"dataframe\">\n  <thead>\n    <tr style=\"text-align: right;\">\n      <th></th>\n      <th>Cement</th>\n      <th>Blast Furnace Slag</th>\n      <th>Fly Ash</th>\n      <th>Water</th>\n      <th>Superplasticizer</th>\n      <th>Coarse Aggregate</th>\n      <th>Fine Aggregate</th>\n      <th>Age</th>\n      <th>Strength</th>\n    </tr>\n  </thead>\n  <tbody>\n    <tr>\n      <th>count</th>\n      <td>1030.000000</td>\n      <td>1030.000000</td>\n      <td>1030.000000</td>\n      <td>1030.000000</td>\n      <td>1030.000000</td>\n      <td>1030.000000</td>\n      <td>1030.000000</td>\n      <td>1030.000000</td>\n      <td>1030.000000</td>\n    </tr>\n    <tr>\n      <th>mean</th>\n      <td>281.167864</td>\n      <td>73.895825</td>\n      <td>54.188350</td>\n      <td>181.567282</td>\n      <td>6.204660</td>\n      <td>972.918932</td>\n      <td>773.580485</td>\n      <td>45.662136</td>\n      <td>35.817961</td>\n    </tr>\n    <tr>\n      <th>std</th>\n      <td>104.506364</td>\n      <td>86.279342</td>\n      <td>63.997004</td>\n      <td>21.354219</td>\n      <td>5.973841</td>\n      <td>77.753954</td>\n      <td>80.175980</td>\n      <td>63.169912</td>\n      <td>16.705742</td>\n    </tr>\n    <tr>\n      <th>min</th>\n      <td>102.000000</td>\n      <td>0.000000</td>\n      <td>0.000000</td>\n      <td>121.800000</td>\n      <td>0.000000</td>\n      <td>801.000000</td>\n      <td>594.000000</td>\n      <td>1.000000</td>\n      <td>2.330000</td>\n    </tr>\n    <tr>\n      <th>25%</th>\n      <td>192.375000</td>\n      <td>0.000000</td>\n      <td>0.000000</td>\n      <td>164.900000</td>\n      <td>0.000000</td>\n      <td>932.000000</td>\n      <td>730.950000</td>\n      <td>7.000000</td>\n      <td>23.710000</td>\n    </tr>\n    <tr>\n      <th>50%</th>\n      <td>272.900000</td>\n      <td>22.000000</td>\n      <td>0.000000</td>\n      <td>185.000000</td>\n      <td>6.400000</td>\n      <td>968.000000</td>\n      <td>779.500000</td>\n      <td>28.000000</td>\n      <td>34.445000</td>\n    </tr>\n    <tr>\n      <th>75%</th>\n      <td>350.000000</td>\n      <td>142.950000</td>\n      <td>118.300000</td>\n      <td>192.000000</td>\n      <td>10.200000</td>\n      <td>1029.400000</td>\n      <td>824.000000</td>\n      <td>56.000000</td>\n      <td>46.135000</td>\n    </tr>\n    <tr>\n      <th>max</th>\n      <td>540.000000</td>\n      <td>359.400000</td>\n      <td>200.100000</td>\n      <td>247.000000</td>\n      <td>32.200000</td>\n      <td>1145.000000</td>\n      <td>992.600000</td>\n      <td>365.000000</td>\n      <td>82.600000</td>\n    </tr>\n  </tbody>\n</table>\n</div>"
     },
     "metadata": {},
     "output_type": "execute_result",
     "execution_count": 4
    }
   ],
   "source": [
    "concrete_data.describe()"
   ],
   "metadata": {
    "collapsed": false,
    "pycharm": {
     "name": "#%%\n",
     "is_executing": false
    }
   }
  },
  {
   "cell_type": "code",
   "execution_count": 5,
   "outputs": [
    {
     "data": {
      "text/plain": "Cement                0\nBlast Furnace Slag    0\nFly Ash               0\nWater                 0\nSuperplasticizer      0\nCoarse Aggregate      0\nFine Aggregate        0\nAge                   0\nStrength              0\ndtype: int64"
     },
     "metadata": {},
     "output_type": "execute_result",
     "execution_count": 5
    }
   ],
   "source": [
    "concrete_data.isnull().sum()"
   ],
   "metadata": {
    "collapsed": false,
    "pycharm": {
     "name": "#%%\n",
     "is_executing": false
    }
   }
  },
  {
   "cell_type": "markdown",
   "source": [
    "The data looks very clean and is ready to be used to build our model."
   ],
   "metadata": {
    "collapsed": false,
    "pycharm": {
     "name": "#%% md\n"
    }
   }
  },
  {
   "cell_type": "markdown",
   "source": [
    "#### Split data into predictors and target"
   ],
   "metadata": {
    "collapsed": false,
    "pycharm": {
     "name": "#%% md\n"
    }
   }
  },
  {
   "cell_type": "markdown",
   "source": [
    "The target variable in this problem is the concrete sample strength. Therefore, our predictors will be all the other columns.\n"
   ],
   "metadata": {
    "collapsed": false,
    "pycharm": {
     "name": "#%% md\n"
    }
   }
  },
  {
   "cell_type": "code",
   "execution_count": 6,
   "outputs": [],
   "source": [
    "concrete_data_columns = concrete_data.columns\n",
    "\n",
    "predictors = concrete_data[concrete_data_columns[concrete_data_columns != 'Strength']] # all columns except Strength\n",
    "target = concrete_data['Strength'] # Strength column"
   ],
   "metadata": {
    "collapsed": false,
    "pycharm": {
     "name": "#%%\n",
     "is_executing": false
    }
   }
  },
  {
   "cell_type": "markdown",
   "source": [
    "Let's do a quick sanity check of the predictors and the target dataframes."
   ],
   "metadata": {
    "collapsed": false,
    "pycharm": {
     "name": "#%% md\n"
    }
   }
  },
  {
   "cell_type": "code",
   "execution_count": 7,
   "outputs": [
    {
     "data": {
      "text/plain": "   Cement  Blast Furnace Slag  Fly Ash  Water  Superplasticizer  \\\n0   540.0                 0.0      0.0  162.0               2.5   \n1   540.0                 0.0      0.0  162.0               2.5   \n2   332.5               142.5      0.0  228.0               0.0   \n3   332.5               142.5      0.0  228.0               0.0   \n4   198.6               132.4      0.0  192.0               0.0   \n\n   Coarse Aggregate  Fine Aggregate  Age  \n0            1040.0           676.0   28  \n1            1055.0           676.0   28  \n2             932.0           594.0  270  \n3             932.0           594.0  365  \n4             978.4           825.5  360  ",
      "text/html": "<div>\n<style scoped>\n    .dataframe tbody tr th:only-of-type {\n        vertical-align: middle;\n    }\n\n    .dataframe tbody tr th {\n        vertical-align: top;\n    }\n\n    .dataframe thead th {\n        text-align: right;\n    }\n</style>\n<table border=\"1\" class=\"dataframe\">\n  <thead>\n    <tr style=\"text-align: right;\">\n      <th></th>\n      <th>Cement</th>\n      <th>Blast Furnace Slag</th>\n      <th>Fly Ash</th>\n      <th>Water</th>\n      <th>Superplasticizer</th>\n      <th>Coarse Aggregate</th>\n      <th>Fine Aggregate</th>\n      <th>Age</th>\n    </tr>\n  </thead>\n  <tbody>\n    <tr>\n      <th>0</th>\n      <td>540.0</td>\n      <td>0.0</td>\n      <td>0.0</td>\n      <td>162.0</td>\n      <td>2.5</td>\n      <td>1040.0</td>\n      <td>676.0</td>\n      <td>28</td>\n    </tr>\n    <tr>\n      <th>1</th>\n      <td>540.0</td>\n      <td>0.0</td>\n      <td>0.0</td>\n      <td>162.0</td>\n      <td>2.5</td>\n      <td>1055.0</td>\n      <td>676.0</td>\n      <td>28</td>\n    </tr>\n    <tr>\n      <th>2</th>\n      <td>332.5</td>\n      <td>142.5</td>\n      <td>0.0</td>\n      <td>228.0</td>\n      <td>0.0</td>\n      <td>932.0</td>\n      <td>594.0</td>\n      <td>270</td>\n    </tr>\n    <tr>\n      <th>3</th>\n      <td>332.5</td>\n      <td>142.5</td>\n      <td>0.0</td>\n      <td>228.0</td>\n      <td>0.0</td>\n      <td>932.0</td>\n      <td>594.0</td>\n      <td>365</td>\n    </tr>\n    <tr>\n      <th>4</th>\n      <td>198.6</td>\n      <td>132.4</td>\n      <td>0.0</td>\n      <td>192.0</td>\n      <td>0.0</td>\n      <td>978.4</td>\n      <td>825.5</td>\n      <td>360</td>\n    </tr>\n  </tbody>\n</table>\n</div>"
     },
     "metadata": {},
     "output_type": "execute_result",
     "execution_count": 7
    }
   ],
   "source": [
    "predictors.head()"
   ],
   "metadata": {
    "collapsed": false,
    "pycharm": {
     "name": "#%%\n",
     "is_executing": false
    }
   }
  },
  {
   "cell_type": "code",
   "execution_count": 8,
   "outputs": [
    {
     "data": {
      "text/plain": "0    79.99\n1    61.89\n2    40.27\n3    41.05\n4    44.30\nName: Strength, dtype: float64"
     },
     "metadata": {},
     "output_type": "execute_result",
     "execution_count": 8
    }
   ],
   "source": [
    "target.head()"
   ],
   "metadata": {
    "collapsed": false,
    "pycharm": {
     "name": "#%%\n",
     "is_executing": false
    }
   }
  },
  {
   "cell_type": "markdown",
   "source": [
    "Finally, the last step is to normalize the data by substracting the mean and dividing by the standard deviation."
   ],
   "metadata": {
    "collapsed": false,
    "pycharm": {
     "name": "#%% md\n"
    }
   }
  },
  {
   "cell_type": "code",
   "source": [
    "predictors_norm = (predictors - predictors.mean()) / predictors.std()\n",
    "predictors_norm.head()"
   ],
   "metadata": {
    "collapsed": false,
    "pycharm": {
     "name": "#%%\n",
     "is_executing": false
    }
   },
   "execution_count": 9,
   "outputs": [
    {
     "data": {
      "text/plain": "     Cement  Blast Furnace Slag   Fly Ash     Water  Superplasticizer  \\\n0  2.476712           -0.856472 -0.846733 -0.916319         -0.620147   \n1  2.476712           -0.856472 -0.846733 -0.916319         -0.620147   \n2  0.491187            0.795140 -0.846733  2.174405         -1.038638   \n3  0.491187            0.795140 -0.846733  2.174405         -1.038638   \n4 -0.790075            0.678079 -0.846733  0.488555         -1.038638   \n\n   Coarse Aggregate  Fine Aggregate       Age  \n0          0.862735       -1.217079 -0.279597  \n1          1.055651       -1.217079 -0.279597  \n2         -0.526262       -2.239829  3.551340  \n3         -0.526262       -2.239829  5.055221  \n4          0.070492        0.647569  4.976069  ",
      "text/html": "<div>\n<style scoped>\n    .dataframe tbody tr th:only-of-type {\n        vertical-align: middle;\n    }\n\n    .dataframe tbody tr th {\n        vertical-align: top;\n    }\n\n    .dataframe thead th {\n        text-align: right;\n    }\n</style>\n<table border=\"1\" class=\"dataframe\">\n  <thead>\n    <tr style=\"text-align: right;\">\n      <th></th>\n      <th>Cement</th>\n      <th>Blast Furnace Slag</th>\n      <th>Fly Ash</th>\n      <th>Water</th>\n      <th>Superplasticizer</th>\n      <th>Coarse Aggregate</th>\n      <th>Fine Aggregate</th>\n      <th>Age</th>\n    </tr>\n  </thead>\n  <tbody>\n    <tr>\n      <th>0</th>\n      <td>2.476712</td>\n      <td>-0.856472</td>\n      <td>-0.846733</td>\n      <td>-0.916319</td>\n      <td>-0.620147</td>\n      <td>0.862735</td>\n      <td>-1.217079</td>\n      <td>-0.279597</td>\n    </tr>\n    <tr>\n      <th>1</th>\n      <td>2.476712</td>\n      <td>-0.856472</td>\n      <td>-0.846733</td>\n      <td>-0.916319</td>\n      <td>-0.620147</td>\n      <td>1.055651</td>\n      <td>-1.217079</td>\n      <td>-0.279597</td>\n    </tr>\n    <tr>\n      <th>2</th>\n      <td>0.491187</td>\n      <td>0.795140</td>\n      <td>-0.846733</td>\n      <td>2.174405</td>\n      <td>-1.038638</td>\n      <td>-0.526262</td>\n      <td>-2.239829</td>\n      <td>3.551340</td>\n    </tr>\n    <tr>\n      <th>3</th>\n      <td>0.491187</td>\n      <td>0.795140</td>\n      <td>-0.846733</td>\n      <td>2.174405</td>\n      <td>-1.038638</td>\n      <td>-0.526262</td>\n      <td>-2.239829</td>\n      <td>5.055221</td>\n    </tr>\n    <tr>\n      <th>4</th>\n      <td>-0.790075</td>\n      <td>0.678079</td>\n      <td>-0.846733</td>\n      <td>0.488555</td>\n      <td>-1.038638</td>\n      <td>0.070492</td>\n      <td>0.647569</td>\n      <td>4.976069</td>\n    </tr>\n  </tbody>\n</table>\n</div>"
     },
     "metadata": {},
     "output_type": "execute_result",
     "execution_count": 9
    }
   ]
  },
  {
   "cell_type": "markdown",
   "source": [
    "Let's save the number of predictors to *n_cols* since we will need this number when building our network."
   ],
   "metadata": {
    "collapsed": false,
    "pycharm": {
     "name": "#%% md\n"
    }
   }
  },
  {
   "cell_type": "code",
   "execution_count": 10,
   "outputs": [],
   "source": [
    "n_cols = predictors_norm.shape[1] # number of predictors\n"
   ],
   "metadata": {
    "collapsed": false,
    "pycharm": {
     "name": "#%%\n",
     "is_executing": false
    }
   }
  },
  {
   "cell_type": "markdown",
   "source": [
    "## Import Keras"
   ],
   "metadata": {
    "collapsed": false,
    "pycharm": {
     "name": "#%% md\n"
    }
   }
  },
  {
   "cell_type": "markdown",
   "source": [
    "Recall from the videos that Keras normally runs on top of a low-level library such as TensorFlow. This means that to be able to use the Keras library, you will have to install TensorFlow first and when you import the Keras library, it will be explicitly displayed what backend was used to install the Keras library. In CC Labs, we used TensorFlow as the backend to install Keras, so it should clearly print that when we import Keras.\n"
   ],
   "metadata": {
    "collapsed": false,
    "pycharm": {
     "name": "#%% md\n"
    }
   }
  },
  {
   "cell_type": "markdown",
   "source": [
    "#### Let's go ahead and import the Keras library"
   ],
   "metadata": {
    "collapsed": false,
    "pycharm": {
     "name": "#%% md\n"
    }
   }
  },
  {
   "cell_type": "code",
   "execution_count": 11,
   "outputs": [
    {
     "name": "stderr",
     "text": [
      "Using TensorFlow backend.\n"
     ],
     "output_type": "stream"
    }
   ],
   "source": [
    "import keras\n"
   ],
   "metadata": {
    "collapsed": false,
    "pycharm": {
     "name": "#%%\n",
     "is_executing": false
    }
   }
  },
  {
   "cell_type": "markdown",
   "source": [
    "As you can see, the TensorFlow backend was used to install the Keras library."
   ],
   "metadata": {
    "collapsed": false,
    "pycharm": {
     "name": "#%% md\n"
    }
   }
  },
  {
   "cell_type": "markdown",
   "source": [
    "Let's import the rest of the packages from the Keras library that we will need to build our regressoin model."
   ],
   "metadata": {
    "collapsed": false,
    "pycharm": {
     "name": "#%% md\n"
    }
   }
  },
  {
   "cell_type": "code",
   "execution_count": 12,
   "outputs": [],
   "source": [
    "from keras.models import Sequential\n",
    "from keras.layers import Dense"
   ],
   "metadata": {
    "collapsed": false,
    "pycharm": {
     "name": "#%%\n",
     "is_executing": false
    }
   }
  },
  {
   "cell_type": "markdown",
   "source": [
    "## Build a Neural Network"
   ],
   "metadata": {
    "collapsed": false,
    "pycharm": {
     "name": "#%% md\n"
    }
   }
  },
  {
   "cell_type": "markdown",
   "source": [
    "Let's define a function that defines our regression model for us so that we can conveniently call it to create our model."
   ],
   "metadata": {
    "collapsed": false,
    "pycharm": {
     "name": "#%% md\n"
    }
   }
  },
  {
   "cell_type": "code",
   "execution_count": 13,
   "outputs": [],
   "source": [
    "# define regression model\n",
    "def regression_model():\n",
    "    # create model\n",
    "    model = Sequential()\n",
    "    model.add(Dense(50, activation='relu', input_shape=(n_cols,)))\n",
    "    model.add(Dense(50, activation='relu'))\n",
    "    model.add(Dense(1))\n",
    "    \n",
    "    # compile model\n",
    "    model.compile(optimizer='adam', loss='mean_squared_error')\n",
    "    return model\n"
   ],
   "metadata": {
    "collapsed": false,
    "pycharm": {
     "name": "#%%\n",
     "is_executing": false
    }
   }
  },
  {
   "cell_type": "markdown",
   "source": [
    "The above function create a model that has two hidden layers, each of 50 hidden units."
   ],
   "metadata": {
    "collapsed": false,
    "pycharm": {
     "name": "#%% md\n"
    }
   }
  },
  {
   "cell_type": "markdown",
   "source": [
    "## Train and Test the Network"
   ],
   "metadata": {
    "collapsed": false,
    "pycharm": {
     "name": "#%% md\n"
    }
   }
  },
  {
   "cell_type": "markdown",
   "source": [
    "Let's call the function now to create our model."
   ],
   "metadata": {
    "collapsed": false,
    "pycharm": {
     "name": "#%% md\n"
    }
   }
  },
  {
   "cell_type": "code",
   "execution_count": 14,
   "outputs": [],
   "source": [
    "# build the model\n",
    "model = regression_model()"
   ],
   "metadata": {
    "collapsed": false,
    "pycharm": {
     "name": "#%%\n",
     "is_executing": false
    }
   }
  },
  {
   "cell_type": "markdown",
   "source": [
    "Next, we will train and test the model at the same time using the *fit* method. We will leave out 30% of the data for validation and we will train the model for 100 epochs."
   ],
   "metadata": {
    "collapsed": false,
    "pycharm": {
     "name": "#%% md\n"
    }
   }
  },
  {
   "cell_type": "code",
   "execution_count": 15,
   "outputs": [
    {
     "name": "stdout",
     "text": [
      "Train on 721 samples, validate on 309 samples\n",
      "Epoch 1/100\n",
      " - 0s - loss: 1681.8084 - val_loss: 1187.6340\n",
      "Epoch 2/100\n",
      " - 0s - loss: 1574.1107 - val_loss: 1097.0134\n",
      "Epoch 3/100\n",
      " - 0s - loss: 1411.4987 - val_loss: 955.9882\n",
      "Epoch 4/100\n",
      " - 0s - loss: 1154.1921 - val_loss: 752.7996\n",
      "Epoch 5/100\n",
      " - 0s - loss: 812.2034 - val_loss: 515.4795\n",
      "Epoch 6/100\n",
      " - 0s - loss: 488.3725 - val_loss: 312.7100\n",
      "Epoch 7/100\n",
      " - 0s - loss: 304.0109 - val_loss: 215.6542\n",
      "Epoch 8/100\n",
      " - 0s - loss: 251.3754 - val_loss: 183.9671\n",
      "Epoch 9/100\n",
      " - 0s - loss: 228.5647 - val_loss: 170.7424\n",
      "Epoch 10/100\n",
      " - 0s - loss: 212.9052 - val_loss: 167.3628\n",
      "Epoch 11/100\n",
      " - 0s - loss: 201.1523 - val_loss: 161.3748\n",
      "Epoch 12/100\n",
      " - 0s - loss: 192.2716 - val_loss: 160.4958\n",
      "Epoch 13/100\n",
      " - 0s - loss: 185.3722 - val_loss: 157.1689\n",
      "Epoch 14/100\n",
      " - 0s - loss: 179.4948 - val_loss: 156.9794\n",
      "Epoch 15/100\n",
      " - 0s - loss: 174.6409 - val_loss: 153.2418\n",
      "Epoch 16/100\n",
      " - 0s - loss: 170.7438 - val_loss: 154.9966\n",
      "Epoch 17/100\n",
      " - 0s - loss: 167.8790 - val_loss: 152.8407\n",
      "Epoch 18/100\n",
      " - 0s - loss: 164.4514 - val_loss: 152.9559\n",
      "Epoch 19/100\n",
      " - 0s - loss: 162.2690 - val_loss: 151.7584\n",
      "Epoch 20/100\n",
      " - 0s - loss: 159.2482 - val_loss: 153.3271\n",
      "Epoch 21/100\n",
      " - 0s - loss: 157.4518 - val_loss: 152.0955\n",
      "Epoch 22/100\n",
      " - 0s - loss: 154.5681 - val_loss: 152.0631\n",
      "Epoch 23/100\n",
      " - 0s - loss: 152.5540 - val_loss: 153.4646\n",
      "Epoch 24/100\n",
      " - 0s - loss: 151.4308 - val_loss: 155.8752\n",
      "Epoch 25/100\n",
      " - 0s - loss: 149.1344 - val_loss: 155.2236\n",
      "Epoch 26/100\n",
      " - 0s - loss: 147.0398 - val_loss: 153.0420\n",
      "Epoch 27/100\n",
      " - 0s - loss: 145.9864 - val_loss: 154.4835\n",
      "Epoch 28/100\n",
      " - 0s - loss: 143.9693 - val_loss: 153.6903\n",
      "Epoch 29/100\n",
      " - 0s - loss: 142.9546 - val_loss: 154.0067\n",
      "Epoch 30/100\n",
      " - 0s - loss: 141.6986 - val_loss: 155.9999\n",
      "Epoch 31/100\n",
      " - 0s - loss: 140.1623 - val_loss: 156.2804\n",
      "Epoch 32/100\n",
      " - 0s - loss: 138.9683 - val_loss: 156.5889\n",
      "Epoch 33/100\n",
      " - 0s - loss: 137.4011 - val_loss: 158.1454\n",
      "Epoch 34/100\n",
      " - 0s - loss: 135.6274 - val_loss: 156.6766\n",
      "Epoch 35/100\n",
      " - 0s - loss: 134.7647 - val_loss: 158.0029\n",
      "Epoch 36/100\n",
      " - 0s - loss: 133.9993 - val_loss: 153.1920\n",
      "Epoch 37/100\n",
      " - 0s - loss: 131.2017 - val_loss: 162.7780\n",
      "Epoch 38/100\n",
      " - 0s - loss: 129.6973 - val_loss: 156.3424\n",
      "Epoch 39/100\n",
      " - 0s - loss: 128.1166 - val_loss: 157.7011\n",
      "Epoch 40/100\n",
      " - 0s - loss: 126.3711 - val_loss: 157.2389\n",
      "Epoch 41/100\n",
      " - 0s - loss: 124.7208 - val_loss: 157.5415\n",
      "Epoch 42/100\n",
      " - 0s - loss: 123.3484 - val_loss: 154.0003\n",
      "Epoch 43/100\n",
      " - 0s - loss: 121.1974 - val_loss: 154.5247\n",
      "Epoch 44/100\n",
      " - 0s - loss: 118.4591 - val_loss: 157.7355\n",
      "Epoch 45/100\n",
      " - 0s - loss: 117.0777 - val_loss: 153.3974\n",
      "Epoch 46/100\n",
      " - 0s - loss: 114.4950 - val_loss: 153.7719\n",
      "Epoch 47/100\n",
      " - 0s - loss: 112.2902 - val_loss: 152.3401\n",
      "Epoch 48/100\n",
      " - 0s - loss: 109.9244 - val_loss: 147.0367\n",
      "Epoch 49/100\n",
      " - 1s - loss: 107.1433 - val_loss: 144.2115\n",
      "Epoch 50/100\n",
      " - 0s - loss: 104.2265 - val_loss: 141.0956\n",
      "Epoch 51/100\n",
      " - 0s - loss: 101.3806 - val_loss: 138.7356\n",
      "Epoch 52/100\n",
      " - 0s - loss: 98.1766 - val_loss: 141.3192\n",
      "Epoch 53/100\n",
      " - 0s - loss: 95.5193 - val_loss: 136.5529\n",
      "Epoch 54/100\n",
      " - 0s - loss: 92.5268 - val_loss: 137.5620\n",
      "Epoch 55/100\n",
      " - 0s - loss: 89.3969 - val_loss: 135.8596\n",
      "Epoch 56/100\n",
      " - 0s - loss: 86.1931 - val_loss: 132.9426\n",
      "Epoch 57/100\n",
      " - 0s - loss: 82.7985 - val_loss: 129.1069\n",
      "Epoch 58/100\n",
      " - 0s - loss: 80.0738 - val_loss: 126.4905\n",
      "Epoch 59/100\n",
      " - 0s - loss: 77.2346 - val_loss: 130.1167\n",
      "Epoch 60/100\n",
      " - 0s - loss: 74.7500 - val_loss: 128.8992\n",
      "Epoch 61/100\n",
      " - 0s - loss: 71.9975 - val_loss: 120.8195\n",
      "Epoch 62/100\n",
      " - 0s - loss: 69.2507 - val_loss: 122.1653\n",
      "Epoch 63/100\n",
      " - 0s - loss: 67.0559 - val_loss: 124.0196\n",
      "Epoch 64/100\n",
      " - 0s - loss: 65.4858 - val_loss: 120.4118\n",
      "Epoch 65/100\n",
      " - 0s - loss: 62.3437 - val_loss: 120.4888\n",
      "Epoch 66/100\n",
      " - 0s - loss: 60.2876 - val_loss: 117.2359\n",
      "Epoch 67/100\n",
      " - 0s - loss: 59.2231 - val_loss: 120.4000\n",
      "Epoch 68/100\n",
      " - 0s - loss: 56.8176 - val_loss: 113.9239\n",
      "Epoch 69/100\n",
      " - 0s - loss: 54.5754 - val_loss: 113.2842\n",
      "Epoch 70/100\n",
      " - 0s - loss: 53.1923 - val_loss: 123.1108\n",
      "Epoch 71/100\n",
      " - 0s - loss: 52.2668 - val_loss: 108.4319\n",
      "Epoch 72/100\n",
      " - 0s - loss: 50.8261 - val_loss: 119.7056\n",
      "Epoch 73/100\n",
      " - 1s - loss: 49.1369 - val_loss: 111.9106\n",
      "Epoch 74/100\n",
      " - 1s - loss: 48.3508 - val_loss: 113.9755\n",
      "Epoch 75/100\n",
      " - 0s - loss: 46.9126 - val_loss: 115.4752\n",
      "Epoch 76/100\n",
      " - 0s - loss: 46.5302 - val_loss: 115.8074\n",
      "Epoch 77/100\n",
      " - 0s - loss: 45.3890 - val_loss: 110.6427\n",
      "Epoch 78/100\n",
      " - 0s - loss: 44.2534 - val_loss: 118.5220\n",
      "Epoch 79/100\n",
      " - 0s - loss: 43.2112 - val_loss: 117.8381\n",
      "Epoch 80/100\n",
      " - 0s - loss: 42.8849 - val_loss: 126.3624\n",
      "Epoch 81/100\n",
      " - 0s - loss: 42.2300 - val_loss: 123.3598\n",
      "Epoch 82/100\n",
      " - 0s - loss: 41.3259 - val_loss: 126.1577\n",
      "Epoch 83/100\n",
      " - 0s - loss: 41.1618 - val_loss: 109.0841\n",
      "Epoch 84/100\n",
      " - 0s - loss: 39.8132 - val_loss: 132.6763\n",
      "Epoch 85/100\n",
      " - 0s - loss: 38.8003 - val_loss: 116.3795\n",
      "Epoch 86/100\n",
      " - 0s - loss: 38.4785 - val_loss: 125.0487\n",
      "Epoch 87/100\n",
      " - 0s - loss: 37.9235 - val_loss: 127.8823\n",
      "Epoch 88/100\n",
      " - 0s - loss: 37.7182 - val_loss: 115.3512\n",
      "Epoch 89/100\n",
      " - 0s - loss: 36.6739 - val_loss: 134.6686\n",
      "Epoch 90/100\n",
      " - 0s - loss: 36.1261 - val_loss: 133.1338\n",
      "Epoch 91/100\n",
      " - 0s - loss: 36.6652 - val_loss: 136.8103\n",
      "Epoch 92/100\n",
      " - 0s - loss: 35.8540 - val_loss: 127.9951\n",
      "Epoch 93/100\n",
      " - 0s - loss: 35.3763 - val_loss: 127.3149\n",
      "Epoch 94/100\n",
      " - 0s - loss: 35.1930 - val_loss: 134.1021\n",
      "Epoch 95/100\n",
      " - 0s - loss: 34.3775 - val_loss: 131.4360\n",
      "Epoch 96/100\n",
      " - 0s - loss: 33.9270 - val_loss: 139.2821\n",
      "Epoch 97/100\n",
      " - 0s - loss: 34.1512 - val_loss: 126.0912\n",
      "Epoch 98/100\n",
      " - 0s - loss: 33.2254 - val_loss: 132.2533\n",
      "Epoch 99/100\n",
      " - 0s - loss: 33.1031 - val_loss: 131.4292\n",
      "Epoch 100/100\n",
      " - 0s - loss: 33.2694 - val_loss: 136.2996\n"
     ],
     "output_type": "stream"
    },
    {
     "data": {
      "text/plain": "<keras.callbacks.callbacks.History at 0x63e3cd890>"
     },
     "metadata": {},
     "output_type": "execute_result",
     "execution_count": 15
    }
   ],
   "source": [
    "# fit the model\n",
    "model.fit(predictors_norm, target, validation_split=0.3, epochs=100, verbose=2)\n"
   ],
   "metadata": {
    "collapsed": false,
    "pycharm": {
     "name": "#%%\n",
     "is_executing": false
    }
   }
  },
  {
   "cell_type": "markdown",
   "source": [
    "<strong>You can refer to this [link](https://keras.io/models/sequential/) to learn about other functions that you can use for prediction or evaluation.</strong>\n"
   ],
   "metadata": {
    "collapsed": false,
    "pycharm": {
     "name": "#%% md\n"
    }
   }
  },
  {
   "cell_type": "markdown",
   "source": [
    "Feel free to vary the following and note what impact each change has on the model's performance:\n",
    "\n",
    "1. Increase or decreate number of neurons in hidden layers\n",
    "2. Add more hidden layers\n",
    "3. Increase number of epochs"
   ],
   "metadata": {
    "collapsed": false,
    "pycharm": {
     "name": "#%% md\n"
    }
   }
  },
  {
   "cell_type": "markdown",
   "source": [
    "### Thank you for completing this lab!\n",
    "\n",
    "This notebook was created by [Alex Aklson](https://www.linkedin.com/in/aklson/). I hope you found this lab interesting and educational. Feel free to contact me if you have any questions!"
   ],
   "metadata": {
    "collapsed": false,
    "pycharm": {
     "name": "#%% md\n"
    }
   }
  },
  {
   "cell_type": "markdown",
   "source": [
    "This notebook is part of a course on **Coursera** called *Introduction to Deep Learning & Neural Networks with Keras*. If you accessed this notebook outside the course, you can take this course online by clicking [here](https://cocl.us/DL0101EN_Coursera_Week3_LAB1)."
   ],
   "metadata": {
    "collapsed": false,
    "pycharm": {
     "name": "#%% md\n"
    }
   }
  },
  {
   "cell_type": "markdown",
   "source": [
    "<hr>\n",
    "\n",
    "Copyright &copy; 2019 [IBM Developer Skills Network](https://cognitiveclass.ai/?utm_source=bducopyrightlink&utm_medium=dswb&utm_campaign=bdu). This notebook and its source code are released under the terms of the [MIT License](https://bigdatauniversity.com/mit-license/)."
   ],
   "metadata": {
    "collapsed": false,
    "pycharm": {
     "name": "#%% md\n"
    }
   }
  }
 ],
 "metadata": {
  "kernelspec": {
   "display_name": "Python 3",
   "language": "python",
   "name": "python3"
  },
  "language_info": {
   "codemirror_mode": {
    "name": "ipython",
    "version": 2
   },
   "file_extension": ".py",
   "mimetype": "text/x-python",
   "name": "python",
   "nbconvert_exporter": "python",
   "pygments_lexer": "ipython2",
   "version": "2.7.6"
  },
  "pycharm": {
   "stem_cell": {
    "cell_type": "raw",
    "source": [],
    "metadata": {
     "collapsed": false
    }
   }
  }
 },
 "nbformat": 4,
 "nbformat_minor": 0
}