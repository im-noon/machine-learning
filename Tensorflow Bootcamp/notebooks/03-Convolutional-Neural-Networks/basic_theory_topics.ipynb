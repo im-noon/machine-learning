{
 "cells": [
  {
   "cell_type": "markdown",
   "metadata": {},
   "source": [
    "# New Theory Topics"
   ]
  },
  {
   "cell_type": "markdown",
   "metadata": {},
   "source": [
    "## Initialization of Weights Option\n",
    "- Xavier (glorot) Initialization\n",
    "    * Unifororm/Normal\n",
    "- Draw weights from a distribution with sero mean and specific varaince\n",
    "        \n",
    "  Var(W) = $\\frac{1}{n_{in}}$"
   ]
  },
  {
   "cell_type": "markdown",
   "metadata": {},
   "source": [
    "## Gradient Descent\n",
    "- Learning rate define the step size during gradient descent\n",
    "- Batch size allow us to use stochastic gradient descent\n",
    "    - Smaller -> less representative of data\n",
    "    - Larger longer training time\n",
    "    \n",
    "- Second order behavior of gradient descent allows us to adjust our leraning rate based of the rate of descent\n",
    "    - AdaGrad\n",
    "    - RMSProp\n",
    "    - Adam\n",
    "   \n",
    " - Unsatble/Vanishing Gradients\n",
    "    - As you increas the number of layers in a network, the layer towards the input willber affected less by ther error calculation occurring at the output as you go backwards through the network\n",
    "    - Initialization and Normalization will hel us mitigate this error\n",
    "    \n",
    "- Overfitting vs Underfitting a Model\n",
    "    - Overfitting : get very low error on traing data, but large error on test data\n",
    "    - Underfitting : get high error on traning and testing data\n",
    "    \n",
    "- L1/L2 Regularization\n",
    "    - Adds a parnalty for larger weights in the model\n",
    "    - Not unique to neural network\n",
    " \n",
    "- Dropout\n",
    "    - Unique to neural network\n",
    "    - remove neurals during trantin randomly\n",
    "    \n",
    "- Expanding Data\n",
    "    - Adding noise, tilting image, adding low white noise"
   ]
  },
  {
   "cell_type": "code",
   "execution_count": null,
   "metadata": {},
   "outputs": [],
   "source": [
    "\n"
   ]
  }
 ],
 "metadata": {
  "kernelspec": {
   "display_name": "Python 3",
   "language": "python",
   "name": "python3"
  },
  "language_info": {
   "codemirror_mode": {
    "name": "ipython",
    "version": 3
   },
   "file_extension": ".py",
   "mimetype": "text/x-python",
   "name": "python",
   "nbconvert_exporter": "python",
   "pygments_lexer": "ipython3",
   "version": "3.7.3"
  }
 },
 "nbformat": 4,
 "nbformat_minor": 2
}
