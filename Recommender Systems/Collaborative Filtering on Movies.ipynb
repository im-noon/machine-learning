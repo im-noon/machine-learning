{
 "cells": [
  {
   "cell_type": "markdown",
   "metadata": {
    "collapsed": true,
    "pycharm": {
     "name": "#%% md\n"
    }
   },
   "source": [
    "<a href=\"https://www.bigdatauniversity.com\"><img src=\"https://ibm.box.com/shared/static/cw2c7r3o20w9zn8gkecaeyjhgw3xdgbj.png\" width=\"400\" align=\"center\"></a>\n",
    "\n",
    "<h1 align=\"center\"><font size=\"5\">COLLABORATIVE FILTERING</font></h1>"
   ]
  },
  {
   "cell_type": "markdown",
   "source": [
    "Recommendation systems are a collection of algorithms used to recommend items to users based on information taken from the user. These systems have become ubiquitous can be commonly seen in online stores, movies databases and job finders. In this notebook, we will explore recommendation systems based on Collaborative Filtering and implement simple version of one using Python and the Pandas library."
   ],
   "metadata": {
    "collapsed": false,
    "pycharm": {
     "name": "#%% md\n"
    }
   }
  },
  {
   "cell_type": "markdown",
   "source": [
    "<h1>Table of contents</h1>\n",
    "\n",
    "<div class=\"alert alert-block alert-info\" style=\"margin-top: 20px\">\n",
    "    <ol>\n",
    "        <li><a href=\"#ref1\">Acquiring the Data</a></li>\n",
    "        <li><a href=\"#ref2\">Preprocessing</a></li>\n",
    "        <li><a href=\"#ref3\">Collaborative Filtering</a></li>\n",
    "    </ol>\n",
    "</div>\n",
    "<br>\n",
    "<hr>"
   ],
   "metadata": {
    "collapsed": false,
    "pycharm": {
     "name": "#%% md\n"
    }
   }
  },
  {
   "cell_type": "markdown",
   "source": [
    "<a id=\"ref1\"></a>\n",
    "# Acquiring the Data"
   ],
   "metadata": {
    "collapsed": false,
    "pycharm": {
     "name": "#%% md\n"
    }
   }
  },
  {
   "cell_type": "markdown",
   "source": [
    "To acquire and extract the data, simply run the following Bash scripts:  \n",
    "Dataset acquired from [GroupLens](http://grouplens.org/datasets/movielens/). Lets download the dataset. To download the data, we will use **`!wget`** to download it from IBM Object Storage.  "
   ],
   "metadata": {
    "collapsed": false,
    "pycharm": {
     "name": "#%% md\n"
    }
   }
  },
  {
   "cell_type": "code",
   "source": [
    "!wget -O moviedataset.zip https://s3-api.us-geo.objectstorage.softlayer.net/cf-courses-data/CognitiveClass/ML0101ENv3/labs/moviedataset.zip\n",
    "print('unziping ...')\n",
    "!unzip -o -j moviedataset.zip "
   ],
   "metadata": {
    "collapsed": false,
    "pycharm": {
     "name": "#%%\n",
     "is_executing": false
    }
   },
   "execution_count": 18,
   "outputs": [
    {
     "name": "stdout",
     "text": [
      "--2019-11-26 08:15:29--  https://s3-api.us-geo.objectstorage.softlayer.net/cf-courses-data/CognitiveClass/ML0101ENv3/labs/moviedataset.zip\r\n",
      "Resolving s3-api.us-geo.objectstorage.softlayer.net... 64:ff9b::43e4:fec4, 67.228.254.196\r\nConnecting to s3-api.us-geo.objectstorage.softlayer.net|64:ff9b::43e4:fec4|:443... ",
      "connected.\r\n",
      "HTTP request sent, awaiting response... ",
      "200 OK\r\nLength: 160301210 (153M) [application/zip]\r\nSaving to: 'moviedataset.zip'\r\n\r\n\rmoviedataset.zip      0%[                    ]       0  --.-KB/s               ",
      "\rmoviedataset.zip      0%[                    ]  23.15K  69.5KB/s               ",
      "\rmoviedataset.zip      0%[                    ]  56.00K  86.9KB/s               ",
      "\rmoviedataset.zip      0%[                    ] 120.00K   127KB/s               ",
      "\rmoviedataset.zip      0%[                    ] 248.00K   197KB/s               ",
      "\rmoviedataset.zip      0%[                    ] 408.00K   239KB/s               ",
      "\rmoviedataset.zip      0%[                    ] 664.00K   339KB/s               ",
      "\rmoviedataset.zip      0%[                    ] 759.56K   346KB/s               ",
      "\rmoviedataset.zip      0%[                    ] 936.00K   387KB/s               ",
      "\rmoviedataset.zip      0%[                    ]   1.16M   450KB/s               ",
      "\rmoviedataset.zip      0%[                    ]   1.45M   515KB/s               ",
      "\rmoviedataset.zip      1%[                    ]   1.98M   652KB/s    eta 3m 57s ",
      "\rmoviedataset.zip      1%[                    ]   2.77M   850KB/s    eta 3m 57s ",
      "\rmoviedataset.zip      2%[                    ]   3.83M  1.02MB/s    eta 3m 57s ",
      "\rmoviedataset.zip      3%[                    ]   5.21M  1.31MB/s    eta 3m 57s ",
      "\rmoviedataset.zip      4%[                    ]   6.74M  1.54MB/s    eta 95s    ",
      "\rmoviedataset.zip      5%[>                   ]   8.15M  1.77MB/s    eta 95s    ",
      "\rmoviedataset.zip      6%[>                   ]   9.21M  1.92MB/s    eta 95s    ",
      "\rmoviedataset.zip      6%[>                   ]   9.68M  2.01MB/s    eta 95s    ",
      "\rmoviedataset.zip      6%[>                   ]   9.69M  2.04MB/s    eta 95s    ",
      "\rmoviedataset.zip      7%[>                   ]  11.68M  2.48MB/s    eta 68s    ",
      "\rmoviedataset.zip      7%[>                   ]  11.70M  2.49MB/s    eta 68s    ",
      "\rmoviedataset.zip      7%[>                   ]  11.73M  2.59MB/s    eta 68s    ",
      "\rmoviedataset.zip      7%[>                   ]  11.79M  2.56MB/s    eta 68s    ",
      "\rmoviedataset.zip      7%[>                   ]  11.91M  2.55MB/s    eta 68s    ",
      "\rmoviedataset.zip      7%[>                   ]  12.07M  2.42MB/s    eta 82s    ",
      "\rmoviedataset.zip      8%[>                   ]  12.71M  2.46MB/s    eta 82s    ",
      "\rmoviedataset.zip      8%[>                   ]  12.98M  2.42MB/s    eta 82s    ",
      "\rmoviedataset.zip      8%[>                   ]  13.02M  2.30MB/s    eta 82s    ",
      "\rmoviedataset.zip      9%[>                   ]  13.98M  2.37MB/s    eta 81s    ",
      "\rmoviedataset.zip      9%[>                   ]  14.43M  2.33MB/s    eta 81s    ",
      "\rmoviedataset.zip      9%[>                   ]  14.90M  2.20MB/s    eta 81s    ",
      "\rmoviedataset.zip     10%[=>                  ]  15.38M  2.29MB/s    eta 81s    ",
      "\rmoviedataset.zip     10%[=>                  ]  15.87M  1.87MB/s    eta 81s    ",
      "\rmoviedataset.zip     10%[=>                  ]  16.35M  1.98MB/s    eta 77s    ",
      "\rmoviedataset.zip     11%[=>                  ]  16.87M  1.99MB/s    eta 77s    ",
      "\rmoviedataset.zip     11%[=>                  ]  17.38M  1.68MB/s    eta 77s    ",
      "\r",
      "moviedataset.zip     11%[=>                  ]  17.90M  1.79MB/s    eta 77s    ",
      "\rmoviedataset.zip     11%[=>                  ]  18.32M  1.46MB/s    eta 77s    ",
      "\rmoviedataset.zip     12%[=>                  ]  18.70M  1.62MB/s    eta 74s    ",
      "\rmoviedataset.zip     12%[=>                  ]  19.24M  1.73MB/s    eta 74s    ",
      "\rmoviedataset.zip     12%[=>                  ]  19.77M  2.01MB/s    eta 74s    ",
      "\rmoviedataset.zip     13%[=>                  ]  20.32M  2.03MB/s    eta 74s    ",
      "\rmoviedataset.zip     13%[=>                  ]  20.87M  2.14MB/s    eta 74s    ",
      "\rmoviedataset.zip     14%[=>                  ]  21.42M  2.29MB/s    eta 71s    ",
      "\rmoviedataset.zip     14%[=>                  ]  21.94M  2.07MB/s    eta 71s    ",
      "\rmoviedataset.zip     14%[=>                  ]  22.55M  2.12MB/s    eta 71s    ",
      "\rmoviedataset.zip     15%[==>                 ]  23.00M  2.07MB/s    eta 71s    ",
      "\rmoviedataset.zip     15%[==>                 ]  23.46M  2.10MB/s    eta 70s    ",
      "\rmoviedataset.zip     15%[==>                 ]  23.93M  2.06MB/s    eta 70s    ",
      "\rmoviedataset.zip     15%[==>                 ]  24.38M  2.05MB/s    eta 70s    ",
      "\rmoviedataset.zip     16%[==>                 ]  24.85M  2.08MB/s    eta 70s    ",
      "\rmoviedataset.zip     16%[==>                 ]  25.32M  2.05MB/s    eta 70s    ",
      "\rmoviedataset.zip     16%[==>                 ]  25.80M  2.07MB/s    eta 68s    ",
      "\rmoviedataset.zip     17%[==>                 ]  26.29M  2.04MB/s    eta 68s    ",
      "\rmoviedataset.zip     17%[==>                 ]  26.79M  2.04MB/s    eta 68s    ",
      "\rmoviedataset.zip     17%[==>                 ]  27.27M  2.08MB/s    eta 68s    ",
      "\rmoviedataset.zip     18%[==>                 ]  27.68M  2.03MB/s    eta 68s    ",
      "\rmoviedataset.zip     18%[==>                 ]  27.98M  2.02MB/s    eta 67s    ",
      "\rmoviedataset.zip     18%[==>                 ]  28.47M  2.02MB/s    eta 67s    ",
      "\rmoviedataset.zip     18%[==>                 ]  28.93M  2.00MB/s    eta 67s    ",
      "\rmoviedataset.zip     19%[==>                 ]  29.35M  1.97MB/s    eta 67s    ",
      "\rmoviedataset.zip     19%[==>                 ]  29.82M  2.09MB/s    eta 67s    ",
      "\rmoviedataset.zip     19%[==>                 ]  30.16M  2.01MB/s    eta 65s    ",
      "\rmoviedataset.zip     19%[==>                 ]  30.55M  1.98MB/s    eta 65s    ",
      "\rmoviedataset.zip     20%[===>                ]  31.05M  2.00MB/s    eta 65s    ",
      "\rmoviedataset.zip     20%[===>                ]  31.55M  2.03MB/s    eta 65s    ",
      "\r",
      "moviedataset.zip     20%[===>                ]  32.07M  2.04MB/s    eta 65s    ",
      "\rmoviedataset.zip     21%[===>                ]  32.57M  2.05MB/s    eta 63s    ",
      "\rmoviedataset.zip     21%[===>                ]  33.07M  2.06MB/s    eta 63s    ",
      "\rmoviedataset.zip     21%[===>                ]  33.57M  2.07MB/s    eta 63s    ",
      "\rmoviedataset.zip     22%[===>                ]  34.08M  2.07MB/s    eta 63s    ",
      "\rmoviedataset.zip     22%[===>                ]  34.59M  2.06MB/s    eta 63s    ",
      "\rmoviedataset.zip     22%[===>                ]  35.09M  2.11MB/s    eta 61s    ",
      "\rmoviedataset.zip     23%[===>                ]  35.58M  2.09MB/s    eta 61s    ",
      "\rmoviedataset.zip     23%[===>                ]  36.10M  2.13MB/s    eta 61s    ",
      "\rmoviedataset.zip     23%[===>                ]  36.60M  2.13MB/s    eta 61s    ",
      "\rmoviedataset.zip     24%[===>                ]  37.10M  2.13MB/s    eta 61s    ",
      "\rmoviedataset.zip     24%[===>                ]  37.54M  2.14MB/s    eta 59s    ",
      "\rmoviedataset.zip     24%[===>                ]  37.99M  2.18MB/s    eta 59s    ",
      "\rmoviedataset.zip     25%[====>               ]  38.47M  2.17MB/s    eta 59s    ",
      "\rmoviedataset.zip     25%[====>               ]  38.86M  2.21MB/s    eta 59s    ",
      "\rmoviedataset.zip     25%[====>               ]  39.33M  2.22MB/s    eta 59s    ",
      "\rmoviedataset.zip     26%[====>               ]  39.82M  2.22MB/s    eta 58s    ",
      "\rmoviedataset.zip     26%[====>               ]  40.29M  2.23MB/s    eta 58s    ",
      "\rmoviedataset.zip     26%[====>               ]  40.77M  2.24MB/s    eta 58s    ",
      "\rmoviedataset.zip     26%[====>               ]  41.22M  2.18MB/s    eta 58s    ",
      "\rmoviedataset.zip     27%[====>               ]  41.70M  2.25MB/s    eta 58s    ",
      "\rmoviedataset.zip     27%[====>               ]  42.13M  2.20MB/s    eta 56s    ",
      "\rmoviedataset.zip     27%[====>               ]  42.60M  2.25MB/s    eta 56s    ",
      "\rmoviedataset.zip     28%[====>               ]  43.01M  2.22MB/s    eta 56s    ",
      "\rmoviedataset.zip     28%[====>               ]  43.46M  2.24MB/s    eta 56s    ",
      "\rmoviedataset.zip     28%[====>               ]  43.96M  2.24MB/s    eta 56s    ",
      "\rmoviedataset.zip     29%[====>               ]  44.45M  2.24MB/s    eta 55s    ",
      "\rmoviedataset.zip     29%[====>               ]  44.94M  2.26MB/s    eta 55s    ",
      "\r",
      "moviedataset.zip     29%[====>               ]  45.41M  2.25MB/s    eta 55s    ",
      "\rmoviedataset.zip     30%[=====>              ]  45.89M  2.26MB/s    eta 55s    ",
      "\rmoviedataset.zip     30%[=====>              ]  46.30M  2.24MB/s    eta 55s    ",
      "\rmoviedataset.zip     30%[=====>              ]  46.66M  2.21MB/s    eta 53s    ",
      "\rmoviedataset.zip     30%[=====>              ]  47.16M  2.24MB/s    eta 53s    ",
      "\rmoviedataset.zip     31%[=====>              ]  47.68M  2.24MB/s    eta 53s    ",
      "\rmoviedataset.zip     31%[=====>              ]  48.19M  2.25MB/s    eta 53s    ",
      "\rmoviedataset.zip     31%[=====>              ]  48.70M  2.26MB/s    eta 53s    ",
      "\rmoviedataset.zip     32%[=====>              ]  49.15M  2.27MB/s    eta 52s    ",
      "\rmoviedataset.zip     32%[=====>              ]  49.65M  2.27MB/s    eta 52s    ",
      "\rmoviedataset.zip     32%[=====>              ]  49.90M  2.20MB/s    eta 52s    ",
      "\rmoviedataset.zip     32%[=====>              ]  50.33M  2.21MB/s    eta 52s    ",
      "\rmoviedataset.zip     33%[=====>              ]  50.85M  2.20MB/s    eta 52s    ",
      "\rmoviedataset.zip     33%[=====>              ]  51.37M  2.21MB/s    eta 51s    ",
      "\rmoviedataset.zip     33%[=====>              ]  51.89M  2.21MB/s    eta 51s    ",
      "\rmoviedataset.zip     34%[=====>              ]  52.41M  2.23MB/s    eta 51s    ",
      "\rmoviedataset.zip     34%[=====>              ]  52.93M  2.22MB/s    eta 51s    ",
      "\rmoviedataset.zip     34%[=====>              ]  53.38M  2.21MB/s    eta 51s    ",
      "\rmoviedataset.zip     35%[======>             ]  53.71M  2.17MB/s    eta 49s    ",
      "\rmoviedataset.zip     35%[======>             ]  54.23M  2.17MB/s    eta 49s    ",
      "\rmoviedataset.zip     35%[======>             ]  54.72M  2.23MB/s    eta 49s    ",
      "\rmoviedataset.zip     36%[======>             ]  55.21M  2.20MB/s    eta 49s    ",
      "\rmoviedataset.zip     36%[======>             ]  55.74M  2.27MB/s    eta 49s    ",
      "\rmoviedataset.zip     36%[======>             ]  56.16M  2.22MB/s    eta 48s    ",
      "\rmoviedataset.zip     36%[======>             ]  56.52M  2.18MB/s    eta 48s    ",
      "\rmoviedataset.zip     37%[======>             ]  57.01M  2.23MB/s    eta 48s    ",
      "\rmoviedataset.zip     37%[======>             ]  57.49M  2.19MB/s    eta 48s    ",
      "\rmoviedataset.zip     37%[======>             ]  57.99M  2.26MB/s    eta 48s    ",
      "\rmoviedataset.zip     38%[======>             ]  58.47M  2.26MB/s    eta 46s    ",
      "\rmoviedataset.zip     38%[======>             ]  58.99M  2.28MB/s    eta 46s    ",
      "\rmoviedataset.zip     38%[======>             ]  59.52M  2.26MB/s    eta 46s    ",
      "\rmoviedataset.zip     39%[======>             ]  60.05M  2.26MB/s    eta 46s    ",
      "\rmoviedataset.zip     39%[======>             ]  60.57M  2.29MB/s    eta 46s    ",
      "\rmoviedataset.zip     39%[======>             ]  60.99M  2.24MB/s    eta 45s    ",
      "\rmoviedataset.zip     40%[=======>            ]  61.48M  2.30MB/s    eta 45s    ",
      "\rmoviedataset.zip     40%[=======>            ]  61.97M  2.25MB/s    eta 45s    ",
      "\rmoviedataset.zip     40%[=======>            ]  62.41M  2.30MB/s    eta 45s    ",
      "\rmoviedataset.zip     41%[=======>            ]  62.93M  2.27MB/s    eta 45s    ",
      "\rmoviedataset.zip     41%[=======>            ]  63.46M  2.29MB/s    eta 44s    ",
      "\rmoviedataset.zip     41%[=======>            ]  63.99M  2.25MB/s    eta 44s    ",
      "\rmoviedataset.zip     42%[=======>            ]  64.52M  2.30MB/s    eta 44s    ",
      "\rmoviedataset.zip     42%[=======>            ]  65.07M  2.30MB/s    eta 44s    ",
      "\rmoviedataset.zip     42%[=======>            ]  65.60M  2.31MB/s    eta 44s    ",
      "\rmoviedataset.zip     43%[=======>            ]  66.13M  2.30MB/s    eta 42s    ",
      "\rmoviedataset.zip     43%[=======>            ]  66.67M  2.33MB/s    eta 42s    ",
      "\rmoviedataset.zip     43%[=======>            ]  67.21M  2.33MB/s    eta 42s    ",
      "\rmoviedataset.zip     44%[=======>            ]  67.72M  2.34MB/s    eta 42s    ",
      "\rmoviedataset.zip     44%[=======>            ]  68.17M  2.32MB/s    eta 42s    ",
      "\rmoviedataset.zip     44%[=======>            ]  68.55M  2.32MB/s    eta 41s    ",
      "\rmoviedataset.zip     45%[========>           ]  69.02M  2.31MB/s    eta 41s    ",
      "\rmoviedataset.zip     45%[========>           ]  69.55M  2.29MB/s    eta 41s    ",
      "\rmoviedataset.zip     45%[========>           ]  70.09M  2.34MB/s    eta 41s    ",
      "\rmoviedataset.zip     46%[========>           ]  70.55M  2.33MB/s    eta 41s    ",
      "\rmoviedataset.zip     46%[========>           ]  71.05M  2.33MB/s    eta 39s    ",
      "\rmoviedataset.zip     46%[========>           ]  71.59M  2.34MB/s    eta 39s    ",
      "\rmoviedataset.zip     47%[========>           ]  72.13M  2.33MB/s    eta 39s    ",
      "\rmoviedataset.zip     47%[========>           ]  72.66M  2.32MB/s    eta 39s    ",
      "\rmoviedataset.zip     47%[========>           ]  73.21M  2.34MB/s    eta 39s    ",
      "\rmoviedataset.zip     48%[========>           ]  73.74M  2.34MB/s    eta 38s    ",
      "\rmoviedataset.zip     48%[========>           ]  74.24M  2.32MB/s    eta 38s    ",
      "\rmoviedataset.zip     48%[========>           ]  74.67M  2.31MB/s    eta 38s    ",
      "\rmoviedataset.zip     49%[========>           ]  75.21M  2.33MB/s    eta 38s    ",
      "\rmoviedataset.zip     49%[========>           ]  75.69M  2.31MB/s    eta 38s    ",
      "\rmoviedataset.zip     49%[========>           ]  76.21M  2.36MB/s    eta 37s    ",
      "\rmoviedataset.zip     50%[=========>          ]  76.66M  2.30MB/s    eta 37s    ",
      "\rmoviedataset.zip     50%[=========>          ]  77.21M  2.35MB/s    eta 37s    ",
      "\rmoviedataset.zip     50%[=========>          ]  77.75M  2.34MB/s    eta 37s    ",
      "\rmoviedataset.zip     51%[=========>          ]  78.16M  2.33MB/s    eta 37s    ",
      "\rmoviedataset.zip     51%[=========>          ]  78.64M  2.32MB/s    eta 35s    ",
      "\rmoviedataset.zip     51%[=========>          ]  79.25M  2.35MB/s    eta 35s    ",
      "\rmoviedataset.zip     52%[=========>          ]  79.71M  2.34MB/s    eta 35s    ",
      "\rmoviedataset.zip     52%[=========>          ]  80.22M  2.34MB/s    eta 35s    ",
      "\rmoviedataset.zip     52%[=========>          ]  80.77M  2.34MB/s    eta 35s    ",
      "\rmoviedataset.zip     53%[=========>          ]  81.32M  2.37MB/s    eta 34s    ",
      "\rmoviedataset.zip     53%[=========>          ]  81.86M  2.34MB/s    eta 34s    ",
      "\rmoviedataset.zip     53%[=========>          ]  82.41M  2.38MB/s    eta 34s    ",
      "\rmoviedataset.zip     54%[=========>          ]  82.96M  2.36MB/s    eta 34s    ",
      "\rmoviedataset.zip     54%[=========>          ]  83.51M  2.35MB/s    eta 34s    ",
      "\rmoviedataset.zip     54%[=========>          ]  84.05M  2.38MB/s    eta 32s    ",
      "\rmoviedataset.zip     55%[==========>         ]  84.60M  2.39MB/s    eta 32s    ",
      "\rmoviedataset.zip     55%[==========>         ]  85.00M  2.36MB/s    eta 32s    ",
      "\rmoviedataset.zip     55%[==========>         ]  85.58M  2.40MB/s    eta 32s    ",
      "\rmoviedataset.zip     56%[==========>         ]  86.11M  2.43MB/s    eta 32s    ",
      "\rmoviedataset.zip     56%[==========>         ]  86.60M  2.44MB/s    eta 31s    ",
      "\rmoviedataset.zip     56%[==========>         ]  87.13M  2.41MB/s    eta 31s    ",
      "\rmoviedataset.zip     57%[==========>         ]  87.46M  2.35MB/s    eta 31s    ",
      "\rmoviedataset.zip     57%[==========>         ]  88.02M  2.37MB/s    eta 31s    ",
      "\rmoviedataset.zip     57%[==========>         ]  88.58M  2.38MB/s    eta 31s    ",
      "\rmoviedataset.zip     58%[==========>         ]  89.13M  2.36MB/s    eta 30s    ",
      "\rmoviedataset.zip     58%[==========>         ]  89.69M  2.39MB/s    eta 30s    ",
      "\rmoviedataset.zip     59%[==========>         ]  90.24M  2.39MB/s    eta 30s    ",
      "\rmoviedataset.zip     59%[==========>         ]  90.77M  2.39MB/s    eta 30s    ",
      "\rmoviedataset.zip     59%[==========>         ]  91.22M  2.36MB/s    eta 30s    ",
      "\rmoviedataset.zip     60%[===========>        ]  91.75M  2.39MB/s    eta 29s    ",
      "\rmoviedataset.zip     60%[===========>        ]  92.21M  2.36MB/s    eta 29s    ",
      "\rmoviedataset.zip     60%[===========>        ]  92.62M  2.32MB/s    eta 29s    ",
      "\rmoviedataset.zip     60%[===========>        ]  93.18M  2.32MB/s    eta 29s    ",
      "\rmoviedataset.zip     61%[===========>        ]  93.74M  2.34MB/s    eta 29s    ",
      "\r",
      "moviedataset.zip     61%[===========>        ]  94.30M  2.31MB/s    eta 27s    ",
      "\rmoviedataset.zip     62%[===========>        ]  94.86M  2.34MB/s    eta 27s    ",
      "\rmoviedataset.zip     62%[===========>        ]  95.43M  2.33MB/s    eta 27s    ",
      "\rmoviedataset.zip     62%[===========>        ]  95.99M  2.33MB/s    eta 27s    ",
      "\rmoviedataset.zip     63%[===========>        ]  96.57M  2.38MB/s    eta 27s    ",
      "\r",
      "moviedataset.zip     63%[===========>        ]  97.13M  2.35MB/s    eta 26s    ",
      "\rmoviedataset.zip     63%[===========>        ]  97.55M  2.36MB/s    eta 26s    ",
      "\rmoviedataset.zip     64%[===========>        ]  97.94M  2.28MB/s    eta 26s    ",
      "\rmoviedataset.zip     64%[===========>        ]  98.50M  2.32MB/s    eta 26s    ",
      "\rmoviedataset.zip     64%[===========>        ]  99.07M  2.32MB/s    eta 26s    ",
      "\rmoviedataset.zip     65%[============>       ]  99.63M  2.34MB/s    eta 25s    ",
      "\rmoviedataset.zip     65%[============>       ] 100.07M  2.34MB/s    eta 25s    ",
      "\rmoviedataset.zip     65%[============>       ] 100.64M  2.35MB/s    eta 25s    ",
      "\rmoviedataset.zip     66%[============>       ] 101.21M  2.37MB/s    eta 25s    ",
      "\rmoviedataset.zip     66%[============>       ] 101.79M  2.37MB/s    eta 25s    ",
      "\rmoviedataset.zip     66%[============>       ] 102.35M  2.36MB/s    eta 23s    ",
      "\rmoviedataset.zip     67%[============>       ] 102.91M  2.43MB/s    eta 23s    ",
      "\rmoviedataset.zip     67%[============>       ] 103.30M  2.39MB/s    eta 23s    ",
      "\rmoviedataset.zip     67%[============>       ] 103.83M  2.39MB/s    eta 23s    ",
      "\rmoviedataset.zip     68%[============>       ] 104.39M  2.42MB/s    eta 23s    ",
      "\rmoviedataset.zip     68%[============>       ] 104.97M  2.39MB/s    eta 22s    ",
      "\rmoviedataset.zip     69%[============>       ] 105.54M  2.44MB/s    eta 22s    ",
      "\rmoviedataset.zip     69%[============>       ] 106.11M  2.43MB/s    eta 22s    ",
      "\rmoviedataset.zip     69%[============>       ] 106.65M  2.46MB/s    eta 22s    ",
      "\rmoviedataset.zip     70%[=============>      ] 107.15M  2.45MB/s    eta 22s    ",
      "\rmoviedataset.zip     70%[=============>      ] 107.69M  2.50MB/s    eta 21s    ",
      "\rmoviedataset.zip     70%[=============>      ] 107.73M  2.22MB/s    eta 21s    ",
      "\rmoviedataset.zip     71%[=============>      ] 109.05M  2.41MB/s    eta 21s    ",
      "\rmoviedataset.zip     71%[=============>      ] 109.63M  2.45MB/s    eta 21s    ",
      "\rmoviedataset.zip     72%[=============>      ] 110.21M  2.44MB/s    eta 20s    ",
      "\rmoviedataset.zip     72%[=============>      ] 110.77M  2.48MB/s    eta 20s    ",
      "\rmoviedataset.zip     72%[=============>      ] 111.23M  2.46MB/s    eta 20s    ",
      "\rmoviedataset.zip     73%[=============>      ] 111.66M  2.43MB/s    eta 20s    ",
      "\rmoviedataset.zip     73%[=============>      ] 112.24M  2.41MB/s    eta 20s    ",
      "\rmoviedataset.zip     73%[=============>      ] 112.82M  2.44MB/s    eta 18s    ",
      "\rmoviedataset.zip     74%[=============>      ] 113.39M  2.43MB/s    eta 18s    ",
      "\rmoviedataset.zip     74%[=============>      ] 113.97M  2.41MB/s    eta 18s    ",
      "\rmoviedataset.zip     74%[=============>      ] 114.55M  2.43MB/s    eta 18s    ",
      "\r",
      "moviedataset.zip     75%[==============>     ] 115.12M  2.42MB/s    eta 18s    ",
      "\rmoviedataset.zip     75%[==============>     ] 115.69M  2.48MB/s    eta 17s    ",
      "\rmoviedataset.zip     76%[==============>     ] 116.27M  2.46MB/s    eta 17s    ",
      "\rmoviedataset.zip     76%[==============>     ] 116.78M  2.72MB/s    eta 17s    ",
      "\r",
      "moviedataset.zip     76%[==============>     ] 117.14M  2.43MB/s    eta 17s    ",
      "\rmoviedataset.zip     76%[==============>     ] 117.69M  2.44MB/s    eta 17s    ",
      "\rmoviedataset.zip     77%[==============>     ] 118.25M  2.46MB/s    eta 16s    ",
      "\rmoviedataset.zip     77%[==============>     ] 118.72M  2.44MB/s    eta 16s    ",
      "\rmoviedataset.zip     78%[==============>     ] 119.30M  2.48MB/s    eta 16s    ",
      "\rmoviedataset.zip     78%[==============>     ] 119.68M  2.46MB/s    eta 16s    ",
      "\rmoviedataset.zip     78%[==============>     ] 120.22M  2.43MB/s    eta 16s    ",
      "\rmoviedataset.zip     79%[==============>     ] 120.80M  2.47MB/s    eta 15s    ",
      "\rmoviedataset.zip     79%[==============>     ] 121.40M  2.44MB/s    eta 15s    ",
      "\rmoviedataset.zip     79%[==============>     ] 121.98M  2.43MB/s    eta 15s    ",
      "\rmoviedataset.zip     80%[===============>    ] 122.57M  2.48MB/s    eta 15s    ",
      "\rmoviedataset.zip     80%[===============>    ] 123.16M  2.45MB/s    eta 15s    ",
      "\rmoviedataset.zip     80%[===============>    ] 123.56M  2.49MB/s    eta 13s    ",
      "\rmoviedataset.zip     81%[===============>    ] 124.02M  2.42MB/s    eta 13s    ",
      "\rmoviedataset.zip     81%[===============>    ] 124.61M  2.48MB/s    eta 13s    ",
      "\rmoviedataset.zip     81%[===============>    ] 125.18M  2.47MB/s    eta 13s    ",
      "\rmoviedataset.zip     82%[===============>    ] 125.62M  2.49MB/s    eta 13s    ",
      "\rmoviedataset.zip     82%[===============>    ] 126.19M  2.46MB/s    eta 12s    ",
      "\rmoviedataset.zip     82%[===============>    ] 126.72M  2.49MB/s    eta 12s    ",
      "\rmoviedataset.zip     83%[===============>    ] 127.16M  2.46MB/s    eta 12s    ",
      "\rmoviedataset.zip     83%[===============>    ] 127.68M  2.47MB/s    eta 12s    ",
      "\rmoviedataset.zip     83%[===============>    ] 128.22M  2.49MB/s    eta 12s    ",
      "\rmoviedataset.zip     84%[===============>    ] 128.80M  2.49MB/s    eta 11s    ",
      "\rmoviedataset.zip     84%[===============>    ] 129.39M  2.46MB/s    eta 11s    ",
      "\rmoviedataset.zip     84%[===============>    ] 129.89M  2.49MB/s    eta 11s    ",
      "\rmoviedataset.zip     85%[================>   ] 130.35M  2.41MB/s    eta 11s    ",
      "\rmoviedataset.zip     85%[================>   ] 130.94M  2.48MB/s    eta 11s    ",
      "\rmoviedataset.zip     86%[================>   ] 131.53M  2.45MB/s    eta 10s    ",
      "\rmoviedataset.zip     86%[================>   ] 132.00M  2.48MB/s    eta 10s    ",
      "\rmoviedataset.zip     86%[================>   ] 132.57M  2.45MB/s    eta 10s    ",
      "\rmoviedataset.zip     87%[================>   ] 133.16M  2.45MB/s    eta 10s    ",
      "\rmoviedataset.zip     87%[================>   ] 133.76M  2.47MB/s    eta 10s    ",
      "\rmoviedataset.zip     87%[================>   ] 134.18M  2.50MB/s    eta 8s     ",
      "\rmoviedataset.zip     88%[================>   ] 134.65M  2.45MB/s    eta 8s     ",
      "\rmoviedataset.zip     88%[================>   ] 135.24M  2.47MB/s    eta 8s     ",
      "\rmoviedataset.zip     88%[================>   ] 135.83M  2.46MB/s    eta 8s     ",
      "\rmoviedataset.zip     89%[================>   ] 136.44M  2.47MB/s    eta 8s     ",
      "\rmoviedataset.zip     89%[================>   ] 137.04M  2.47MB/s    eta 7s     ",
      "\rmoviedataset.zip     90%[=================>  ] 137.63M  2.51MB/s    eta 7s     ",
      "\rmoviedataset.zip     90%[=================>  ] 137.98M  2.46MB/s    eta 7s     ",
      "\rmoviedataset.zip     90%[=================>  ] 138.43M  2.42MB/s    eta 7s     ",
      "\rmoviedataset.zip     90%[=================>  ] 139.03M  2.42MB/s    eta 7s     ",
      "\rmoviedataset.zip     91%[=================>  ] 139.63M  2.39MB/s    eta 6s     ",
      "\rmoviedataset.zip     91%[=================>  ] 140.22M  2.45MB/s    eta 6s     ",
      "\rmoviedataset.zip     92%[=================>  ] 140.83M  2.46MB/s    eta 6s     ",
      "\rmoviedataset.zip     92%[=================>  ] 141.42M  2.43MB/s    eta 6s     ",
      "\rmoviedataset.zip     92%[=================>  ] 141.85M  2.46MB/s    eta 6s     ",
      "\rmoviedataset.zip     93%[=================>  ] 142.18M  2.38MB/s    eta 5s     ",
      "\r",
      "moviedataset.zip     93%[=================>  ] 142.79M  2.44MB/s    eta 5s     ",
      "\rmoviedataset.zip     93%[=================>  ] 143.38M  2.41MB/s    eta 5s     ",
      "\rmoviedataset.zip     94%[=================>  ] 143.97M  2.40MB/s    eta 5s     ",
      "\rmoviedataset.zip     94%[=================>  ] 144.58M  2.42MB/s    eta 5s     ",
      "\rmoviedataset.zip     94%[=================>  ] 145.18M  2.47MB/s    eta 3s     ",
      "\rmoviedataset.zip     95%[==================> ] 145.79M  2.47MB/s    eta 3s     ",
      "\rmoviedataset.zip     95%[==================> ] 146.39M  2.49MB/s    eta 3s     ",
      "\rmoviedataset.zip     96%[==================> ] 146.87M  2.48MB/s    eta 3s     ",
      "\rmoviedataset.zip     96%[==================> ] 147.41M  2.47MB/s    eta 3s     ",
      "\rmoviedataset.zip     96%[==================> ] 147.97M  2.56MB/s    eta 2s     ",
      "\rmoviedataset.zip     97%[==================> ] 148.57M  2.57MB/s    eta 2s     ",
      "\rmoviedataset.zip     97%[==================> ] 148.97M  2.53MB/s    eta 2s     ",
      "\rmoviedataset.zip     97%[==================> ] 149.49M  2.52MB/s    eta 2s     ",
      "\rmoviedataset.zip     98%[==================> ] 150.08M  2.55MB/s    eta 2s     ",
      "\rmoviedataset.zip     98%[==================> ] 150.69M  2.59MB/s    eta 1s     ",
      "\rmoviedataset.zip     98%[==================> ] 151.30M  2.55MB/s    eta 1s     ",
      "\rmoviedataset.zip     99%[==================> ] 151.92M  2.62MB/s    eta 1s     ",
      "\rmoviedataset.zip     99%[==================> ] 152.53M  2.60MB/s    eta 1s     ",
      "\rmoviedataset.zip    100%[===================>] 152.88M  2.59MB/s    in 68s     \r\n\r\n2019-11-26 08:16:38 (2.25 MB/s) - 'moviedataset.zip' saved [160301210/160301210]\r\n\r\n",
      "unziping ...\n",
      "Archive:  moviedataset.zip\r\n  inflating: links.csv               ",
      "\r\n  inflating: movies.csv              ",
      "\r\n  inflating: ratings.csv             ",
      "\r\n  inflating: README.txt              \r\n  inflating: tags.csv                ",
      "\r\n"
     ],
     "output_type": "stream"
    }
   ]
  },
  {
   "cell_type": "markdown",
   "source": [
    "Now you're ready to start working with the data!"
   ],
   "metadata": {
    "collapsed": false,
    "pycharm": {
     "name": "#%% md\n"
    }
   }
  },
  {
   "cell_type": "markdown",
   "source": [
    "<hr>\n",
    "\n",
    "<a id=\"ref2\"></a>\n",
    "# Preprocessing"
   ],
   "metadata": {
    "collapsed": false,
    "pycharm": {
     "name": "#%% md\n"
    }
   }
  },
  {
   "cell_type": "markdown",
   "source": [
    "First, let's get all of the imports out of the way:"
   ],
   "metadata": {
    "collapsed": false,
    "pycharm": {
     "name": "#%% md\n"
    }
   }
  },
  {
   "cell_type": "code",
   "source": [
    "#Dataframe manipulation library\n",
    "import pandas as pd\n",
    "#Math functions, we'll only need the sqrt function so let's import only that\n",
    "from math import sqrt\n",
    "import numpy as np\n",
    "import matplotlib.pyplot as plt\n",
    "%matplotlib inline"
   ],
   "metadata": {
    "collapsed": false,
    "pycharm": {
     "name": "#%%\n",
     "is_executing": false
    }
   },
   "execution_count": 19,
   "outputs": []
  },
  {
   "cell_type": "markdown",
   "source": [
    "Now let's read each file into their Dataframes:"
   ],
   "metadata": {
    "collapsed": false,
    "pycharm": {
     "name": "#%% md\n"
    }
   }
  },
  {
   "cell_type": "code",
   "execution_count": 20,
   "outputs": [],
   "source": [
    "#Storing the movie information into a pandas dataframe\n",
    "movies_df = pd.read_csv('movies.csv')\n",
    "#Storing the user information into a pandas dataframe\n",
    "ratings_df = pd.read_csv('ratings.csv')"
   ],
   "metadata": {
    "collapsed": false,
    "pycharm": {
     "name": "#%%\n",
     "is_executing": false
    }
   }
  },
  {
   "cell_type": "markdown",
   "source": [
    "Let's also take a peek at how each of them are organized:"
   ],
   "metadata": {
    "collapsed": false,
    "pycharm": {
     "name": "#%% md\n"
    }
   }
  },
  {
   "cell_type": "code",
   "execution_count": 21,
   "outputs": [
    {
     "data": {
      "text/plain": "   movieId                               title  \\\n0        1                    Toy Story (1995)   \n1        2                      Jumanji (1995)   \n2        3             Grumpier Old Men (1995)   \n3        4            Waiting to Exhale (1995)   \n4        5  Father of the Bride Part II (1995)   \n\n                                        genres  \n0  Adventure|Animation|Children|Comedy|Fantasy  \n1                   Adventure|Children|Fantasy  \n2                               Comedy|Romance  \n3                         Comedy|Drama|Romance  \n4                                       Comedy  ",
      "text/html": "<div>\n<style scoped>\n    .dataframe tbody tr th:only-of-type {\n        vertical-align: middle;\n    }\n\n    .dataframe tbody tr th {\n        vertical-align: top;\n    }\n\n    .dataframe thead th {\n        text-align: right;\n    }\n</style>\n<table border=\"1\" class=\"dataframe\">\n  <thead>\n    <tr style=\"text-align: right;\">\n      <th></th>\n      <th>movieId</th>\n      <th>title</th>\n      <th>genres</th>\n    </tr>\n  </thead>\n  <tbody>\n    <tr>\n      <th>0</th>\n      <td>1</td>\n      <td>Toy Story (1995)</td>\n      <td>Adventure|Animation|Children|Comedy|Fantasy</td>\n    </tr>\n    <tr>\n      <th>1</th>\n      <td>2</td>\n      <td>Jumanji (1995)</td>\n      <td>Adventure|Children|Fantasy</td>\n    </tr>\n    <tr>\n      <th>2</th>\n      <td>3</td>\n      <td>Grumpier Old Men (1995)</td>\n      <td>Comedy|Romance</td>\n    </tr>\n    <tr>\n      <th>3</th>\n      <td>4</td>\n      <td>Waiting to Exhale (1995)</td>\n      <td>Comedy|Drama|Romance</td>\n    </tr>\n    <tr>\n      <th>4</th>\n      <td>5</td>\n      <td>Father of the Bride Part II (1995)</td>\n      <td>Comedy</td>\n    </tr>\n  </tbody>\n</table>\n</div>"
     },
     "metadata": {},
     "output_type": "execute_result",
     "execution_count": 21
    }
   ],
   "source": [
    "#Head is a function that gets the first N rows of a dataframe. N's default is 5.\n",
    "movies_df.head()"
   ],
   "metadata": {
    "collapsed": false,
    "pycharm": {
     "name": "#%%\n",
     "is_executing": false
    }
   }
  },
  {
   "cell_type": "markdown",
   "source": [
    "So each movie has a unique ID, a title with its release year along with it (Which may contain unicode characters) and several different genres in the same field. Let's remove the year from the title column and place it into its own one by using the handy [extract](http://pandas.pydata.org/pandas-docs/stable/generated/pandas.Series.str.extract.html#pandas.Series.str.extract) function that Pandas has."
   ],
   "metadata": {
    "collapsed": false,
    "pycharm": {
     "name": "#%% md\n"
    }
   }
  },
  {
   "cell_type": "markdown",
   "source": [
    "Let's remove the year from the __title__ column by using pandas' replace function and store in a new __year__ column."
   ],
   "metadata": {
    "collapsed": false,
    "pycharm": {
     "name": "#%% md\n"
    }
   }
  },
  {
   "cell_type": "code",
   "source": [
    "#Using regular expressions to find a year stored between parentheses\n",
    "#We specify the parantheses so we don't conflict with movies that have years in their titles\n",
    "movies_df['year'] = movies_df.title.str.extract('(\\(\\d\\d\\d\\d\\))',expand=False)\n",
    "#Removing the parentheses\n",
    "movies_df['year'] = movies_df.year.str.extract('(\\d\\d\\d\\d)',expand=False)\n",
    "#Removing the years from the 'title' column\n",
    "movies_df['title'] = movies_df.title.str.replace('(\\(\\d\\d\\d\\d\\))', '')\n",
    "#Applying the strip function to get rid of any ending whitespace characters that may have appeared\n",
    "movies_df['title'] = movies_df['title'].apply(lambda x: x.strip())"
   ],
   "metadata": {
    "collapsed": false,
    "pycharm": {
     "name": "#%%\n",
     "is_executing": false
    }
   },
   "execution_count": 22,
   "outputs": []
  },
  {
   "cell_type": "markdown",
   "source": [
    "Let's look at the result!"
   ],
   "metadata": {
    "collapsed": false,
    "pycharm": {
     "name": "#%% md\n"
    }
   }
  },
  {
   "cell_type": "code",
   "execution_count": 23,
   "outputs": [
    {
     "data": {
      "text/plain": "   movieId                        title  \\\n0        1                    Toy Story   \n1        2                      Jumanji   \n2        3             Grumpier Old Men   \n3        4            Waiting to Exhale   \n4        5  Father of the Bride Part II   \n\n                                        genres  year  \n0  Adventure|Animation|Children|Comedy|Fantasy  1995  \n1                   Adventure|Children|Fantasy  1995  \n2                               Comedy|Romance  1995  \n3                         Comedy|Drama|Romance  1995  \n4                                       Comedy  1995  ",
      "text/html": "<div>\n<style scoped>\n    .dataframe tbody tr th:only-of-type {\n        vertical-align: middle;\n    }\n\n    .dataframe tbody tr th {\n        vertical-align: top;\n    }\n\n    .dataframe thead th {\n        text-align: right;\n    }\n</style>\n<table border=\"1\" class=\"dataframe\">\n  <thead>\n    <tr style=\"text-align: right;\">\n      <th></th>\n      <th>movieId</th>\n      <th>title</th>\n      <th>genres</th>\n      <th>year</th>\n    </tr>\n  </thead>\n  <tbody>\n    <tr>\n      <th>0</th>\n      <td>1</td>\n      <td>Toy Story</td>\n      <td>Adventure|Animation|Children|Comedy|Fantasy</td>\n      <td>1995</td>\n    </tr>\n    <tr>\n      <th>1</th>\n      <td>2</td>\n      <td>Jumanji</td>\n      <td>Adventure|Children|Fantasy</td>\n      <td>1995</td>\n    </tr>\n    <tr>\n      <th>2</th>\n      <td>3</td>\n      <td>Grumpier Old Men</td>\n      <td>Comedy|Romance</td>\n      <td>1995</td>\n    </tr>\n    <tr>\n      <th>3</th>\n      <td>4</td>\n      <td>Waiting to Exhale</td>\n      <td>Comedy|Drama|Romance</td>\n      <td>1995</td>\n    </tr>\n    <tr>\n      <th>4</th>\n      <td>5</td>\n      <td>Father of the Bride Part II</td>\n      <td>Comedy</td>\n      <td>1995</td>\n    </tr>\n  </tbody>\n</table>\n</div>"
     },
     "metadata": {},
     "output_type": "execute_result",
     "execution_count": 23
    }
   ],
   "source": [
    "movies_df.head()"
   ],
   "metadata": {
    "collapsed": false,
    "pycharm": {
     "name": "#%%\n",
     "is_executing": false
    }
   }
  },
  {
   "cell_type": "markdown",
   "source": [
    "With that, let's also drop the genres column since we won't need it for this particular recommendation system."
   ],
   "metadata": {
    "collapsed": false,
    "pycharm": {
     "name": "#%% md\n"
    }
   }
  },
  {
   "cell_type": "code",
   "source": [
    "#Dropping the genres column\n",
    "movies_df = movies_df.drop('genres', 1)"
   ],
   "metadata": {
    "collapsed": false,
    "pycharm": {
     "name": "#%%\n",
     "is_executing": false
    }
   },
   "execution_count": 24,
   "outputs": []
  },
  {
   "cell_type": "markdown",
   "source": [
    "Here's the final movies dataframe:"
   ],
   "metadata": {
    "collapsed": false,
    "pycharm": {
     "name": "#%% md\n"
    }
   }
  },
  {
   "cell_type": "code",
   "execution_count": 25,
   "outputs": [
    {
     "data": {
      "text/plain": "   movieId                        title  year\n0        1                    Toy Story  1995\n1        2                      Jumanji  1995\n2        3             Grumpier Old Men  1995\n3        4            Waiting to Exhale  1995\n4        5  Father of the Bride Part II  1995",
      "text/html": "<div>\n<style scoped>\n    .dataframe tbody tr th:only-of-type {\n        vertical-align: middle;\n    }\n\n    .dataframe tbody tr th {\n        vertical-align: top;\n    }\n\n    .dataframe thead th {\n        text-align: right;\n    }\n</style>\n<table border=\"1\" class=\"dataframe\">\n  <thead>\n    <tr style=\"text-align: right;\">\n      <th></th>\n      <th>movieId</th>\n      <th>title</th>\n      <th>year</th>\n    </tr>\n  </thead>\n  <tbody>\n    <tr>\n      <th>0</th>\n      <td>1</td>\n      <td>Toy Story</td>\n      <td>1995</td>\n    </tr>\n    <tr>\n      <th>1</th>\n      <td>2</td>\n      <td>Jumanji</td>\n      <td>1995</td>\n    </tr>\n    <tr>\n      <th>2</th>\n      <td>3</td>\n      <td>Grumpier Old Men</td>\n      <td>1995</td>\n    </tr>\n    <tr>\n      <th>3</th>\n      <td>4</td>\n      <td>Waiting to Exhale</td>\n      <td>1995</td>\n    </tr>\n    <tr>\n      <th>4</th>\n      <td>5</td>\n      <td>Father of the Bride Part II</td>\n      <td>1995</td>\n    </tr>\n  </tbody>\n</table>\n</div>"
     },
     "metadata": {},
     "output_type": "execute_result",
     "execution_count": 25
    }
   ],
   "source": [
    "movies_df.head()"
   ],
   "metadata": {
    "collapsed": false,
    "pycharm": {
     "name": "#%%\n",
     "is_executing": false
    }
   }
  },
  {
   "cell_type": "markdown",
   "source": [
    "Next, let's look at the ratings dataframe."
   ],
   "metadata": {
    "collapsed": false,
    "pycharm": {
     "name": "#%% md\n"
    }
   }
  },
  {
   "cell_type": "code",
   "execution_count": 26,
   "outputs": [
    {
     "data": {
      "text/plain": "   userId  movieId  rating   timestamp\n0       1      169     2.5  1204927694\n1       1     2471     3.0  1204927438\n2       1    48516     5.0  1204927435\n3       2     2571     3.5  1436165433\n4       2   109487     4.0  1436165496",
      "text/html": "<div>\n<style scoped>\n    .dataframe tbody tr th:only-of-type {\n        vertical-align: middle;\n    }\n\n    .dataframe tbody tr th {\n        vertical-align: top;\n    }\n\n    .dataframe thead th {\n        text-align: right;\n    }\n</style>\n<table border=\"1\" class=\"dataframe\">\n  <thead>\n    <tr style=\"text-align: right;\">\n      <th></th>\n      <th>userId</th>\n      <th>movieId</th>\n      <th>rating</th>\n      <th>timestamp</th>\n    </tr>\n  </thead>\n  <tbody>\n    <tr>\n      <th>0</th>\n      <td>1</td>\n      <td>169</td>\n      <td>2.5</td>\n      <td>1204927694</td>\n    </tr>\n    <tr>\n      <th>1</th>\n      <td>1</td>\n      <td>2471</td>\n      <td>3.0</td>\n      <td>1204927438</td>\n    </tr>\n    <tr>\n      <th>2</th>\n      <td>1</td>\n      <td>48516</td>\n      <td>5.0</td>\n      <td>1204927435</td>\n    </tr>\n    <tr>\n      <th>3</th>\n      <td>2</td>\n      <td>2571</td>\n      <td>3.5</td>\n      <td>1436165433</td>\n    </tr>\n    <tr>\n      <th>4</th>\n      <td>2</td>\n      <td>109487</td>\n      <td>4.0</td>\n      <td>1436165496</td>\n    </tr>\n  </tbody>\n</table>\n</div>"
     },
     "metadata": {},
     "output_type": "execute_result",
     "execution_count": 26
    }
   ],
   "source": [
    "ratings_df.head()"
   ],
   "metadata": {
    "collapsed": false,
    "pycharm": {
     "name": "#%%\n",
     "is_executing": false
    }
   }
  },
  {
   "cell_type": "markdown",
   "source": [
    "Every row in the ratings dataframe has a user id associated with at least one movie, a rating and a timestamp showing when they reviewed it. We won't be needing the timestamp column, so let's drop it to save on memory."
   ],
   "metadata": {
    "collapsed": false,
    "pycharm": {
     "name": "#%% md\n"
    }
   }
  },
  {
   "cell_type": "code",
   "execution_count": 27,
   "outputs": [],
   "source": [
    "#Drop removes a specified row or column from a dataframe\n",
    "ratings_df = ratings_df.drop('timestamp', 1)"
   ],
   "metadata": {
    "collapsed": false,
    "pycharm": {
     "name": "#%%\n",
     "is_executing": false
    }
   }
  },
  {
   "cell_type": "markdown",
   "source": [
    "Here's how the final ratings Dataframe looks like:"
   ],
   "metadata": {
    "collapsed": false,
    "pycharm": {
     "name": "#%% md\n"
    }
   }
  },
  {
   "cell_type": "code",
   "execution_count": 28,
   "outputs": [
    {
     "data": {
      "text/plain": "   userId  movieId  rating\n0       1      169     2.5\n1       1     2471     3.0\n2       1    48516     5.0\n3       2     2571     3.5\n4       2   109487     4.0",
      "text/html": "<div>\n<style scoped>\n    .dataframe tbody tr th:only-of-type {\n        vertical-align: middle;\n    }\n\n    .dataframe tbody tr th {\n        vertical-align: top;\n    }\n\n    .dataframe thead th {\n        text-align: right;\n    }\n</style>\n<table border=\"1\" class=\"dataframe\">\n  <thead>\n    <tr style=\"text-align: right;\">\n      <th></th>\n      <th>userId</th>\n      <th>movieId</th>\n      <th>rating</th>\n    </tr>\n  </thead>\n  <tbody>\n    <tr>\n      <th>0</th>\n      <td>1</td>\n      <td>169</td>\n      <td>2.5</td>\n    </tr>\n    <tr>\n      <th>1</th>\n      <td>1</td>\n      <td>2471</td>\n      <td>3.0</td>\n    </tr>\n    <tr>\n      <th>2</th>\n      <td>1</td>\n      <td>48516</td>\n      <td>5.0</td>\n    </tr>\n    <tr>\n      <th>3</th>\n      <td>2</td>\n      <td>2571</td>\n      <td>3.5</td>\n    </tr>\n    <tr>\n      <th>4</th>\n      <td>2</td>\n      <td>109487</td>\n      <td>4.0</td>\n    </tr>\n  </tbody>\n</table>\n</div>"
     },
     "metadata": {},
     "output_type": "execute_result",
     "execution_count": 28
    }
   ],
   "source": [
    "ratings_df.head()"
   ],
   "metadata": {
    "collapsed": false,
    "pycharm": {
     "name": "#%%\n",
     "is_executing": false
    }
   }
  },
  {
   "cell_type": "markdown",
   "source": [
    "<hr>\n",
    "\n",
    "<a id=\"ref3\"></a>\n",
    "# Collaborative Filtering"
   ],
   "metadata": {
    "collapsed": false,
    "pycharm": {
     "name": "#%% md\n"
    }
   }
  },
  {
   "cell_type": "markdown",
   "source": [
    "Now, time to start our work on recommendation systems. \n",
    "\n",
    "The first technique we're going to take a look at is called __Collaborative Filtering__, which is also known as __User-User Filtering__. As hinted by its alternate name, this technique uses other users to recommend items to the input user. It attempts to find users that have similar preferences and opinions as the input and then recommends items that they have liked to the input. There are several methods of finding similar users (Even some making use of Machine Learning), and the one we will be using here is going to be based on the __Pearson Correlation Function__.\n",
    "\n",
    "<img src=\"https://ibm.box.com/shared/static/1ql8cbwhtkmbr6nge5e706ikzm5mua5w.png\" width=800px>\n",
    "\n",
    "\n",
    "The process for creating a User Based recommendation system is as follows:\n",
    "- Select a user with the movies the user has watched\n",
    "- Based on his rating to movies, find the top X neighbours \n",
    "- Get the watched movie record of the user for each neighbour.\n",
    "- Calculate a similarity score using some formula\n",
    "- Recommend the items with the highest score\n",
    "\n",
    "\n",
    "Let's begin by creating an input user to recommend movies to:\n",
    "\n",
    "Notice: To add more movies, simply increase the amount of elements in the userInput. Feel free to add more in! Just be sure to write it in with capital letters and if a movie starts with a \"The\", like \"The Matrix\" then write it in like this: 'Matrix, The' ."
   ],
   "metadata": {
    "collapsed": false,
    "pycharm": {
     "name": "#%% md\n"
    }
   }
  },
  {
   "cell_type": "code",
   "source": [
    "userInput = [\n",
    "            {'title':'Breakfast Club, The', 'rating':5},\n",
    "            {'title':'Toy Story', 'rating':3.5},\n",
    "            {'title':'Jumanji', 'rating':2},\n",
    "            {'title':\"Pulp Fiction\", 'rating':5},\n",
    "            {'title':'Akira', 'rating':4.5}\n",
    "         ] \n",
    "inputMovies = pd.DataFrame(userInput)\n",
    "inputMovies"
   ],
   "metadata": {
    "collapsed": false,
    "pycharm": {
     "name": "#%%\n",
     "is_executing": false
    }
   },
   "execution_count": 29,
   "outputs": [
    {
     "data": {
      "text/plain": "                 title  rating\n0  Breakfast Club, The     5.0\n1            Toy Story     3.5\n2              Jumanji     2.0\n3         Pulp Fiction     5.0\n4                Akira     4.5",
      "text/html": "<div>\n<style scoped>\n    .dataframe tbody tr th:only-of-type {\n        vertical-align: middle;\n    }\n\n    .dataframe tbody tr th {\n        vertical-align: top;\n    }\n\n    .dataframe thead th {\n        text-align: right;\n    }\n</style>\n<table border=\"1\" class=\"dataframe\">\n  <thead>\n    <tr style=\"text-align: right;\">\n      <th></th>\n      <th>title</th>\n      <th>rating</th>\n    </tr>\n  </thead>\n  <tbody>\n    <tr>\n      <th>0</th>\n      <td>Breakfast Club, The</td>\n      <td>5.0</td>\n    </tr>\n    <tr>\n      <th>1</th>\n      <td>Toy Story</td>\n      <td>3.5</td>\n    </tr>\n    <tr>\n      <th>2</th>\n      <td>Jumanji</td>\n      <td>2.0</td>\n    </tr>\n    <tr>\n      <th>3</th>\n      <td>Pulp Fiction</td>\n      <td>5.0</td>\n    </tr>\n    <tr>\n      <th>4</th>\n      <td>Akira</td>\n      <td>4.5</td>\n    </tr>\n  </tbody>\n</table>\n</div>"
     },
     "metadata": {},
     "output_type": "execute_result",
     "execution_count": 29
    }
   ]
  },
  {
   "cell_type": "markdown",
   "source": [
    "#### Add movieId to input user\n",
    "With the input complete, let's extract the input movies's ID's from the movies dataframe and add them into it.\n",
    "\n",
    "We can achieve this by first filtering out the rows that contain the input movies' title and then merging this subset with the input dataframe. We also drop unnecessary columns for the input to save memory space."
   ],
   "metadata": {
    "collapsed": false,
    "pycharm": {
     "name": "#%% md\n"
    }
   }
  },
  {
   "cell_type": "code",
   "source": [
    "#Filtering out the movies by title\n",
    "inputId = movies_df[movies_df['title'].isin(inputMovies['title'].tolist())]\n",
    "#Then merging it so we can get the movieId. It's implicitly merging it by title.\n",
    "inputMovies = pd.merge(inputId, inputMovies)\n",
    "#Dropping information we won't use from the input dataframe\n",
    "inputMovies = inputMovies.drop('year', 1)\n",
    "#Final input dataframe\n",
    "#If a movie you added in above isn't here, then it might not be in the original \n",
    "#dataframe or it might spelled differently, please check capitalisation.\n",
    "inputMovies"
   ],
   "metadata": {
    "collapsed": false,
    "pycharm": {
     "name": "#%%\n",
     "is_executing": false
    }
   },
   "execution_count": 30,
   "outputs": [
    {
     "data": {
      "text/plain": "   movieId                title  rating\n0        1            Toy Story     3.5\n1        2              Jumanji     2.0\n2      296         Pulp Fiction     5.0\n3     1274                Akira     4.5\n4     1968  Breakfast Club, The     5.0",
      "text/html": "<div>\n<style scoped>\n    .dataframe tbody tr th:only-of-type {\n        vertical-align: middle;\n    }\n\n    .dataframe tbody tr th {\n        vertical-align: top;\n    }\n\n    .dataframe thead th {\n        text-align: right;\n    }\n</style>\n<table border=\"1\" class=\"dataframe\">\n  <thead>\n    <tr style=\"text-align: right;\">\n      <th></th>\n      <th>movieId</th>\n      <th>title</th>\n      <th>rating</th>\n    </tr>\n  </thead>\n  <tbody>\n    <tr>\n      <th>0</th>\n      <td>1</td>\n      <td>Toy Story</td>\n      <td>3.5</td>\n    </tr>\n    <tr>\n      <th>1</th>\n      <td>2</td>\n      <td>Jumanji</td>\n      <td>2.0</td>\n    </tr>\n    <tr>\n      <th>2</th>\n      <td>296</td>\n      <td>Pulp Fiction</td>\n      <td>5.0</td>\n    </tr>\n    <tr>\n      <th>3</th>\n      <td>1274</td>\n      <td>Akira</td>\n      <td>4.5</td>\n    </tr>\n    <tr>\n      <th>4</th>\n      <td>1968</td>\n      <td>Breakfast Club, The</td>\n      <td>5.0</td>\n    </tr>\n  </tbody>\n</table>\n</div>"
     },
     "metadata": {},
     "output_type": "execute_result",
     "execution_count": 30
    }
   ]
  },
  {
   "cell_type": "markdown",
   "source": [
    "#### The users who has seen the same movies\n",
    "Now with the movie ID's in our input, we can now get the subset of users that have watched and reviewed the movies in our input.\n"
   ],
   "metadata": {
    "collapsed": false,
    "pycharm": {
     "name": "#%% md\n"
    }
   }
  },
  {
   "cell_type": "code",
   "execution_count": 31,
   "outputs": [
    {
     "data": {
      "text/plain": "     userId  movieId  rating\n19        4      296     4.0\n441      12     1968     3.0\n479      13        2     2.0\n531      13     1274     5.0\n681      14      296     2.0",
      "text/html": "<div>\n<style scoped>\n    .dataframe tbody tr th:only-of-type {\n        vertical-align: middle;\n    }\n\n    .dataframe tbody tr th {\n        vertical-align: top;\n    }\n\n    .dataframe thead th {\n        text-align: right;\n    }\n</style>\n<table border=\"1\" class=\"dataframe\">\n  <thead>\n    <tr style=\"text-align: right;\">\n      <th></th>\n      <th>userId</th>\n      <th>movieId</th>\n      <th>rating</th>\n    </tr>\n  </thead>\n  <tbody>\n    <tr>\n      <th>19</th>\n      <td>4</td>\n      <td>296</td>\n      <td>4.0</td>\n    </tr>\n    <tr>\n      <th>441</th>\n      <td>12</td>\n      <td>1968</td>\n      <td>3.0</td>\n    </tr>\n    <tr>\n      <th>479</th>\n      <td>13</td>\n      <td>2</td>\n      <td>2.0</td>\n    </tr>\n    <tr>\n      <th>531</th>\n      <td>13</td>\n      <td>1274</td>\n      <td>5.0</td>\n    </tr>\n    <tr>\n      <th>681</th>\n      <td>14</td>\n      <td>296</td>\n      <td>2.0</td>\n    </tr>\n  </tbody>\n</table>\n</div>"
     },
     "metadata": {},
     "output_type": "execute_result",
     "execution_count": 31
    }
   ],
   "source": [
    "#Filtering out users that have watched movies that the input has watched and storing it\n",
    "userSubset = ratings_df[ratings_df['movieId'].isin(inputMovies['movieId'].tolist())]\n",
    "userSubset.head()"
   ],
   "metadata": {
    "collapsed": false,
    "pycharm": {
     "name": "#%%\n",
     "is_executing": false
    }
   }
  },
  {
   "cell_type": "markdown",
   "source": [
    "We now group up the rows by user ID."
   ],
   "metadata": {
    "collapsed": false,
    "pycharm": {
     "name": "#%% md\n"
    }
   }
  },
  {
   "cell_type": "code",
   "execution_count": 32,
   "outputs": [],
   "source": [
    "#Groupby creates several sub dataframes where they all have the same value in the column specified as the parameter\n",
    "userSubsetGroup = userSubset.groupby(['userId'])"
   ],
   "metadata": {
    "collapsed": false,
    "pycharm": {
     "name": "#%%\n",
     "is_executing": false
    }
   }
  },
  {
   "cell_type": "markdown",
   "source": [
    "lets look at one of the users, e.g. the one with userID=1130"
   ],
   "metadata": {
    "collapsed": false,
    "pycharm": {
     "name": "#%% md\n"
    }
   }
  },
  {
   "cell_type": "code",
   "source": [
    "userSubsetGroup.get_group(1130)"
   ],
   "metadata": {
    "collapsed": false,
    "pycharm": {
     "name": "#%%\n",
     "is_executing": false
    }
   },
   "execution_count": 33,
   "outputs": [
    {
     "data": {
      "text/plain": "        userId  movieId  rating\n104167    1130        1     0.5\n104168    1130        2     4.0\n104214    1130      296     4.0\n104363    1130     1274     4.5\n104443    1130     1968     4.5",
      "text/html": "<div>\n<style scoped>\n    .dataframe tbody tr th:only-of-type {\n        vertical-align: middle;\n    }\n\n    .dataframe tbody tr th {\n        vertical-align: top;\n    }\n\n    .dataframe thead th {\n        text-align: right;\n    }\n</style>\n<table border=\"1\" class=\"dataframe\">\n  <thead>\n    <tr style=\"text-align: right;\">\n      <th></th>\n      <th>userId</th>\n      <th>movieId</th>\n      <th>rating</th>\n    </tr>\n  </thead>\n  <tbody>\n    <tr>\n      <th>104167</th>\n      <td>1130</td>\n      <td>1</td>\n      <td>0.5</td>\n    </tr>\n    <tr>\n      <th>104168</th>\n      <td>1130</td>\n      <td>2</td>\n      <td>4.0</td>\n    </tr>\n    <tr>\n      <th>104214</th>\n      <td>1130</td>\n      <td>296</td>\n      <td>4.0</td>\n    </tr>\n    <tr>\n      <th>104363</th>\n      <td>1130</td>\n      <td>1274</td>\n      <td>4.5</td>\n    </tr>\n    <tr>\n      <th>104443</th>\n      <td>1130</td>\n      <td>1968</td>\n      <td>4.5</td>\n    </tr>\n  </tbody>\n</table>\n</div>"
     },
     "metadata": {},
     "output_type": "execute_result",
     "execution_count": 33
    }
   ]
  },
  {
   "cell_type": "markdown",
   "source": [
    "Let's also sort these groups so the users that share the most movies in common with the input have higher priority. This provides a richer recommendation since we won't go through every single user."
   ],
   "metadata": {
    "collapsed": false,
    "pycharm": {
     "name": "#%% md\n"
    }
   }
  },
  {
   "cell_type": "code",
   "execution_count": 34,
   "outputs": [],
   "source": [
    "#Sorting it so users with movie most in common with the input will have priority\n",
    "userSubsetGroup = sorted(userSubsetGroup,  key=lambda x: len(x[1]), reverse=True)"
   ],
   "metadata": {
    "collapsed": false,
    "pycharm": {
     "name": "#%%\n",
     "is_executing": false
    }
   }
  },
  {
   "cell_type": "markdown",
   "source": [
    "Now lets look at the first user"
   ],
   "metadata": {
    "collapsed": false,
    "pycharm": {
     "name": "#%% md\n"
    }
   }
  },
  {
   "cell_type": "code",
   "execution_count": 35,
   "outputs": [
    {
     "data": {
      "text/plain": "[(75,       userId  movieId  rating\n  7507      75        1     5.0\n  7508      75        2     3.5\n  7540      75      296     5.0\n  7633      75     1274     4.5\n  7673      75     1968     5.0), (106,       userId  movieId  rating\n  9083     106        1     2.5\n  9084     106        2     3.0\n  9115     106      296     3.5\n  9198     106     1274     3.0\n  9238     106     1968     3.5), (686,        userId  movieId  rating\n  61336     686        1     4.0\n  61337     686        2     3.0\n  61377     686      296     4.0\n  61478     686     1274     4.0\n  61569     686     1968     5.0)]"
     },
     "metadata": {},
     "output_type": "execute_result",
     "execution_count": 35
    }
   ],
   "source": [
    "userSubsetGroup[0:3]"
   ],
   "metadata": {
    "collapsed": false,
    "pycharm": {
     "name": "#%%\n",
     "is_executing": false
    }
   }
  },
  {
   "cell_type": "markdown",
   "source": [
    "#### Similarity of users to input user\n",
    "Next, we are going to compare all users (not really all !!!) to our specified user and find the one that is most similar.  \n",
    "we're going to find out how similar each user is to the input through the __Pearson Correlation Coefficient__. It is used to measure the strength of a linear association between two variables. The formula for finding this coefficient between sets X and Y with N values can be seen in the image below. \n",
    "\n",
    "Why Pearson Correlation?\n",
    "\n",
    "Pearson correlation is invariant to scaling, i.e. multiplying all elements by a nonzero constant or adding any constant to all elements. For example, if you have two vectors X and Y,then, pearson(X, Y) == pearson(X, 2 * Y + 3). This is a pretty important property in recommendation systems because for example two users might rate two series of items totally different in terms of absolute rates, but they would be similar users (i.e. with similar ideas) with similar rates in various scales .\n",
    "\n",
    "![alt text](https://wikimedia.org/api/rest_v1/media/math/render/svg/bd1ccc2979b0fd1c1aec96e386f686ae874f9ec0 \"Pearson Correlation\")\n",
    "\n",
    "The values given by the formula vary from r = -1 to r = 1, where 1 forms a direct correlation between the two entities (it means a perfect positive correlation) and -1 forms a perfect negative correlation. \n",
    "\n",
    "In our case, a 1 means that the two users have similar tastes while a -1 means the opposite."
   ],
   "metadata": {
    "collapsed": false,
    "pycharm": {
     "name": "#%% md\n"
    }
   }
  },
  {
   "cell_type": "markdown",
   "source": [
    "We will select a subset of users to iterate through. This limit is imposed because we don't want to waste too much time going through every single user."
   ],
   "metadata": {
    "collapsed": false,
    "pycharm": {
     "name": "#%% md\n"
    }
   }
  },
  {
   "cell_type": "code",
   "execution_count": 36,
   "outputs": [],
   "source": [
    "userSubsetGroup = userSubsetGroup[0:100]"
   ],
   "metadata": {
    "collapsed": false,
    "pycharm": {
     "name": "#%%\n",
     "is_executing": false
    }
   }
  },
  {
   "cell_type": "markdown",
   "source": [
    "Now, we calculate the Pearson Correlation between input user and subset group, and store it in a dictionary, where the key is the user Id and the value is the coefficient"
   ],
   "metadata": {
    "collapsed": false,
    "pycharm": {
     "name": "#%% md\n"
    }
   }
  },
  {
   "cell_type": "code",
   "execution_count": 37,
   "outputs": [],
   "source": [
    "#Store the Pearson Correlation in a dictionary, where the key is the user Id and the value is the coefficient\n",
    "pearsonCorrelationDict = {}\n",
    "\n",
    "#For every user group in our subset\n",
    "for name, group in userSubsetGroup:\n",
    "    #Let's start by sorting the input and current user group so the values aren't mixed up later on\n",
    "    group = group.sort_values(by='movieId')\n",
    "    inputMovies = inputMovies.sort_values(by='movieId')\n",
    "    #Get the N for the formula\n",
    "    nRatings = len(group)\n",
    "    #Get the review scores for the movies that they both have in common\n",
    "    temp_df = inputMovies[inputMovies['movieId'].isin(group['movieId'].tolist())]\n",
    "    #And then store them in a temporary buffer variable in a list format to facilitate future calculations\n",
    "    tempRatingList = temp_df['rating'].tolist()\n",
    "    #Let's also put the current user group reviews in a list format\n",
    "    tempGroupList = group['rating'].tolist()\n",
    "    #Now let's calculate the pearson correlation between two users, so called, x and y\n",
    "    Sxx = sum([i**2 for i in tempRatingList]) - pow(sum(tempRatingList),2)/float(nRatings)\n",
    "    Syy = sum([i**2 for i in tempGroupList]) - pow(sum(tempGroupList),2)/float(nRatings)\n",
    "    Sxy = sum( i*j for i, j in zip(tempRatingList, tempGroupList)) - sum(tempRatingList)*sum(tempGroupList)/float(nRatings)\n",
    "    \n",
    "    #If the denominator is different than zero, then divide, else, 0 correlation.\n",
    "    if Sxx != 0 and Syy != 0:\n",
    "        pearsonCorrelationDict[name] = Sxy/sqrt(Sxx*Syy)\n",
    "    else:\n",
    "        pearsonCorrelationDict[name] = 0\n"
   ],
   "metadata": {
    "collapsed": false,
    "pycharm": {
     "name": "#%%\n",
     "is_executing": false
    }
   }
  },
  {
   "cell_type": "code",
   "execution_count": 38,
   "outputs": [
    {
     "data": {
      "text/plain": "dict_items([(75, 0.8272781516947562), (106, 0.5860090386731182), (686, 0.8320502943378437), (815, 0.5765566601970551), (1040, 0.9434563530497265), (1130, 0.2891574659831201), (1502, 0.8770580193070299), (1599, 0.4385290096535153), (1625, 0.716114874039432), (1950, 0.179028718509858), (2065, 0.4385290096535153), (2128, 0.5860090386731196), (2432, 0.1386750490563073), (2791, 0.8770580193070299), (2839, 0.8204126541423674), (2948, -0.11720180773462392), (3025, 0.45124262819713973), (3040, 0.89514359254929), (3186, 0.6784622064861935), (3271, 0.26989594817970664), (3429, 0.0), (3734, -0.15041420939904673), (4099, 0.05860090386731196), (4208, 0.29417420270727607), (4282, -0.4385290096535115), (4292, 0.6564386345361464), (4415, -0.11183835382312353), (4586, -0.9024852563942795), (4725, -0.08006407690254357), (4818, 0.4885967564883424), (5104, 0.7674257668936507), (5165, -0.4385290096535153), (5547, 0.17200522903844556), (6082, -0.04728779924109591), (6207, 0.9615384615384616), (6366, 0.6577935144802716), (6482, 0.0), (6530, -0.3516054232038709), (7235, 0.6981407669689391), (7403, 0.11720180773462363), (7641, 0.7161148740394331), (7996, 0.626600514784504), (8008, -0.22562131409856986), (8086, 0.6933752452815365), (8245, 0.0), (8572, 0.8600261451922278), (8675, 0.5370861555295773), (9101, -0.08600261451922278), (9358, 0.692178738358485), (9663, 0.193972725041952), (9994, 0.5030272728659587), (10248, -0.24806946917841693), (10315, 0.537086155529574), (10368, 0.4688072309384945), (10607, 0.41602514716892186), (10707, 0.9615384615384616), (10863, 0.6020183016345595), (11314, 0.8204126541423654), (11399, 0.517260600111872), (11769, 0.9376144618769914), (11827, 0.4902903378454601), (12069, 0.0), (12120, 0.9292940047327363), (12211, 0.8600261451922278), (12325, 0.9616783115081544), (12916, 0.5860090386731196), (12921, 0.6611073566849309), (13053, 0.9607689228305227), (13142, 0.6016568375961863), (13260, 0.7844645405527362), (13366, 0.8951435925492911), (13768, 0.8770580193070289), (13888, 0.2508726030021272), (13923, 0.3516054232038718), (13934, 0.17200522903844556), (14529, 0.7417901772340937), (14551, 0.537086155529574), (14588, 0.21926450482675766), (14984, 0.716114874039432), (15137, 0.5860090386731196), (15157, 0.9035841064985974), (15466, 0.7205766921228921), (15670, 0.516015687115336), (15834, 0.22562131409856986), (16292, 0.6577935144802716), (16456, 0.7161148740394331), (16506, 0.5481612620668942), (17246, 0.48038446141526137), (17438, 0.7093169886164387), (17501, 0.8168748513121271), (17502, 0.8272781516947562), (17666, 0.7689238340176859), (17735, 0.7042381820123422), (17742, 0.3922322702763681), (17757, 0.64657575013984), (17854, 0.537086155529574), (17897, 0.8770580193070289), (17944, 0.2713848825944774), (18301, 0.29838119751643016), (18509, 0.1322214713369862)])"
     },
     "metadata": {},
     "output_type": "execute_result",
     "execution_count": 38
    }
   ],
   "source": [
    "pearsonCorrelationDict.items()"
   ],
   "metadata": {
    "collapsed": false,
    "pycharm": {
     "name": "#%%\n",
     "is_executing": false
    }
   }
  },
  {
   "cell_type": "code",
   "execution_count": 39,
   "outputs": [
    {
     "data": {
      "text/plain": "   similarityIndex  userId\n0         0.827278      75\n1         0.586009     106\n2         0.832050     686\n3         0.576557     815\n4         0.943456    1040",
      "text/html": "<div>\n<style scoped>\n    .dataframe tbody tr th:only-of-type {\n        vertical-align: middle;\n    }\n\n    .dataframe tbody tr th {\n        vertical-align: top;\n    }\n\n    .dataframe thead th {\n        text-align: right;\n    }\n</style>\n<table border=\"1\" class=\"dataframe\">\n  <thead>\n    <tr style=\"text-align: right;\">\n      <th></th>\n      <th>similarityIndex</th>\n      <th>userId</th>\n    </tr>\n  </thead>\n  <tbody>\n    <tr>\n      <th>0</th>\n      <td>0.827278</td>\n      <td>75</td>\n    </tr>\n    <tr>\n      <th>1</th>\n      <td>0.586009</td>\n      <td>106</td>\n    </tr>\n    <tr>\n      <th>2</th>\n      <td>0.832050</td>\n      <td>686</td>\n    </tr>\n    <tr>\n      <th>3</th>\n      <td>0.576557</td>\n      <td>815</td>\n    </tr>\n    <tr>\n      <th>4</th>\n      <td>0.943456</td>\n      <td>1040</td>\n    </tr>\n  </tbody>\n</table>\n</div>"
     },
     "metadata": {},
     "output_type": "execute_result",
     "execution_count": 39
    }
   ],
   "source": [
    "pearsonDF = pd.DataFrame.from_dict(pearsonCorrelationDict, orient='index')\n",
    "pearsonDF.columns = ['similarityIndex']\n",
    "pearsonDF['userId'] = pearsonDF.index\n",
    "pearsonDF.index = range(len(pearsonDF))\n",
    "pearsonDF.head()"
   ],
   "metadata": {
    "collapsed": false,
    "pycharm": {
     "name": "#%%\n",
     "is_executing": false
    }
   }
  },
  {
   "cell_type": "markdown",
   "source": [
    "#### The top x similar users to input user\n",
    "Now let's get the top 50 users that are most similar to the input."
   ],
   "metadata": {
    "collapsed": false,
    "pycharm": {
     "name": "#%% md\n"
    }
   }
  },
  {
   "cell_type": "code",
   "execution_count": 40,
   "outputs": [
    {
     "data": {
      "text/plain": "    similarityIndex  userId\n64         0.961678   12325\n34         0.961538    6207\n55         0.961538   10707\n67         0.960769   13053\n4          0.943456    1040",
      "text/html": "<div>\n<style scoped>\n    .dataframe tbody tr th:only-of-type {\n        vertical-align: middle;\n    }\n\n    .dataframe tbody tr th {\n        vertical-align: top;\n    }\n\n    .dataframe thead th {\n        text-align: right;\n    }\n</style>\n<table border=\"1\" class=\"dataframe\">\n  <thead>\n    <tr style=\"text-align: right;\">\n      <th></th>\n      <th>similarityIndex</th>\n      <th>userId</th>\n    </tr>\n  </thead>\n  <tbody>\n    <tr>\n      <th>64</th>\n      <td>0.961678</td>\n      <td>12325</td>\n    </tr>\n    <tr>\n      <th>34</th>\n      <td>0.961538</td>\n      <td>6207</td>\n    </tr>\n    <tr>\n      <th>55</th>\n      <td>0.961538</td>\n      <td>10707</td>\n    </tr>\n    <tr>\n      <th>67</th>\n      <td>0.960769</td>\n      <td>13053</td>\n    </tr>\n    <tr>\n      <th>4</th>\n      <td>0.943456</td>\n      <td>1040</td>\n    </tr>\n  </tbody>\n</table>\n</div>"
     },
     "metadata": {},
     "output_type": "execute_result",
     "execution_count": 40
    }
   ],
   "source": [
    "topUsers=pearsonDF.sort_values(by='similarityIndex', ascending=False)[0:50]\n",
    "topUsers.head()"
   ],
   "metadata": {
    "collapsed": false,
    "pycharm": {
     "name": "#%%\n",
     "is_executing": false
    }
   }
  },
  {
   "cell_type": "markdown",
   "source": [
    "Now, let's start recommending movies to the input user.\n",
    "\n",
    "#### Rating of selected users to all movies\n",
    "We're going to do this by taking the weighted average of the ratings of the movies using the Pearson Correlation as the weight. But to do this, we first need to get the movies watched by the users in our __pearsonDF__ from the ratings dataframe and then store their correlation in a new column called _similarityIndex\". This is achieved below by merging of these two tables."
   ],
   "metadata": {
    "collapsed": false,
    "pycharm": {
     "name": "#%% md\n"
    }
   }
  },
  {
   "cell_type": "code",
   "execution_count": 41,
   "outputs": [
    {
     "data": {
      "text/plain": "   similarityIndex  userId  movieId  rating\n0         0.961678   12325        1     3.5\n1         0.961678   12325        2     1.5\n2         0.961678   12325        3     3.0\n3         0.961678   12325        5     0.5\n4         0.961678   12325        6     2.5",
      "text/html": "<div>\n<style scoped>\n    .dataframe tbody tr th:only-of-type {\n        vertical-align: middle;\n    }\n\n    .dataframe tbody tr th {\n        vertical-align: top;\n    }\n\n    .dataframe thead th {\n        text-align: right;\n    }\n</style>\n<table border=\"1\" class=\"dataframe\">\n  <thead>\n    <tr style=\"text-align: right;\">\n      <th></th>\n      <th>similarityIndex</th>\n      <th>userId</th>\n      <th>movieId</th>\n      <th>rating</th>\n    </tr>\n  </thead>\n  <tbody>\n    <tr>\n      <th>0</th>\n      <td>0.961678</td>\n      <td>12325</td>\n      <td>1</td>\n      <td>3.5</td>\n    </tr>\n    <tr>\n      <th>1</th>\n      <td>0.961678</td>\n      <td>12325</td>\n      <td>2</td>\n      <td>1.5</td>\n    </tr>\n    <tr>\n      <th>2</th>\n      <td>0.961678</td>\n      <td>12325</td>\n      <td>3</td>\n      <td>3.0</td>\n    </tr>\n    <tr>\n      <th>3</th>\n      <td>0.961678</td>\n      <td>12325</td>\n      <td>5</td>\n      <td>0.5</td>\n    </tr>\n    <tr>\n      <th>4</th>\n      <td>0.961678</td>\n      <td>12325</td>\n      <td>6</td>\n      <td>2.5</td>\n    </tr>\n  </tbody>\n</table>\n</div>"
     },
     "metadata": {},
     "output_type": "execute_result",
     "execution_count": 41
    }
   ],
   "source": [
    "topUsersRating=topUsers.merge(ratings_df, left_on='userId', right_on='userId', how='inner')\n",
    "topUsersRating.head()\n"
   ],
   "metadata": {
    "collapsed": false,
    "pycharm": {
     "name": "#%%\n",
     "is_executing": false
    }
   }
  },
  {
   "cell_type": "markdown",
   "source": [
    "Now all we need to do is simply multiply the movie rating by its weight (The similarity index), then sum up the new ratings and divide it by the sum of the weights.\n",
    "\n",
    "We can easily do this by simply multiplying two columns, then grouping up the dataframe by movieId and then dividing two columns:\n",
    "\n",
    "It shows the idea of all similar users to candidate movies for the input user:"
   ],
   "metadata": {
    "collapsed": false,
    "pycharm": {
     "name": "#%% md\n"
    }
   }
  },
  {
   "cell_type": "code",
   "execution_count": 42,
   "outputs": [
    {
     "data": {
      "text/plain": "   similarityIndex  userId  movieId  rating  weightedRating\n0         0.961678   12325        1     3.5        3.365874\n1         0.961678   12325        2     1.5        1.442517\n2         0.961678   12325        3     3.0        2.885035\n3         0.961678   12325        5     0.5        0.480839\n4         0.961678   12325        6     2.5        2.404196",
      "text/html": "<div>\n<style scoped>\n    .dataframe tbody tr th:only-of-type {\n        vertical-align: middle;\n    }\n\n    .dataframe tbody tr th {\n        vertical-align: top;\n    }\n\n    .dataframe thead th {\n        text-align: right;\n    }\n</style>\n<table border=\"1\" class=\"dataframe\">\n  <thead>\n    <tr style=\"text-align: right;\">\n      <th></th>\n      <th>similarityIndex</th>\n      <th>userId</th>\n      <th>movieId</th>\n      <th>rating</th>\n      <th>weightedRating</th>\n    </tr>\n  </thead>\n  <tbody>\n    <tr>\n      <th>0</th>\n      <td>0.961678</td>\n      <td>12325</td>\n      <td>1</td>\n      <td>3.5</td>\n      <td>3.365874</td>\n    </tr>\n    <tr>\n      <th>1</th>\n      <td>0.961678</td>\n      <td>12325</td>\n      <td>2</td>\n      <td>1.5</td>\n      <td>1.442517</td>\n    </tr>\n    <tr>\n      <th>2</th>\n      <td>0.961678</td>\n      <td>12325</td>\n      <td>3</td>\n      <td>3.0</td>\n      <td>2.885035</td>\n    </tr>\n    <tr>\n      <th>3</th>\n      <td>0.961678</td>\n      <td>12325</td>\n      <td>5</td>\n      <td>0.5</td>\n      <td>0.480839</td>\n    </tr>\n    <tr>\n      <th>4</th>\n      <td>0.961678</td>\n      <td>12325</td>\n      <td>6</td>\n      <td>2.5</td>\n      <td>2.404196</td>\n    </tr>\n  </tbody>\n</table>\n</div>"
     },
     "metadata": {},
     "output_type": "execute_result",
     "execution_count": 42
    }
   ],
   "source": [
    "#Multiplies the similarity by the user's ratings\n",
    "topUsersRating['weightedRating'] = topUsersRating['similarityIndex']*topUsersRating['rating']\n",
    "topUsersRating.head()"
   ],
   "metadata": {
    "collapsed": false,
    "pycharm": {
     "name": "#%%\n",
     "is_executing": false
    }
   }
  },
  {
   "cell_type": "code",
   "execution_count": 43,
   "outputs": [
    {
     "data": {
      "text/plain": "         sum_similarityIndex  sum_weightedRating\nmovieId                                         \n1                  38.376281          140.800834\n2                  38.376281           96.656745\n3                  10.253981           27.254477\n4                   0.929294            2.787882\n5                  11.723262           27.151751",
      "text/html": "<div>\n<style scoped>\n    .dataframe tbody tr th:only-of-type {\n        vertical-align: middle;\n    }\n\n    .dataframe tbody tr th {\n        vertical-align: top;\n    }\n\n    .dataframe thead th {\n        text-align: right;\n    }\n</style>\n<table border=\"1\" class=\"dataframe\">\n  <thead>\n    <tr style=\"text-align: right;\">\n      <th></th>\n      <th>sum_similarityIndex</th>\n      <th>sum_weightedRating</th>\n    </tr>\n    <tr>\n      <th>movieId</th>\n      <th></th>\n      <th></th>\n    </tr>\n  </thead>\n  <tbody>\n    <tr>\n      <th>1</th>\n      <td>38.376281</td>\n      <td>140.800834</td>\n    </tr>\n    <tr>\n      <th>2</th>\n      <td>38.376281</td>\n      <td>96.656745</td>\n    </tr>\n    <tr>\n      <th>3</th>\n      <td>10.253981</td>\n      <td>27.254477</td>\n    </tr>\n    <tr>\n      <th>4</th>\n      <td>0.929294</td>\n      <td>2.787882</td>\n    </tr>\n    <tr>\n      <th>5</th>\n      <td>11.723262</td>\n      <td>27.151751</td>\n    </tr>\n  </tbody>\n</table>\n</div>"
     },
     "metadata": {},
     "output_type": "execute_result",
     "execution_count": 43
    }
   ],
   "source": [
    "#Applies a sum to the topUsers after grouping it up by userId\n",
    "tempTopUsersRating = topUsersRating.groupby('movieId').sum()[['similarityIndex','weightedRating']]\n",
    "tempTopUsersRating.columns = ['sum_similarityIndex','sum_weightedRating']\n",
    "tempTopUsersRating.head()"
   ],
   "metadata": {
    "collapsed": false,
    "pycharm": {
     "name": "#%%\n",
     "is_executing": false
    }
   }
  },
  {
   "cell_type": "code",
   "execution_count": 44,
   "outputs": [
    {
     "data": {
      "text/plain": "         weighted average recommendation score  movieId\nmovieId                                                \n1                                     3.668955        1\n2                                     2.518658        2\n3                                     2.657941        3\n4                                     3.000000        4\n5                                     2.316058        5",
      "text/html": "<div>\n<style scoped>\n    .dataframe tbody tr th:only-of-type {\n        vertical-align: middle;\n    }\n\n    .dataframe tbody tr th {\n        vertical-align: top;\n    }\n\n    .dataframe thead th {\n        text-align: right;\n    }\n</style>\n<table border=\"1\" class=\"dataframe\">\n  <thead>\n    <tr style=\"text-align: right;\">\n      <th></th>\n      <th>weighted average recommendation score</th>\n      <th>movieId</th>\n    </tr>\n    <tr>\n      <th>movieId</th>\n      <th></th>\n      <th></th>\n    </tr>\n  </thead>\n  <tbody>\n    <tr>\n      <th>1</th>\n      <td>3.668955</td>\n      <td>1</td>\n    </tr>\n    <tr>\n      <th>2</th>\n      <td>2.518658</td>\n      <td>2</td>\n    </tr>\n    <tr>\n      <th>3</th>\n      <td>2.657941</td>\n      <td>3</td>\n    </tr>\n    <tr>\n      <th>4</th>\n      <td>3.000000</td>\n      <td>4</td>\n    </tr>\n    <tr>\n      <th>5</th>\n      <td>2.316058</td>\n      <td>5</td>\n    </tr>\n  </tbody>\n</table>\n</div>"
     },
     "metadata": {},
     "output_type": "execute_result",
     "execution_count": 44
    }
   ],
   "source": [
    "#Creates an empty dataframe\n",
    "recommendation_df = pd.DataFrame()\n",
    "#Now we take the weighted average\n",
    "recommendation_df['weighted average recommendation score'] = tempTopUsersRating['sum_weightedRating']/tempTopUsersRating['sum_similarityIndex']\n",
    "recommendation_df['movieId'] = tempTopUsersRating.index\n",
    "recommendation_df.head()"
   ],
   "metadata": {
    "collapsed": false,
    "pycharm": {
     "name": "#%%\n",
     "is_executing": false
    }
   }
  },
  {
   "cell_type": "markdown",
   "source": [
    "Now let's sort it and see the top 20 movies that the algorithm recommended!"
   ],
   "metadata": {
    "collapsed": false,
    "pycharm": {
     "name": "#%% md\n"
    }
   }
  },
  {
   "cell_type": "code",
   "execution_count": 45,
   "outputs": [
    {
     "data": {
      "text/plain": "         weighted average recommendation score  movieId\nmovieId                                                \n5073                                       5.0     5073\n3329                                       5.0     3329\n2284                                       5.0     2284\n26801                                      5.0    26801\n6776                                       5.0     6776\n6672                                       5.0     6672\n3759                                       5.0     3759\n3769                                       5.0     3769\n3775                                       5.0     3775\n90531                                      5.0    90531",
      "text/html": "<div>\n<style scoped>\n    .dataframe tbody tr th:only-of-type {\n        vertical-align: middle;\n    }\n\n    .dataframe tbody tr th {\n        vertical-align: top;\n    }\n\n    .dataframe thead th {\n        text-align: right;\n    }\n</style>\n<table border=\"1\" class=\"dataframe\">\n  <thead>\n    <tr style=\"text-align: right;\">\n      <th></th>\n      <th>weighted average recommendation score</th>\n      <th>movieId</th>\n    </tr>\n    <tr>\n      <th>movieId</th>\n      <th></th>\n      <th></th>\n    </tr>\n  </thead>\n  <tbody>\n    <tr>\n      <th>5073</th>\n      <td>5.0</td>\n      <td>5073</td>\n    </tr>\n    <tr>\n      <th>3329</th>\n      <td>5.0</td>\n      <td>3329</td>\n    </tr>\n    <tr>\n      <th>2284</th>\n      <td>5.0</td>\n      <td>2284</td>\n    </tr>\n    <tr>\n      <th>26801</th>\n      <td>5.0</td>\n      <td>26801</td>\n    </tr>\n    <tr>\n      <th>6776</th>\n      <td>5.0</td>\n      <td>6776</td>\n    </tr>\n    <tr>\n      <th>6672</th>\n      <td>5.0</td>\n      <td>6672</td>\n    </tr>\n    <tr>\n      <th>3759</th>\n      <td>5.0</td>\n      <td>3759</td>\n    </tr>\n    <tr>\n      <th>3769</th>\n      <td>5.0</td>\n      <td>3769</td>\n    </tr>\n    <tr>\n      <th>3775</th>\n      <td>5.0</td>\n      <td>3775</td>\n    </tr>\n    <tr>\n      <th>90531</th>\n      <td>5.0</td>\n      <td>90531</td>\n    </tr>\n  </tbody>\n</table>\n</div>"
     },
     "metadata": {},
     "output_type": "execute_result",
     "execution_count": 45
    }
   ],
   "source": [
    "recommendation_df = recommendation_df.sort_values(by='weighted average recommendation score', ascending=False)\n",
    "recommendation_df.head(10)"
   ],
   "metadata": {
    "collapsed": false,
    "pycharm": {
     "name": "#%%\n",
     "is_executing": false
    }
   }
  },
  {
   "cell_type": "code",
   "execution_count": 47,
   "outputs": [
    {
     "data": {
      "text/plain": "       movieId                                    title  year\n2200      2284                             Bandit Queen  1994\n3243      3329                 Year My Voice Broke, The  1987\n3669      3759                       Fun and Fancy Free  1947\n3679      3769                Thunderbolt and Lightfoot  1974\n3685      3775                          Make Mine Music  1946\n4978      5073  Son's Room, The (Stanza del figlio, La)  2001\n6563      6672                         War Photographer  2001\n6667      6776        Lagaan: Once Upon a Time in India  2001\n9064     26801      Dragon Inn (Sun lung moon hak chan)  1992\n18106    90531                                    Shame  2011",
      "text/html": "<div>\n<style scoped>\n    .dataframe tbody tr th:only-of-type {\n        vertical-align: middle;\n    }\n\n    .dataframe tbody tr th {\n        vertical-align: top;\n    }\n\n    .dataframe thead th {\n        text-align: right;\n    }\n</style>\n<table border=\"1\" class=\"dataframe\">\n  <thead>\n    <tr style=\"text-align: right;\">\n      <th></th>\n      <th>movieId</th>\n      <th>title</th>\n      <th>year</th>\n    </tr>\n  </thead>\n  <tbody>\n    <tr>\n      <th>2200</th>\n      <td>2284</td>\n      <td>Bandit Queen</td>\n      <td>1994</td>\n    </tr>\n    <tr>\n      <th>3243</th>\n      <td>3329</td>\n      <td>Year My Voice Broke, The</td>\n      <td>1987</td>\n    </tr>\n    <tr>\n      <th>3669</th>\n      <td>3759</td>\n      <td>Fun and Fancy Free</td>\n      <td>1947</td>\n    </tr>\n    <tr>\n      <th>3679</th>\n      <td>3769</td>\n      <td>Thunderbolt and Lightfoot</td>\n      <td>1974</td>\n    </tr>\n    <tr>\n      <th>3685</th>\n      <td>3775</td>\n      <td>Make Mine Music</td>\n      <td>1946</td>\n    </tr>\n    <tr>\n      <th>4978</th>\n      <td>5073</td>\n      <td>Son's Room, The (Stanza del figlio, La)</td>\n      <td>2001</td>\n    </tr>\n    <tr>\n      <th>6563</th>\n      <td>6672</td>\n      <td>War Photographer</td>\n      <td>2001</td>\n    </tr>\n    <tr>\n      <th>6667</th>\n      <td>6776</td>\n      <td>Lagaan: Once Upon a Time in India</td>\n      <td>2001</td>\n    </tr>\n    <tr>\n      <th>9064</th>\n      <td>26801</td>\n      <td>Dragon Inn (Sun lung moon hak chan)</td>\n      <td>1992</td>\n    </tr>\n    <tr>\n      <th>18106</th>\n      <td>90531</td>\n      <td>Shame</td>\n      <td>2011</td>\n    </tr>\n  </tbody>\n</table>\n</div>"
     },
     "metadata": {},
     "output_type": "execute_result",
     "execution_count": 47
    }
   ],
   "source": [
    "movies_df.loc[movies_df['movieId'].isin(recommendation_df.head(10)['movieId'].tolist())]"
   ],
   "metadata": {
    "collapsed": false,
    "pycharm": {
     "name": "#%%\n",
     "is_executing": false
    }
   }
  },
  {
   "cell_type": "markdown",
   "source": [
    "### Advantages and Disadvantages of Collaborative Filtering\n",
    "\n",
    "##### Advantages\n",
    "* Takes other user's ratings into consideration\n",
    "* Doesn't need to study or extract information from the recommended item\n",
    "* Adapts to the user's interests which might change over time\n",
    "\n",
    "##### Disadvantages\n",
    "* Approximation function can be slow\n",
    "* There might be a low of amount of users to approximate\n",
    "* Privacy issues when trying to learn the user's preferences"
   ],
   "metadata": {
    "collapsed": false,
    "pycharm": {
     "name": "#%% md\n"
    }
   }
  }
 ],
 "metadata": {
  "kernelspec": {
   "name": "pycharm-fe6a7a62",
   "language": "python",
   "display_name": "PyCharm (Machine-Learning)"
  },
  "language_info": {
   "codemirror_mode": {
    "name": "ipython",
    "version": 2
   },
   "file_extension": ".py",
   "mimetype": "text/x-python",
   "name": "python",
   "nbconvert_exporter": "python",
   "pygments_lexer": "ipython2",
   "version": "2.7.6"
  },
  "pycharm": {
   "stem_cell": {
    "cell_type": "raw",
    "source": [],
    "metadata": {
     "collapsed": false
    }
   }
  }
 },
 "nbformat": 4,
 "nbformat_minor": 0
}