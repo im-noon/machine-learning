{
 "cells": [
  {
   "cell_type": "markdown",
   "metadata": {
    "collapsed": true,
    "pycharm": {
     "name": "#%% md\n"
    }
   },
   "source": [
    "<a href=\"https://www.bigdatauniversity.com\"><img src=\"https://ibm.box.com/shared/static/cw2c7r3o20w9zn8gkecaeyjhgw3xdgbj.png\" width=\"400\" align=\"center\"></a>\n",
    "\n",
    "<h1 align=\"center\"><font size=\"5\">CONTENT-BASED FILTERING</font></h1>"
   ]
  },
  {
   "cell_type": "markdown",
   "source": [
    "Recommendation systems are a collection of algorithms used to recommend items to users based on information taken from the user. These systems have become ubiquitous, and can be commonly seen in online stores, movies databases and job finders. In this notebook, we will explore Content-based recommendation systems and implement a simple version of one using Python and the Pandas library."
   ],
   "metadata": {
    "collapsed": false,
    "pycharm": {
     "name": "#%% md\n"
    }
   }
  },
  {
   "cell_type": "markdown",
   "source": [
    "### Table of contents\n",
    "\n",
    "<div class=\"alert alert-block alert-info\" style=\"margin-top: 20px\">\n",
    "    <ol>\n",
    "        <li><a href=\"#ref1\">Acquiring the Data</a></li>\n",
    "        <li><a href=\"#ref2\">Preprocessing</a></li>\n",
    "        <li><a href=\"#ref3\">Content-Based Filtering</a></li>\n",
    "    </ol>\n",
    "</div>\n",
    "<br>"
   ],
   "metadata": {
    "collapsed": false,
    "pycharm": {
     "name": "#%% md\n"
    }
   }
  },
  {
   "cell_type": "markdown",
   "source": [
    "<a id=\"ref1\"></a>\n",
    "# Acquiring the Data"
   ],
   "metadata": {
    "collapsed": false,
    "pycharm": {
     "name": "#%% md\n"
    }
   }
  },
  {
   "cell_type": "markdown",
   "source": [
    "To acquire and extract the data, simply run the following Bash scripts:  \n",
    "Dataset acquired from [GroupLens](http://grouplens.org/datasets/movielens/). Lets download the dataset. To download the data, we will use **`!wget`** to download it from IBM Object Storage.  "
   ],
   "metadata": {
    "collapsed": false,
    "pycharm": {
     "name": "#%% md\n"
    }
   }
  },
  {
   "cell_type": "code",
   "source": [
    "!wget -O moviedataset.zip https://s3-api.us-geo.objectstorage.softlayer.net/cf-courses-data/CognitiveClass/ML0101ENv3/labs/moviedataset.zip\n",
    "print('unziping ...')\n",
    "!unzip -o -j moviedataset.zip "
   ],
   "metadata": {
    "collapsed": false,
    "pycharm": {
     "name": "#%%\n",
     "is_executing": false
    }
   },
   "execution_count": 1,
   "outputs": [
    {
     "name": "stdout",
     "text": [
      "--2019-11-26 07:46:05--  https://s3-api.us-geo.objectstorage.softlayer.net/cf-courses-data/CognitiveClass/ML0101ENv3/labs/moviedataset.zip\r\nResolving s3-api.us-geo.objectstorage.softlayer.net... ",
      "64:ff9b::43e4:fec4, 67.228.254.196\r\nConnecting to s3-api.us-geo.objectstorage.softlayer.net|64:ff9b::43e4:fec4|:443... ",
      "connected.\r\n",
      "HTTP request sent, awaiting response... ",
      "200 OK\r\n",
      "Length: 160301210 (153M) [application/zip]\r\nSaving to: 'moviedataset.zip'\r\n\r\n\rmoviedataset.zip      0%[                    ]       0  --.-KB/s               ",
      "\rmoviedataset.zip      0%[                    ]  23.15K   101KB/s               ",
      "\rmoviedataset.zip      0%[                    ]  54.26K   118KB/s               ",
      "\rmoviedataset.zip      0%[                    ] 120.00K   173KB/s               ",
      "\rmoviedataset.zip      0%[                    ] 248.00K   266KB/s               ",
      "\rmoviedataset.zip      0%[                    ] 504.00K   435KB/s               ",
      "\rmoviedataset.zip      0%[                    ] 759.56K   547KB/s               ",
      "\rmoviedataset.zip      0%[                    ]   1.24M   786KB/s               ",
      "\rmoviedataset.zip      1%[                    ]   2.01M  1.09MB/s               ",
      "\rmoviedataset.zip      2%[                    ]   3.15M  1.51MB/s               ",
      "\rmoviedataset.zip      2%[                    ]   4.09M  1.61MB/s               ",
      "\rmoviedataset.zip      2%[                    ]   4.41M  1.57MB/s               ",
      "\rmoviedataset.zip      4%[                    ]   6.41M  2.10MB/s    eta 70s    ",
      "\rmoviedataset.zip      4%[                    ]   6.85M  1.86MB/s    eta 70s    ",
      "\rmoviedataset.zip      4%[                    ]   6.87M  1.76MB/s    eta 70s    ",
      "\rmoviedataset.zip      4%[                    ]   6.90M  1.67MB/s    eta 88s    ",
      "\rmoviedataset.zip      4%[                    ]   6.95M  1.59MB/s    eta 88s    ",
      "\rmoviedataset.zip      5%[>                   ]   8.62M  1.87MB/s    eta 88s    ",
      "\rmoviedataset.zip      5%[>                   ]   8.91M  1.84MB/s    eta 88s    ",
      "\rmoviedataset.zip      6%[>                   ]   9.27M  1.91MB/s    eta 88s    ",
      "\rmoviedataset.zip      6%[>                   ]   9.99M  2.05MB/s    eta 76s    ",
      "\rmoviedataset.zip      6%[>                   ]  10.70M  1.91MB/s    eta 76s    ",
      "\rmoviedataset.zip      7%[>                   ]  10.73M  1.86MB/s    eta 87s    ",
      "\rmoviedataset.zip      7%[>                   ]  10.77M  1.83MB/s    eta 87s    ",
      "\rmoviedataset.zip      8%[>                   ]  12.45M  2.07MB/s    eta 87s    ",
      "\rmoviedataset.zip      8%[>                   ]  12.68M  2.01MB/s    eta 87s    ",
      "\rmoviedataset.zip      8%[>                   ]  12.76M  1.79MB/s    eta 87s    ",
      "\rmoviedataset.zip      8%[>                   ]  13.05M  1.75MB/s    eta 87s    ",
      "\rmoviedataset.zip      8%[>                   ]  13.29M  1.61MB/s    eta 87s    ",
      "\rmoviedataset.zip      8%[>                   ]  13.57M  1.59MB/s    eta 87s    ",
      "\rmoviedataset.zip      9%[>                   ]  13.98M  1.58MB/s    eta 87s    ",
      "\rmoviedataset.zip      9%[>                   ]  14.62M  1.64MB/s    eta 86s    ",
      "\rmoviedataset.zip     10%[=>                  ]  15.49M  1.41MB/s    eta 86s    ",
      "\rmoviedataset.zip     10%[=>                  ]  16.70M  1.63MB/s    eta 86s    ",
      "\rmoviedataset.zip     11%[=>                  ]  18.27M  1.89MB/s    eta 86s    ",
      "\rmoviedataset.zip     12%[=>                  ]  19.38M  2.07MB/s    eta 70s    ",
      "\rmoviedataset.zip     13%[=>                  ]  20.43M  2.24MB/s    eta 70s    ",
      "\rmoviedataset.zip     13%[=>                  ]  21.22M  2.13MB/s    eta 70s    ",
      "\rmoviedataset.zip     14%[=>                  ]  22.08M  2.23MB/s    eta 70s    ",
      "\rmoviedataset.zip     15%[==>                 ]  23.19M  2.59MB/s    eta 70s    ",
      "\rmoviedataset.zip     15%[==>                 ]  24.40M  2.89MB/s    eta 59s    ",
      "\rmoviedataset.zip     16%[==>                 ]  25.60M  3.13MB/s    eta 59s    ",
      "\rmoviedataset.zip     17%[==>                 ]  26.82M  3.18MB/s    eta 59s    ",
      "\rmoviedataset.zip     17%[==>                 ]  27.44M  3.55MB/s    eta 59s    ",
      "\rmoviedataset.zip     19%[==>                 ]  29.17M  3.93MB/s    eta 53s    ",
      "\rmoviedataset.zip     19%[==>                 ]  30.12M  4.12MB/s    eta 53s    ",
      "\rmoviedataset.zip     20%[===>                ]  31.08M  4.39MB/s    eta 53s    ",
      "\rmoviedataset.zip     20%[===>                ]  31.51M  4.55MB/s    eta 53s    ",
      "\rmoviedataset.zip     20%[===>                ]  31.96M  4.24MB/s    eta 53s    ",
      "\rmoviedataset.zip     21%[===>                ]  33.26M  4.17MB/s    eta 49s    ",
      "\rmoviedataset.zip     22%[===>                ]  34.05M  4.11MB/s    eta 49s    ",
      "\rmoviedataset.zip     22%[===>                ]  34.90M  4.06MB/s    eta 49s    ",
      "\rmoviedataset.zip     23%[===>                ]  35.55M  3.99MB/s    eta 49s    ",
      "\rmoviedataset.zip     23%[===>                ]  36.33M  3.92MB/s    eta 49s    ",
      "\rmoviedataset.zip     24%[===>                ]  37.21M  3.89MB/s    eta 46s    ",
      "\rmoviedataset.zip     24%[===>                ]  38.07M  3.76MB/s    eta 46s    ",
      "\rmoviedataset.zip     25%[====>               ]  38.96M  3.72MB/s    eta 46s    ",
      "\rmoviedataset.zip     25%[====>               ]  39.72M  3.65MB/s    eta 46s    ",
      "\rmoviedataset.zip     26%[====>               ]  40.38M  3.88MB/s    eta 46s    ",
      "\rmoviedataset.zip     26%[====>               ]  41.17M  3.59MB/s    eta 43s    ",
      "\rmoviedataset.zip     27%[====>               ]  41.88M  3.48MB/s    eta 43s    ",
      "\rmoviedataset.zip     27%[====>               ]  42.72M  3.46MB/s    eta 43s    ",
      "\rmoviedataset.zip     28%[====>               ]  43.64M  3.59MB/s    eta 43s    ",
      "\rmoviedataset.zip     29%[====>               ]  44.55M  3.82MB/s    eta 43s    ",
      "\rmoviedataset.zip     29%[====>               ]  45.47M  3.64MB/s    eta 40s    ",
      "\rmoviedataset.zip     30%[=====>              ]  46.21M  3.69MB/s    eta 40s    ",
      "\rmoviedataset.zip     30%[=====>              ]  47.02M  3.67MB/s    eta 40s    ",
      "\rmoviedataset.zip     31%[=====>              ]  47.61M  3.69MB/s    eta 40s    ",
      "\rmoviedataset.zip     31%[=====>              ]  48.36M  3.63MB/s    eta 40s    ",
      "\rmoviedataset.zip     32%[=====>              ]  49.28M  3.70MB/s    eta 38s    ",
      "\rmoviedataset.zip     32%[=====>              ]  49.87M  3.20MB/s    eta 38s    ",
      "\rmoviedataset.zip     33%[=====>              ]  51.76M  3.43MB/s    eta 38s    ",
      "\rmoviedataset.zip     33%[=====>              ]  51.94M  3.22MB/s    eta 37s    ",
      "\rmoviedataset.zip     34%[=====>              ]  52.30M  3.12MB/s    eta 37s    ",
      "\rmoviedataset.zip     34%[=====>              ]  53.40M  3.14MB/s    eta 37s    ",
      "\rmoviedataset.zip     35%[======>             ]  54.69M  3.27MB/s    eta 37s    ",
      "\rmoviedataset.zip     36%[======>             ]  55.44M  3.25MB/s    eta 35s    ",
      "\rmoviedataset.zip     36%[======>             ]  56.30M  3.23MB/s    eta 35s    ",
      "\rmoviedataset.zip     37%[======>             ]  57.16M  3.26MB/s    eta 35s    ",
      "\rmoviedataset.zip     37%[======>             ]  58.03M  3.24MB/s    eta 35s    ",
      "\rmoviedataset.zip     38%[======>             ]  58.92M  3.28MB/s    eta 35s    ",
      "\rmoviedataset.zip     39%[======>             ]  59.81M  3.24MB/s    eta 33s    ",
      "\rmoviedataset.zip     39%[======>             ]  60.71M  3.25MB/s    eta 33s    ",
      "\rmoviedataset.zip     40%[=======>            ]  61.58M  3.27MB/s    eta 33s    ",
      "\rmoviedataset.zip     40%[=======>            ]  62.11M  3.18MB/s    eta 33s    ",
      "\rmoviedataset.zip     41%[=======>            ]  63.00M  3.24MB/s    eta 33s    ",
      "\rmoviedataset.zip     41%[=======>            ]  63.92M  3.69MB/s    eta 31s    ",
      "\rmoviedataset.zip     42%[=======>            ]  64.76M  3.48MB/s    eta 31s    ",
      "\rmoviedataset.zip     42%[=======>            ]  65.41M  3.68MB/s    eta 31s    ",
      "\rmoviedataset.zip     43%[=======>            ]  65.94M  3.74MB/s    eta 31s    ",
      "\rmoviedataset.zip     43%[=======>            ]  66.86M  3.62MB/s    eta 31s    ",
      "\rmoviedataset.zip     44%[=======>            ]  67.80M  3.62MB/s    eta 29s    ",
      "\rmoviedataset.zip     44%[=======>            ]  68.75M  3.57MB/s    eta 29s    ",
      "\rmoviedataset.zip     45%[========>           ]  69.70M  3.66MB/s    eta 29s    ",
      "\rmoviedataset.zip     46%[========>           ]  70.63M  3.73MB/s    eta 29s    ",
      "\rmoviedataset.zip     46%[========>           ]  71.58M  3.72MB/s    eta 29s    ",
      "\rmoviedataset.zip     47%[========>           ]  72.13M  3.46MB/s    eta 28s    ",
      "\rmoviedataset.zip     47%[========>           ]  73.35M  3.61MB/s    eta 28s    ",
      "\rmoviedataset.zip     48%[========>           ]  74.09M  3.58MB/s    eta 28s    ",
      "\rmoviedataset.zip     48%[========>           ]  74.86M  3.56MB/s    eta 28s    ",
      "\rmoviedataset.zip     49%[========>           ]  75.66M  3.51MB/s    eta 28s    ",
      "\rmoviedataset.zip     50%[=========>          ]  76.46M  3.52MB/s    eta 26s    ",
      "\rmoviedataset.zip     50%[=========>          ]  77.08M  3.46MB/s    eta 26s    ",
      "\rmoviedataset.zip     50%[=========>          ]  77.71M  3.49MB/s    eta 26s    ",
      "\rmoviedataset.zip     51%[=========>          ]  78.29M  3.35MB/s    eta 26s    ",
      "\rmoviedataset.zip     51%[=========>          ]  79.13M  3.40MB/s    eta 26s    ",
      "\rmoviedataset.zip     52%[=========>          ]  79.99M  3.40MB/s    eta 25s    ",
      "\rmoviedataset.zip     52%[=========>          ]  80.87M  3.45MB/s    eta 25s    ",
      "\rmoviedataset.zip     53%[=========>          ]  81.74M  3.42MB/s    eta 25s    ",
      "\rmoviedataset.zip     54%[=========>          ]  82.64M  3.36MB/s    eta 25s    ",
      "\rmoviedataset.zip     54%[=========>          ]  83.38M  3.45MB/s    eta 25s    ",
      "\rmoviedataset.zip     54%[=========>          ]  83.95M  3.41MB/s    eta 23s    ",
      "\rmoviedataset.zip     55%[==========>         ]  84.81M  3.39MB/s    eta 23s    ",
      "\rmoviedataset.zip     56%[==========>         ]  85.67M  3.53MB/s    eta 23s    ",
      "\rmoviedataset.zip     56%[==========>         ]  86.55M  3.50MB/s    eta 23s    ",
      "\rmoviedataset.zip     56%[==========>         ]  87.05M  3.56MB/s    eta 23s    ",
      "\rmoviedataset.zip     57%[==========>         ]  87.77M  3.51MB/s    eta 22s    ",
      "\rmoviedataset.zip     58%[==========>         ]  88.68M  3.66MB/s    eta 22s    ",
      "\rmoviedataset.zip     58%[==========>         ]  89.44M  3.34MB/s    eta 22s    ",
      "\rmoviedataset.zip     59%[==========>         ]  90.73M  3.58MB/s    eta 22s    ",
      "\rmoviedataset.zip     59%[==========>         ]  91.45M  3.54MB/s    eta 20s    ",
      "\rmoviedataset.zip     60%[===========>        ]  92.15M  3.49MB/s    eta 20s    ",
      "\rmoviedataset.zip     60%[===========>        ]  92.73M  3.25MB/s    eta 20s    ",
      "\rmoviedataset.zip     61%[===========>        ]  93.76M  3.40MB/s    eta 20s    ",
      "\rmoviedataset.zip     61%[===========>        ]  94.39M  3.23MB/s    eta 19s    ",
      "\rmoviedataset.zip     62%[===========>        ]  95.01M  3.21MB/s    eta 19s    ",
      "\rmoviedataset.zip     62%[===========>        ]  95.64M  3.15MB/s    eta 19s    ",
      "\rmoviedataset.zip     62%[===========>        ]  96.29M  3.16MB/s    eta 19s    ",
      "\rmoviedataset.zip     63%[===========>        ]  96.95M  3.03MB/s    eta 19s    ",
      "\rmoviedataset.zip     63%[===========>        ]  97.61M  2.98MB/s    eta 19s    ",
      "\rmoviedataset.zip     64%[===========>        ]  98.29M  2.97MB/s    eta 19s    ",
      "\rmoviedataset.zip     64%[===========>        ]  98.96M  2.91MB/s    eta 19s    ",
      "\rmoviedataset.zip     65%[============>       ]  99.65M  2.85MB/s    eta 19s    ",
      "\rmoviedataset.zip     65%[============>       ] 100.33M  2.93MB/s    eta 18s    ",
      "\rmoviedataset.zip     66%[============>       ] 100.96M  2.83MB/s    eta 18s    ",
      "\rmoviedataset.zip     66%[============>       ] 101.15M  2.87MB/s    eta 18s    ",
      "\rmoviedataset.zip     66%[============>       ] 101.77M  2.67MB/s    eta 18s    ",
      "\rmoviedataset.zip     67%[============>       ] 102.47M  2.63MB/s    eta 18s    ",
      "\rmoviedataset.zip     67%[============>       ] 103.16M  2.64MB/s    eta 17s    ",
      "\rmoviedataset.zip     67%[============>       ] 103.86M  2.66MB/s    eta 17s    ",
      "\rmoviedataset.zip     68%[============>       ] 104.55M  2.64MB/s    eta 17s    ",
      "\rmoviedataset.zip     68%[============>       ] 105.25M  2.75MB/s    eta 17s    ",
      "\rmoviedataset.zip     69%[============>       ] 105.95M  2.78MB/s    eta 17s    ",
      "\rmoviedataset.zip     69%[============>       ] 106.52M  2.78MB/s    eta 16s    ",
      "\rmoviedataset.zip     70%[=============>      ] 107.10M  2.83MB/s    eta 16s    ",
      "\rmoviedataset.zip     70%[=============>      ] 107.69M  2.78MB/s    eta 16s    ",
      "\rmoviedataset.zip     70%[=============>      ] 108.35M  2.78MB/s    eta 16s    ",
      "\rmoviedataset.zip     71%[=============>      ] 108.89M  2.84MB/s    eta 16s    ",
      "\rmoviedataset.zip     71%[=============>      ] 109.58M  2.85MB/s    eta 15s    ",
      "\rmoviedataset.zip     72%[=============>      ] 110.29M  2.94MB/s    eta 15s    ",
      "\rmoviedataset.zip     72%[=============>      ] 110.99M  2.92MB/s    eta 15s    ",
      "\rmoviedataset.zip     72%[=============>      ] 111.51M  2.93MB/s    eta 15s    ",
      "\rmoviedataset.zip     73%[=============>      ] 112.13M  2.89MB/s    eta 15s    ",
      "\rmoviedataset.zip     73%[=============>      ] 112.82M  2.88MB/s    eta 13s    ",
      "\rmoviedataset.zip     74%[=============>      ] 113.31M  2.92MB/s    eta 13s    ",
      "\rmoviedataset.zip     74%[=============>      ] 113.89M  2.87MB/s    eta 13s    ",
      "\rmoviedataset.zip     74%[=============>      ] 114.55M  2.92MB/s    eta 13s    ",
      "\rmoviedataset.zip     75%[==============>     ] 115.15M  2.94MB/s    eta 13s    ",
      "\rmoviedataset.zip     75%[==============>     ] 115.74M  2.91MB/s    eta 12s    ",
      "\rmoviedataset.zip     76%[==============>     ] 116.42M  2.96MB/s    eta 12s    ",
      "\rmoviedataset.zip     76%[==============>     ] 116.88M  2.86MB/s    eta 12s    ",
      "\rmoviedataset.zip     76%[==============>     ] 117.58M  2.91MB/s    eta 12s    ",
      "\rmoviedataset.zip     77%[==============>     ] 118.27M  2.91MB/s    eta 12s    ",
      "\rmoviedataset.zip     77%[==============>     ] 118.94M  2.92MB/s    eta 11s    ",
      "\rmoviedataset.zip     78%[==============>     ] 119.45M  2.91MB/s    eta 11s    ",
      "\rmoviedataset.zip     78%[==============>     ] 120.07M  2.93MB/s    eta 11s    ",
      "\rmoviedataset.zip     78%[==============>     ] 120.45M  2.84MB/s    eta 11s    ",
      "\rmoviedataset.zip     79%[==============>     ] 121.16M  2.84MB/s    eta 11s    ",
      "\rmoviedataset.zip     79%[==============>     ] 121.89M  2.81MB/s    eta 10s    ",
      "\rmoviedataset.zip     80%[===============>    ] 122.58M  2.84MB/s    eta 10s    ",
      "\rmoviedataset.zip     80%[===============>    ] 123.30M  2.86MB/s    eta 10s    ",
      "\rmoviedataset.zip     81%[===============>    ] 124.00M  2.88MB/s    eta 10s    ",
      "\rmoviedataset.zip     81%[===============>    ] 124.72M  2.91MB/s    eta 10s    \rmoviedataset.zip     81%[===============>    ] 125.32M  2.87MB/s    eta 9s     ",
      "\rmoviedataset.zip     82%[===============>    ] 125.68M  2.84MB/s    eta 9s     ",
      "\rmoviedataset.zip     82%[===============>    ] 126.29M  2.84MB/s    eta 9s     ",
      "\rmoviedataset.zip     83%[===============>    ] 126.98M  2.85MB/s    eta 9s     ",
      "\rmoviedataset.zip     83%[===============>    ] 127.66M  2.89MB/s    eta 9s     ",
      "\rmoviedataset.zip     83%[===============>    ] 128.33M  2.92MB/s    eta 8s     ",
      "\rmoviedataset.zip     84%[===============>    ] 128.91M  2.89MB/s    eta 8s     ",
      "\rmoviedataset.zip     84%[===============>    ] 129.36M  2.89MB/s    eta 8s     ",
      "\rmoviedataset.zip     85%[================>   ] 130.00M  2.85MB/s    eta 8s     ",
      "\rmoviedataset.zip     85%[================>   ] 130.63M  2.95MB/s    eta 8s     ",
      "\rmoviedataset.zip     85%[================>   ] 131.32M  2.98MB/s    eta 7s     ",
      "\rmoviedataset.zip     86%[================>   ] 131.74M  2.87MB/s    eta 7s     ",
      "\rmoviedataset.zip     86%[================>   ] 132.28M  2.83MB/s    eta 7s     ",
      "\rmoviedataset.zip     87%[================>   ] 133.00M  2.90MB/s    eta 7s     ",
      "\rmoviedataset.zip     87%[================>   ] 133.72M  2.86MB/s    eta 7s     ",
      "\rmoviedataset.zip     87%[================>   ] 134.44M  2.98MB/s    eta 6s     ",
      "\rmoviedataset.zip     88%[================>   ] 135.14M  2.97MB/s    eta 6s     ",
      "\rmoviedataset.zip     88%[================>   ] 135.72M  2.91MB/s    eta 6s     ",
      "\rmoviedataset.zip     89%[================>   ] 136.10M  2.93MB/s    eta 6s     ",
      "\rmoviedataset.zip     89%[================>   ] 136.77M  2.87MB/s    eta 6s     ",
      "\rmoviedataset.zip     89%[================>   ] 137.46M  2.96MB/s    eta 5s     ",
      "\rmoviedataset.zip     90%[=================>  ] 138.15M  2.93MB/s    eta 5s     ",
      "\rmoviedataset.zip     90%[=================>  ] 138.63M  2.95MB/s    eta 5s     ",
      "\rmoviedataset.zip     90%[=================>  ] 139.05M  2.82MB/s    eta 5s     ",
      "\rmoviedataset.zip     91%[=================>  ] 139.76M  2.91MB/s    eta 5s     ",
      "\r",
      "moviedataset.zip     91%[=================>  ] 140.47M  2.90MB/s    eta 4s     ",
      "\rmoviedataset.zip     92%[=================>  ] 141.19M  2.93MB/s    eta 4s     ",
      "\rmoviedataset.zip     92%[=================>  ] 141.72M  2.88MB/s    eta 4s     ",
      "\rmoviedataset.zip     93%[=================>  ] 142.25M  2.93MB/s    eta 4s     ",
      "\rmoviedataset.zip     93%[=================>  ] 142.98M  2.91MB/s    eta 4s     ",
      "\rmoviedataset.zip     93%[=================>  ] 143.70M  2.95MB/s    eta 3s     ",
      "\rmoviedataset.zip     94%[=================>  ] 144.43M  2.93MB/s    eta 3s     ",
      "\rmoviedataset.zip     94%[=================>  ] 145.16M  2.99MB/s    eta 3s     ",
      "\rmoviedataset.zip     95%[==================> ] 145.30M  2.81MB/s    eta 3s     ",
      "\rmoviedataset.zip     95%[==================> ] 145.73M  2.62MB/s    eta 3s     ",
      "\rmoviedataset.zip     95%[==================> ] 145.75M  2.50MB/s    eta 2s     ",
      "\rmoviedataset.zip     95%[==================> ] 146.47M  2.50MB/s    eta 2s     ",
      "\rmoviedataset.zip     96%[==================> ] 147.58M  2.68MB/s    eta 2s     ",
      "\rmoviedataset.zip     96%[==================> ] 148.12M  2.59MB/s    eta 2s     ",
      "\rmoviedataset.zip     97%[==================> ] 148.66M  2.54MB/s    eta 2s     ",
      "\r",
      "moviedataset.zip     97%[==================> ] 149.21M  2.47MB/s    eta 1s     ",
      "\rmoviedataset.zip     97%[==================> ] 149.74M  2.49MB/s    eta 1s     ",
      "\rmoviedataset.zip     98%[==================> ] 150.28M  2.46MB/s    eta 1s     ",
      "\rmoviedataset.zip     98%[==================> ] 150.82M  2.40MB/s    eta 1s     ",
      "\rmoviedataset.zip     98%[==================> ] 151.35M  2.36MB/s    eta 1s     ",
      "\rmoviedataset.zip     99%[==================> ] 151.88M  2.32MB/s    eta 0s     ",
      "\rmoviedataset.zip     99%[==================> ] 152.38M  2.27MB/s    eta 0s     ",
      "\rmoviedataset.zip     99%[==================> ] 152.75M  2.30MB/s    eta 0s     ",
      "\rmoviedataset.zip    100%[===================>] 152.88M  2.31MB/s    in 53s     \r\n\r\n2019-11-26 07:46:59 (2.91 MB/s) - 'moviedataset.zip' saved [160301210/160301210]\r\n\r\n",
      "unziping ...\n",
      "Archive:  moviedataset.zip\r\n  inflating: links.csv               ",
      "\r\n  inflating: movies.csv              ",
      "\r\n  inflating: ratings.csv             ",
      "\r\n  inflating: README.txt              \r\n  inflating: tags.csv                ",
      "\r\n"
     ],
     "output_type": "stream"
    }
   ]
  },
  {
   "cell_type": "markdown",
   "source": [
    "Now you're ready to start working with the data!"
   ],
   "metadata": {
    "collapsed": false,
    "pycharm": {
     "name": "#%% md\n"
    }
   }
  },
  {
   "cell_type": "markdown",
   "source": [
    "<a id=\"ref2\"></a>\n",
    "# Preprocessing"
   ],
   "metadata": {
    "collapsed": false,
    "pycharm": {
     "name": "#%% md\n"
    }
   }
  },
  {
   "cell_type": "markdown",
   "source": [
    "First, let's get all of the imports out of the way:"
   ],
   "metadata": {
    "collapsed": false,
    "pycharm": {
     "name": "#%% md\n"
    }
   }
  },
  {
   "cell_type": "code",
   "execution_count": 2,
   "outputs": [],
   "source": [
    "#Dataframe manipulation library\n",
    "import pandas as pd\n",
    "#Math functions, we'll only need the sqrt function so let's import only that\n",
    "from math import sqrt\n",
    "import numpy as np\n",
    "import matplotlib.pyplot as plt\n",
    "%matplotlib inline"
   ],
   "metadata": {
    "collapsed": false,
    "pycharm": {
     "name": "#%%\n",
     "is_executing": false
    }
   }
  },
  {
   "cell_type": "markdown",
   "source": [
    "Now let's read each file into their Dataframes:"
   ],
   "metadata": {
    "collapsed": false,
    "pycharm": {
     "name": "#%% md\n"
    }
   }
  },
  {
   "cell_type": "code",
   "execution_count": 3,
   "outputs": [
    {
     "data": {
      "text/plain": "   movieId                               title  \\\n0        1                    Toy Story (1995)   \n1        2                      Jumanji (1995)   \n2        3             Grumpier Old Men (1995)   \n3        4            Waiting to Exhale (1995)   \n4        5  Father of the Bride Part II (1995)   \n\n                                        genres  \n0  Adventure|Animation|Children|Comedy|Fantasy  \n1                   Adventure|Children|Fantasy  \n2                               Comedy|Romance  \n3                         Comedy|Drama|Romance  \n4                                       Comedy  ",
      "text/html": "<div>\n<style scoped>\n    .dataframe tbody tr th:only-of-type {\n        vertical-align: middle;\n    }\n\n    .dataframe tbody tr th {\n        vertical-align: top;\n    }\n\n    .dataframe thead th {\n        text-align: right;\n    }\n</style>\n<table border=\"1\" class=\"dataframe\">\n  <thead>\n    <tr style=\"text-align: right;\">\n      <th></th>\n      <th>movieId</th>\n      <th>title</th>\n      <th>genres</th>\n    </tr>\n  </thead>\n  <tbody>\n    <tr>\n      <th>0</th>\n      <td>1</td>\n      <td>Toy Story (1995)</td>\n      <td>Adventure|Animation|Children|Comedy|Fantasy</td>\n    </tr>\n    <tr>\n      <th>1</th>\n      <td>2</td>\n      <td>Jumanji (1995)</td>\n      <td>Adventure|Children|Fantasy</td>\n    </tr>\n    <tr>\n      <th>2</th>\n      <td>3</td>\n      <td>Grumpier Old Men (1995)</td>\n      <td>Comedy|Romance</td>\n    </tr>\n    <tr>\n      <th>3</th>\n      <td>4</td>\n      <td>Waiting to Exhale (1995)</td>\n      <td>Comedy|Drama|Romance</td>\n    </tr>\n    <tr>\n      <th>4</th>\n      <td>5</td>\n      <td>Father of the Bride Part II (1995)</td>\n      <td>Comedy</td>\n    </tr>\n  </tbody>\n</table>\n</div>"
     },
     "metadata": {},
     "output_type": "execute_result",
     "execution_count": 3
    }
   ],
   "source": [
    "#Storing the movie information into a pandas dataframe\n",
    "movies_df = pd.read_csv('movies.csv')\n",
    "#Storing the user information into a pandas dataframe\n",
    "ratings_df = pd.read_csv('ratings.csv')\n",
    "#Head is a function that gets the first N rows of a dataframe. N's default is 5.\n",
    "movies_df.head()"
   ],
   "metadata": {
    "collapsed": false,
    "pycharm": {
     "name": "#%%\n",
     "is_executing": false
    }
   }
  },
  {
   "cell_type": "markdown",
   "source": [
    "Let's also remove the year from the __title__ column by using pandas' replace function and store in a new __year__ column."
   ],
   "metadata": {
    "collapsed": false,
    "pycharm": {
     "name": "#%% md\n"
    }
   }
  },
  {
   "cell_type": "code",
   "source": [
    "#Using regular expressions to find a year stored between parentheses\n",
    "#We specify the parantheses so we don't conflict with movies that have years in their titles\n",
    "movies_df['year'] = movies_df.title.str.extract('(\\(\\d\\d\\d\\d\\))',expand=False)\n",
    "#Removing the parentheses\n",
    "movies_df['year'] = movies_df.year.str.extract('(\\d\\d\\d\\d)',expand=False)\n",
    "#Removing the years from the 'title' column\n",
    "movies_df['title'] = movies_df.title.str.replace('(\\(\\d\\d\\d\\d\\))', '')\n",
    "#Applying the strip function to get rid of any ending whitespace characters that may have appeared\n",
    "movies_df['title'] = movies_df['title'].apply(lambda x: x.strip())\n",
    "movies_df.head()"
   ],
   "metadata": {
    "collapsed": false,
    "pycharm": {
     "name": "#%%\n",
     "is_executing": false
    }
   },
   "execution_count": 4,
   "outputs": [
    {
     "data": {
      "text/plain": "   movieId                        title  \\\n0        1                    Toy Story   \n1        2                      Jumanji   \n2        3             Grumpier Old Men   \n3        4            Waiting to Exhale   \n4        5  Father of the Bride Part II   \n\n                                        genres  year  \n0  Adventure|Animation|Children|Comedy|Fantasy  1995  \n1                   Adventure|Children|Fantasy  1995  \n2                               Comedy|Romance  1995  \n3                         Comedy|Drama|Romance  1995  \n4                                       Comedy  1995  ",
      "text/html": "<div>\n<style scoped>\n    .dataframe tbody tr th:only-of-type {\n        vertical-align: middle;\n    }\n\n    .dataframe tbody tr th {\n        vertical-align: top;\n    }\n\n    .dataframe thead th {\n        text-align: right;\n    }\n</style>\n<table border=\"1\" class=\"dataframe\">\n  <thead>\n    <tr style=\"text-align: right;\">\n      <th></th>\n      <th>movieId</th>\n      <th>title</th>\n      <th>genres</th>\n      <th>year</th>\n    </tr>\n  </thead>\n  <tbody>\n    <tr>\n      <th>0</th>\n      <td>1</td>\n      <td>Toy Story</td>\n      <td>Adventure|Animation|Children|Comedy|Fantasy</td>\n      <td>1995</td>\n    </tr>\n    <tr>\n      <th>1</th>\n      <td>2</td>\n      <td>Jumanji</td>\n      <td>Adventure|Children|Fantasy</td>\n      <td>1995</td>\n    </tr>\n    <tr>\n      <th>2</th>\n      <td>3</td>\n      <td>Grumpier Old Men</td>\n      <td>Comedy|Romance</td>\n      <td>1995</td>\n    </tr>\n    <tr>\n      <th>3</th>\n      <td>4</td>\n      <td>Waiting to Exhale</td>\n      <td>Comedy|Drama|Romance</td>\n      <td>1995</td>\n    </tr>\n    <tr>\n      <th>4</th>\n      <td>5</td>\n      <td>Father of the Bride Part II</td>\n      <td>Comedy</td>\n      <td>1995</td>\n    </tr>\n  </tbody>\n</table>\n</div>"
     },
     "metadata": {},
     "output_type": "execute_result",
     "execution_count": 4
    }
   ]
  },
  {
   "cell_type": "markdown",
   "source": [
    "With that, let's also split the values in the __Genres__ column into a __list of Genres__ to simplify future use. This can be achieved by applying Python's split string function on the correct column."
   ],
   "metadata": {
    "collapsed": false,
    "pycharm": {
     "name": "#%% md\n"
    }
   }
  },
  {
   "cell_type": "code",
   "execution_count": 5,
   "outputs": [
    {
     "data": {
      "text/plain": "   movieId                        title  \\\n0        1                    Toy Story   \n1        2                      Jumanji   \n2        3             Grumpier Old Men   \n3        4            Waiting to Exhale   \n4        5  Father of the Bride Part II   \n\n                                              genres  year  \n0  [Adventure, Animation, Children, Comedy, Fantasy]  1995  \n1                     [Adventure, Children, Fantasy]  1995  \n2                                  [Comedy, Romance]  1995  \n3                           [Comedy, Drama, Romance]  1995  \n4                                           [Comedy]  1995  ",
      "text/html": "<div>\n<style scoped>\n    .dataframe tbody tr th:only-of-type {\n        vertical-align: middle;\n    }\n\n    .dataframe tbody tr th {\n        vertical-align: top;\n    }\n\n    .dataframe thead th {\n        text-align: right;\n    }\n</style>\n<table border=\"1\" class=\"dataframe\">\n  <thead>\n    <tr style=\"text-align: right;\">\n      <th></th>\n      <th>movieId</th>\n      <th>title</th>\n      <th>genres</th>\n      <th>year</th>\n    </tr>\n  </thead>\n  <tbody>\n    <tr>\n      <th>0</th>\n      <td>1</td>\n      <td>Toy Story</td>\n      <td>[Adventure, Animation, Children, Comedy, Fantasy]</td>\n      <td>1995</td>\n    </tr>\n    <tr>\n      <th>1</th>\n      <td>2</td>\n      <td>Jumanji</td>\n      <td>[Adventure, Children, Fantasy]</td>\n      <td>1995</td>\n    </tr>\n    <tr>\n      <th>2</th>\n      <td>3</td>\n      <td>Grumpier Old Men</td>\n      <td>[Comedy, Romance]</td>\n      <td>1995</td>\n    </tr>\n    <tr>\n      <th>3</th>\n      <td>4</td>\n      <td>Waiting to Exhale</td>\n      <td>[Comedy, Drama, Romance]</td>\n      <td>1995</td>\n    </tr>\n    <tr>\n      <th>4</th>\n      <td>5</td>\n      <td>Father of the Bride Part II</td>\n      <td>[Comedy]</td>\n      <td>1995</td>\n    </tr>\n  </tbody>\n</table>\n</div>"
     },
     "metadata": {},
     "output_type": "execute_result",
     "execution_count": 5
    }
   ],
   "source": [
    "#Every genre is separated by a | so we simply have to call the split function on |\n",
    "movies_df['genres'] = movies_df.genres.str.split('|')\n",
    "movies_df.head()"
   ],
   "metadata": {
    "collapsed": false,
    "pycharm": {
     "name": "#%%\n",
     "is_executing": false
    }
   }
  },
  {
   "cell_type": "markdown",
   "source": [
    "Since keeping genres in a list format isn't optimal for the content-based recommendation system technique, we will use the One Hot Encoding technique to convert the list of genres to a vector where each column corresponds to one possible value of the feature. This encoding is needed for feeding categorical data. In this case, we store every different genre in columns that contain either 1 or 0. 1 shows that a movie has that genre and 0 shows that it doesn't. Let's also store this dataframe in another variable since genres won't be important for our first recommendation system."
   ],
   "metadata": {
    "collapsed": false,
    "pycharm": {
     "name": "#%% md\n"
    }
   }
  },
  {
   "cell_type": "code",
   "execution_count": 6,
   "outputs": [
    {
     "data": {
      "text/plain": "   movieId                        title  \\\n0        1                    Toy Story   \n1        2                      Jumanji   \n2        3             Grumpier Old Men   \n3        4            Waiting to Exhale   \n4        5  Father of the Bride Part II   \n\n                                              genres  year  Adventure  \\\n0  [Adventure, Animation, Children, Comedy, Fantasy]  1995        1.0   \n1                     [Adventure, Children, Fantasy]  1995        1.0   \n2                                  [Comedy, Romance]  1995        0.0   \n3                           [Comedy, Drama, Romance]  1995        0.0   \n4                                           [Comedy]  1995        0.0   \n\n   Animation  Children  Comedy  Fantasy  Romance  ...  Horror  Mystery  \\\n0        1.0       1.0     1.0      1.0      0.0  ...     0.0      0.0   \n1        0.0       1.0     0.0      1.0      0.0  ...     0.0      0.0   \n2        0.0       0.0     1.0      0.0      1.0  ...     0.0      0.0   \n3        0.0       0.0     1.0      0.0      1.0  ...     0.0      0.0   \n4        0.0       0.0     1.0      0.0      0.0  ...     0.0      0.0   \n\n   Sci-Fi  IMAX  Documentary  War  Musical  Western  Film-Noir  \\\n0     0.0   0.0          0.0  0.0      0.0      0.0        0.0   \n1     0.0   0.0          0.0  0.0      0.0      0.0        0.0   \n2     0.0   0.0          0.0  0.0      0.0      0.0        0.0   \n3     0.0   0.0          0.0  0.0      0.0      0.0        0.0   \n4     0.0   0.0          0.0  0.0      0.0      0.0        0.0   \n\n   (no genres listed)  \n0                 0.0  \n1                 0.0  \n2                 0.0  \n3                 0.0  \n4                 0.0  \n\n[5 rows x 24 columns]",
      "text/html": "<div>\n<style scoped>\n    .dataframe tbody tr th:only-of-type {\n        vertical-align: middle;\n    }\n\n    .dataframe tbody tr th {\n        vertical-align: top;\n    }\n\n    .dataframe thead th {\n        text-align: right;\n    }\n</style>\n<table border=\"1\" class=\"dataframe\">\n  <thead>\n    <tr style=\"text-align: right;\">\n      <th></th>\n      <th>movieId</th>\n      <th>title</th>\n      <th>genres</th>\n      <th>year</th>\n      <th>Adventure</th>\n      <th>Animation</th>\n      <th>Children</th>\n      <th>Comedy</th>\n      <th>Fantasy</th>\n      <th>Romance</th>\n      <th>...</th>\n      <th>Horror</th>\n      <th>Mystery</th>\n      <th>Sci-Fi</th>\n      <th>IMAX</th>\n      <th>Documentary</th>\n      <th>War</th>\n      <th>Musical</th>\n      <th>Western</th>\n      <th>Film-Noir</th>\n      <th>(no genres listed)</th>\n    </tr>\n  </thead>\n  <tbody>\n    <tr>\n      <th>0</th>\n      <td>1</td>\n      <td>Toy Story</td>\n      <td>[Adventure, Animation, Children, Comedy, Fantasy]</td>\n      <td>1995</td>\n      <td>1.0</td>\n      <td>1.0</td>\n      <td>1.0</td>\n      <td>1.0</td>\n      <td>1.0</td>\n      <td>0.0</td>\n      <td>...</td>\n      <td>0.0</td>\n      <td>0.0</td>\n      <td>0.0</td>\n      <td>0.0</td>\n      <td>0.0</td>\n      <td>0.0</td>\n      <td>0.0</td>\n      <td>0.0</td>\n      <td>0.0</td>\n      <td>0.0</td>\n    </tr>\n    <tr>\n      <th>1</th>\n      <td>2</td>\n      <td>Jumanji</td>\n      <td>[Adventure, Children, Fantasy]</td>\n      <td>1995</td>\n      <td>1.0</td>\n      <td>0.0</td>\n      <td>1.0</td>\n      <td>0.0</td>\n      <td>1.0</td>\n      <td>0.0</td>\n      <td>...</td>\n      <td>0.0</td>\n      <td>0.0</td>\n      <td>0.0</td>\n      <td>0.0</td>\n      <td>0.0</td>\n      <td>0.0</td>\n      <td>0.0</td>\n      <td>0.0</td>\n      <td>0.0</td>\n      <td>0.0</td>\n    </tr>\n    <tr>\n      <th>2</th>\n      <td>3</td>\n      <td>Grumpier Old Men</td>\n      <td>[Comedy, Romance]</td>\n      <td>1995</td>\n      <td>0.0</td>\n      <td>0.0</td>\n      <td>0.0</td>\n      <td>1.0</td>\n      <td>0.0</td>\n      <td>1.0</td>\n      <td>...</td>\n      <td>0.0</td>\n      <td>0.0</td>\n      <td>0.0</td>\n      <td>0.0</td>\n      <td>0.0</td>\n      <td>0.0</td>\n      <td>0.0</td>\n      <td>0.0</td>\n      <td>0.0</td>\n      <td>0.0</td>\n    </tr>\n    <tr>\n      <th>3</th>\n      <td>4</td>\n      <td>Waiting to Exhale</td>\n      <td>[Comedy, Drama, Romance]</td>\n      <td>1995</td>\n      <td>0.0</td>\n      <td>0.0</td>\n      <td>0.0</td>\n      <td>1.0</td>\n      <td>0.0</td>\n      <td>1.0</td>\n      <td>...</td>\n      <td>0.0</td>\n      <td>0.0</td>\n      <td>0.0</td>\n      <td>0.0</td>\n      <td>0.0</td>\n      <td>0.0</td>\n      <td>0.0</td>\n      <td>0.0</td>\n      <td>0.0</td>\n      <td>0.0</td>\n    </tr>\n    <tr>\n      <th>4</th>\n      <td>5</td>\n      <td>Father of the Bride Part II</td>\n      <td>[Comedy]</td>\n      <td>1995</td>\n      <td>0.0</td>\n      <td>0.0</td>\n      <td>0.0</td>\n      <td>1.0</td>\n      <td>0.0</td>\n      <td>0.0</td>\n      <td>...</td>\n      <td>0.0</td>\n      <td>0.0</td>\n      <td>0.0</td>\n      <td>0.0</td>\n      <td>0.0</td>\n      <td>0.0</td>\n      <td>0.0</td>\n      <td>0.0</td>\n      <td>0.0</td>\n      <td>0.0</td>\n    </tr>\n  </tbody>\n</table>\n<p>5 rows × 24 columns</p>\n</div>"
     },
     "metadata": {},
     "output_type": "execute_result",
     "execution_count": 6
    }
   ],
   "source": [
    "#Copying the movie dataframe into a new one since we won't need to use the genre information in our first case.\n",
    "moviesWithGenres_df = movies_df.copy()\n",
    "\n",
    "#For every row in the dataframe, iterate through the list of genres and place a 1 into the corresponding column\n",
    "for index, row in movies_df.iterrows():\n",
    "    for genre in row['genres']:\n",
    "        moviesWithGenres_df.at[index, genre] = 1\n",
    "#Filling in the NaN values with 0 to show that a movie doesn't have that column's genre\n",
    "moviesWithGenres_df = moviesWithGenres_df.fillna(0)\n",
    "moviesWithGenres_df.head()"
   ],
   "metadata": {
    "collapsed": false,
    "pycharm": {
     "name": "#%%\n",
     "is_executing": false
    }
   }
  },
  {
   "cell_type": "markdown",
   "source": [
    "Next, let's look at the ratings dataframe."
   ],
   "metadata": {
    "collapsed": false,
    "pycharm": {
     "name": "#%% md\n"
    }
   }
  },
  {
   "cell_type": "code",
   "execution_count": 7,
   "outputs": [
    {
     "data": {
      "text/plain": "   userId  movieId  rating   timestamp\n0       1      169     2.5  1204927694\n1       1     2471     3.0  1204927438\n2       1    48516     5.0  1204927435\n3       2     2571     3.5  1436165433\n4       2   109487     4.0  1436165496",
      "text/html": "<div>\n<style scoped>\n    .dataframe tbody tr th:only-of-type {\n        vertical-align: middle;\n    }\n\n    .dataframe tbody tr th {\n        vertical-align: top;\n    }\n\n    .dataframe thead th {\n        text-align: right;\n    }\n</style>\n<table border=\"1\" class=\"dataframe\">\n  <thead>\n    <tr style=\"text-align: right;\">\n      <th></th>\n      <th>userId</th>\n      <th>movieId</th>\n      <th>rating</th>\n      <th>timestamp</th>\n    </tr>\n  </thead>\n  <tbody>\n    <tr>\n      <th>0</th>\n      <td>1</td>\n      <td>169</td>\n      <td>2.5</td>\n      <td>1204927694</td>\n    </tr>\n    <tr>\n      <th>1</th>\n      <td>1</td>\n      <td>2471</td>\n      <td>3.0</td>\n      <td>1204927438</td>\n    </tr>\n    <tr>\n      <th>2</th>\n      <td>1</td>\n      <td>48516</td>\n      <td>5.0</td>\n      <td>1204927435</td>\n    </tr>\n    <tr>\n      <th>3</th>\n      <td>2</td>\n      <td>2571</td>\n      <td>3.5</td>\n      <td>1436165433</td>\n    </tr>\n    <tr>\n      <th>4</th>\n      <td>2</td>\n      <td>109487</td>\n      <td>4.0</td>\n      <td>1436165496</td>\n    </tr>\n  </tbody>\n</table>\n</div>"
     },
     "metadata": {},
     "output_type": "execute_result",
     "execution_count": 7
    }
   ],
   "source": [
    "ratings_df.head()"
   ],
   "metadata": {
    "collapsed": false,
    "pycharm": {
     "name": "#%%\n",
     "is_executing": false
    }
   }
  },
  {
   "cell_type": "markdown",
   "source": [
    "Every row in the ratings dataframe has a user id associated with at least one movie, a rating and a timestamp showing when they reviewed it. We won't be needing the timestamp column, so let's drop it to save on memory."
   ],
   "metadata": {
    "collapsed": false,
    "pycharm": {
     "name": "#%% md\n"
    }
   }
  },
  {
   "cell_type": "code",
   "source": [
    "#Drop removes a specified row or column from a dataframe\n",
    "ratings_df = ratings_df.drop('timestamp', 1)\n",
    "ratings_df.head()"
   ],
   "metadata": {
    "collapsed": false,
    "pycharm": {
     "name": "#%%\n",
     "is_executing": false
    }
   },
   "execution_count": 8,
   "outputs": [
    {
     "data": {
      "text/plain": "   userId  movieId  rating\n0       1      169     2.5\n1       1     2471     3.0\n2       1    48516     5.0\n3       2     2571     3.5\n4       2   109487     4.0",
      "text/html": "<div>\n<style scoped>\n    .dataframe tbody tr th:only-of-type {\n        vertical-align: middle;\n    }\n\n    .dataframe tbody tr th {\n        vertical-align: top;\n    }\n\n    .dataframe thead th {\n        text-align: right;\n    }\n</style>\n<table border=\"1\" class=\"dataframe\">\n  <thead>\n    <tr style=\"text-align: right;\">\n      <th></th>\n      <th>userId</th>\n      <th>movieId</th>\n      <th>rating</th>\n    </tr>\n  </thead>\n  <tbody>\n    <tr>\n      <th>0</th>\n      <td>1</td>\n      <td>169</td>\n      <td>2.5</td>\n    </tr>\n    <tr>\n      <th>1</th>\n      <td>1</td>\n      <td>2471</td>\n      <td>3.0</td>\n    </tr>\n    <tr>\n      <th>2</th>\n      <td>1</td>\n      <td>48516</td>\n      <td>5.0</td>\n    </tr>\n    <tr>\n      <th>3</th>\n      <td>2</td>\n      <td>2571</td>\n      <td>3.5</td>\n    </tr>\n    <tr>\n      <th>4</th>\n      <td>2</td>\n      <td>109487</td>\n      <td>4.0</td>\n    </tr>\n  </tbody>\n</table>\n</div>"
     },
     "metadata": {},
     "output_type": "execute_result",
     "execution_count": 8
    }
   ]
  },
  {
   "cell_type": "markdown",
   "source": [
    "<a id=\"ref3\"></a>\n",
    "# Content-Based recommendation system"
   ],
   "metadata": {
    "collapsed": false,
    "pycharm": {
     "name": "#%% md\n"
    }
   }
  },
  {
   "cell_type": "markdown",
   "source": [
    "Now, let's take a look at how to implement __Content-Based__ or __Item-Item recommendation systems__. This technique attempts to figure out what a user's favourite aspects of an item is, and then recommends items that present those aspects. In our case, we're going to try to figure out the input's favorite genres from the movies and ratings given.\n",
    "\n",
    "Let's begin by creating an input user to recommend movies to:\n",
    "\n",
    "Notice: To add more movies, simply increase the amount of elements in the __userInput__. Feel free to add more in! Just be sure to write it in with capital letters and if a movie starts with a \"The\", like \"The Matrix\" then write it in like this: 'Matrix, The' ."
   ],
   "metadata": {
    "collapsed": false,
    "pycharm": {
     "name": "#%% md\n"
    }
   }
  },
  {
   "cell_type": "code",
   "execution_count": 9,
   "outputs": [
    {
     "data": {
      "text/plain": "                 title  rating\n0  Breakfast Club, The     5.0\n1            Toy Story     3.5\n2              Jumanji     2.0\n3         Pulp Fiction     5.0\n4                Akira     4.5",
      "text/html": "<div>\n<style scoped>\n    .dataframe tbody tr th:only-of-type {\n        vertical-align: middle;\n    }\n\n    .dataframe tbody tr th {\n        vertical-align: top;\n    }\n\n    .dataframe thead th {\n        text-align: right;\n    }\n</style>\n<table border=\"1\" class=\"dataframe\">\n  <thead>\n    <tr style=\"text-align: right;\">\n      <th></th>\n      <th>title</th>\n      <th>rating</th>\n    </tr>\n  </thead>\n  <tbody>\n    <tr>\n      <th>0</th>\n      <td>Breakfast Club, The</td>\n      <td>5.0</td>\n    </tr>\n    <tr>\n      <th>1</th>\n      <td>Toy Story</td>\n      <td>3.5</td>\n    </tr>\n    <tr>\n      <th>2</th>\n      <td>Jumanji</td>\n      <td>2.0</td>\n    </tr>\n    <tr>\n      <th>3</th>\n      <td>Pulp Fiction</td>\n      <td>5.0</td>\n    </tr>\n    <tr>\n      <th>4</th>\n      <td>Akira</td>\n      <td>4.5</td>\n    </tr>\n  </tbody>\n</table>\n</div>"
     },
     "metadata": {},
     "output_type": "execute_result",
     "execution_count": 9
    }
   ],
   "source": [
    "userInput = [\n",
    "            {'title':'Breakfast Club, The', 'rating':5},\n",
    "            {'title':'Toy Story', 'rating':3.5},\n",
    "            {'title':'Jumanji', 'rating':2},\n",
    "            {'title':\"Pulp Fiction\", 'rating':5},\n",
    "            {'title':'Akira', 'rating':4.5}\n",
    "         ] \n",
    "inputMovies = pd.DataFrame(userInput)\n",
    "inputMovies"
   ],
   "metadata": {
    "collapsed": false,
    "pycharm": {
     "name": "#%%\n",
     "is_executing": false
    }
   }
  },
  {
   "cell_type": "markdown",
   "source": [
    "#### Add movieId to input user\n",
    "With the input complete, let's extract the input movie's ID's from the movies dataframe and add them into it.\n",
    "\n",
    "We can achieve this by first filtering out the rows that contain the input movie's title and then merging this subset with the input dataframe. We also drop unnecessary columns for the input to save memory space."
   ],
   "metadata": {
    "collapsed": false,
    "pycharm": {
     "name": "#%% md\n"
    }
   }
  },
  {
   "cell_type": "code",
   "execution_count": 10,
   "outputs": [
    {
     "data": {
      "text/plain": "   movieId                title  rating\n0        1            Toy Story     3.5\n1        2              Jumanji     2.0\n2      296         Pulp Fiction     5.0\n3     1274                Akira     4.5\n4     1968  Breakfast Club, The     5.0",
      "text/html": "<div>\n<style scoped>\n    .dataframe tbody tr th:only-of-type {\n        vertical-align: middle;\n    }\n\n    .dataframe tbody tr th {\n        vertical-align: top;\n    }\n\n    .dataframe thead th {\n        text-align: right;\n    }\n</style>\n<table border=\"1\" class=\"dataframe\">\n  <thead>\n    <tr style=\"text-align: right;\">\n      <th></th>\n      <th>movieId</th>\n      <th>title</th>\n      <th>rating</th>\n    </tr>\n  </thead>\n  <tbody>\n    <tr>\n      <th>0</th>\n      <td>1</td>\n      <td>Toy Story</td>\n      <td>3.5</td>\n    </tr>\n    <tr>\n      <th>1</th>\n      <td>2</td>\n      <td>Jumanji</td>\n      <td>2.0</td>\n    </tr>\n    <tr>\n      <th>2</th>\n      <td>296</td>\n      <td>Pulp Fiction</td>\n      <td>5.0</td>\n    </tr>\n    <tr>\n      <th>3</th>\n      <td>1274</td>\n      <td>Akira</td>\n      <td>4.5</td>\n    </tr>\n    <tr>\n      <th>4</th>\n      <td>1968</td>\n      <td>Breakfast Club, The</td>\n      <td>5.0</td>\n    </tr>\n  </tbody>\n</table>\n</div>"
     },
     "metadata": {},
     "output_type": "execute_result",
     "execution_count": 10
    }
   ],
   "source": [
    "#Filtering out the movies by title\n",
    "inputId = movies_df[movies_df['title'].isin(inputMovies['title'].tolist())]\n",
    "#Then merging it so we can get the movieId. It's implicitly merging it by title.\n",
    "inputMovies = pd.merge(inputId, inputMovies)\n",
    "#Dropping information we won't use from the input dataframe\n",
    "inputMovies = inputMovies.drop('genres', 1).drop('year', 1)\n",
    "#Final input dataframe\n",
    "#If a movie you added in above isn't here, then it might not be in the original \n",
    "#dataframe or it might spelled differently, please check capitalisation.\n",
    "inputMovies"
   ],
   "metadata": {
    "collapsed": false,
    "pycharm": {
     "name": "#%%\n",
     "is_executing": false
    }
   }
  },
  {
   "cell_type": "markdown",
   "source": [
    "We're going to start by learning the input's preferences, so let's get the subset of movies that the input has watched from the Dataframe containing genres defined with binary values."
   ],
   "metadata": {
    "collapsed": false,
    "pycharm": {
     "name": "#%% md\n"
    }
   }
  },
  {
   "cell_type": "code",
   "execution_count": 11,
   "outputs": [
    {
     "data": {
      "text/plain": "      movieId                title  \\\n0           1            Toy Story   \n1           2              Jumanji   \n293       296         Pulp Fiction   \n1246     1274                Akira   \n1885     1968  Breakfast Club, The   \n\n                                                 genres  year  Adventure  \\\n0     [Adventure, Animation, Children, Comedy, Fantasy]  1995        1.0   \n1                        [Adventure, Children, Fantasy]  1995        1.0   \n293                    [Comedy, Crime, Drama, Thriller]  1994        0.0   \n1246             [Action, Adventure, Animation, Sci-Fi]  1988        1.0   \n1885                                    [Comedy, Drama]  1985        0.0   \n\n      Animation  Children  Comedy  Fantasy  Romance  ...  Horror  Mystery  \\\n0           1.0       1.0     1.0      1.0      0.0  ...     0.0      0.0   \n1           0.0       1.0     0.0      1.0      0.0  ...     0.0      0.0   \n293         0.0       0.0     1.0      0.0      0.0  ...     0.0      0.0   \n1246        1.0       0.0     0.0      0.0      0.0  ...     0.0      0.0   \n1885        0.0       0.0     1.0      0.0      0.0  ...     0.0      0.0   \n\n      Sci-Fi  IMAX  Documentary  War  Musical  Western  Film-Noir  \\\n0        0.0   0.0          0.0  0.0      0.0      0.0        0.0   \n1        0.0   0.0          0.0  0.0      0.0      0.0        0.0   \n293      0.0   0.0          0.0  0.0      0.0      0.0        0.0   \n1246     1.0   0.0          0.0  0.0      0.0      0.0        0.0   \n1885     0.0   0.0          0.0  0.0      0.0      0.0        0.0   \n\n      (no genres listed)  \n0                    0.0  \n1                    0.0  \n293                  0.0  \n1246                 0.0  \n1885                 0.0  \n\n[5 rows x 24 columns]",
      "text/html": "<div>\n<style scoped>\n    .dataframe tbody tr th:only-of-type {\n        vertical-align: middle;\n    }\n\n    .dataframe tbody tr th {\n        vertical-align: top;\n    }\n\n    .dataframe thead th {\n        text-align: right;\n    }\n</style>\n<table border=\"1\" class=\"dataframe\">\n  <thead>\n    <tr style=\"text-align: right;\">\n      <th></th>\n      <th>movieId</th>\n      <th>title</th>\n      <th>genres</th>\n      <th>year</th>\n      <th>Adventure</th>\n      <th>Animation</th>\n      <th>Children</th>\n      <th>Comedy</th>\n      <th>Fantasy</th>\n      <th>Romance</th>\n      <th>...</th>\n      <th>Horror</th>\n      <th>Mystery</th>\n      <th>Sci-Fi</th>\n      <th>IMAX</th>\n      <th>Documentary</th>\n      <th>War</th>\n      <th>Musical</th>\n      <th>Western</th>\n      <th>Film-Noir</th>\n      <th>(no genres listed)</th>\n    </tr>\n  </thead>\n  <tbody>\n    <tr>\n      <th>0</th>\n      <td>1</td>\n      <td>Toy Story</td>\n      <td>[Adventure, Animation, Children, Comedy, Fantasy]</td>\n      <td>1995</td>\n      <td>1.0</td>\n      <td>1.0</td>\n      <td>1.0</td>\n      <td>1.0</td>\n      <td>1.0</td>\n      <td>0.0</td>\n      <td>...</td>\n      <td>0.0</td>\n      <td>0.0</td>\n      <td>0.0</td>\n      <td>0.0</td>\n      <td>0.0</td>\n      <td>0.0</td>\n      <td>0.0</td>\n      <td>0.0</td>\n      <td>0.0</td>\n      <td>0.0</td>\n    </tr>\n    <tr>\n      <th>1</th>\n      <td>2</td>\n      <td>Jumanji</td>\n      <td>[Adventure, Children, Fantasy]</td>\n      <td>1995</td>\n      <td>1.0</td>\n      <td>0.0</td>\n      <td>1.0</td>\n      <td>0.0</td>\n      <td>1.0</td>\n      <td>0.0</td>\n      <td>...</td>\n      <td>0.0</td>\n      <td>0.0</td>\n      <td>0.0</td>\n      <td>0.0</td>\n      <td>0.0</td>\n      <td>0.0</td>\n      <td>0.0</td>\n      <td>0.0</td>\n      <td>0.0</td>\n      <td>0.0</td>\n    </tr>\n    <tr>\n      <th>293</th>\n      <td>296</td>\n      <td>Pulp Fiction</td>\n      <td>[Comedy, Crime, Drama, Thriller]</td>\n      <td>1994</td>\n      <td>0.0</td>\n      <td>0.0</td>\n      <td>0.0</td>\n      <td>1.0</td>\n      <td>0.0</td>\n      <td>0.0</td>\n      <td>...</td>\n      <td>0.0</td>\n      <td>0.0</td>\n      <td>0.0</td>\n      <td>0.0</td>\n      <td>0.0</td>\n      <td>0.0</td>\n      <td>0.0</td>\n      <td>0.0</td>\n      <td>0.0</td>\n      <td>0.0</td>\n    </tr>\n    <tr>\n      <th>1246</th>\n      <td>1274</td>\n      <td>Akira</td>\n      <td>[Action, Adventure, Animation, Sci-Fi]</td>\n      <td>1988</td>\n      <td>1.0</td>\n      <td>1.0</td>\n      <td>0.0</td>\n      <td>0.0</td>\n      <td>0.0</td>\n      <td>0.0</td>\n      <td>...</td>\n      <td>0.0</td>\n      <td>0.0</td>\n      <td>1.0</td>\n      <td>0.0</td>\n      <td>0.0</td>\n      <td>0.0</td>\n      <td>0.0</td>\n      <td>0.0</td>\n      <td>0.0</td>\n      <td>0.0</td>\n    </tr>\n    <tr>\n      <th>1885</th>\n      <td>1968</td>\n      <td>Breakfast Club, The</td>\n      <td>[Comedy, Drama]</td>\n      <td>1985</td>\n      <td>0.0</td>\n      <td>0.0</td>\n      <td>0.0</td>\n      <td>1.0</td>\n      <td>0.0</td>\n      <td>0.0</td>\n      <td>...</td>\n      <td>0.0</td>\n      <td>0.0</td>\n      <td>0.0</td>\n      <td>0.0</td>\n      <td>0.0</td>\n      <td>0.0</td>\n      <td>0.0</td>\n      <td>0.0</td>\n      <td>0.0</td>\n      <td>0.0</td>\n    </tr>\n  </tbody>\n</table>\n<p>5 rows × 24 columns</p>\n</div>"
     },
     "metadata": {},
     "output_type": "execute_result",
     "execution_count": 11
    }
   ],
   "source": [
    "#Filtering out the movies from the input\n",
    "userMovies = moviesWithGenres_df[moviesWithGenres_df['movieId'].isin(inputMovies['movieId'].tolist())]\n",
    "userMovies"
   ],
   "metadata": {
    "collapsed": false,
    "pycharm": {
     "name": "#%%\n",
     "is_executing": false
    }
   }
  },
  {
   "cell_type": "markdown",
   "source": [
    "We'll only need the actual genre table, so let's clean this up a bit by resetting the index and dropping the movieId, title, genres and year columns."
   ],
   "metadata": {
    "collapsed": false,
    "pycharm": {
     "name": "#%% md\n"
    }
   }
  },
  {
   "cell_type": "code",
   "source": [
    "#Resetting the index to avoid future issues\n",
    "userMovies = userMovies.reset_index(drop=True)\n",
    "#Dropping unnecessary issues due to save memory and to avoid issues\n",
    "userGenreTable = userMovies.drop('movieId', 1).drop('title', 1).drop('genres', 1).drop('year', 1)\n",
    "userGenreTable"
   ],
   "metadata": {
    "collapsed": false,
    "pycharm": {
     "name": "#%%\n",
     "is_executing": false
    }
   },
   "execution_count": 12,
   "outputs": [
    {
     "data": {
      "text/plain": "   Adventure  Animation  Children  Comedy  Fantasy  Romance  Drama  Action  \\\n0        1.0        1.0       1.0     1.0      1.0      0.0    0.0     0.0   \n1        1.0        0.0       1.0     0.0      1.0      0.0    0.0     0.0   \n2        0.0        0.0       0.0     1.0      0.0      0.0    1.0     0.0   \n3        1.0        1.0       0.0     0.0      0.0      0.0    0.0     1.0   \n4        0.0        0.0       0.0     1.0      0.0      0.0    1.0     0.0   \n\n   Crime  Thriller  Horror  Mystery  Sci-Fi  IMAX  Documentary  War  Musical  \\\n0    0.0       0.0     0.0      0.0     0.0   0.0          0.0  0.0      0.0   \n1    0.0       0.0     0.0      0.0     0.0   0.0          0.0  0.0      0.0   \n2    1.0       1.0     0.0      0.0     0.0   0.0          0.0  0.0      0.0   \n3    0.0       0.0     0.0      0.0     1.0   0.0          0.0  0.0      0.0   \n4    0.0       0.0     0.0      0.0     0.0   0.0          0.0  0.0      0.0   \n\n   Western  Film-Noir  (no genres listed)  \n0      0.0        0.0                 0.0  \n1      0.0        0.0                 0.0  \n2      0.0        0.0                 0.0  \n3      0.0        0.0                 0.0  \n4      0.0        0.0                 0.0  ",
      "text/html": "<div>\n<style scoped>\n    .dataframe tbody tr th:only-of-type {\n        vertical-align: middle;\n    }\n\n    .dataframe tbody tr th {\n        vertical-align: top;\n    }\n\n    .dataframe thead th {\n        text-align: right;\n    }\n</style>\n<table border=\"1\" class=\"dataframe\">\n  <thead>\n    <tr style=\"text-align: right;\">\n      <th></th>\n      <th>Adventure</th>\n      <th>Animation</th>\n      <th>Children</th>\n      <th>Comedy</th>\n      <th>Fantasy</th>\n      <th>Romance</th>\n      <th>Drama</th>\n      <th>Action</th>\n      <th>Crime</th>\n      <th>Thriller</th>\n      <th>Horror</th>\n      <th>Mystery</th>\n      <th>Sci-Fi</th>\n      <th>IMAX</th>\n      <th>Documentary</th>\n      <th>War</th>\n      <th>Musical</th>\n      <th>Western</th>\n      <th>Film-Noir</th>\n      <th>(no genres listed)</th>\n    </tr>\n  </thead>\n  <tbody>\n    <tr>\n      <th>0</th>\n      <td>1.0</td>\n      <td>1.0</td>\n      <td>1.0</td>\n      <td>1.0</td>\n      <td>1.0</td>\n      <td>0.0</td>\n      <td>0.0</td>\n      <td>0.0</td>\n      <td>0.0</td>\n      <td>0.0</td>\n      <td>0.0</td>\n      <td>0.0</td>\n      <td>0.0</td>\n      <td>0.0</td>\n      <td>0.0</td>\n      <td>0.0</td>\n      <td>0.0</td>\n      <td>0.0</td>\n      <td>0.0</td>\n      <td>0.0</td>\n    </tr>\n    <tr>\n      <th>1</th>\n      <td>1.0</td>\n      <td>0.0</td>\n      <td>1.0</td>\n      <td>0.0</td>\n      <td>1.0</td>\n      <td>0.0</td>\n      <td>0.0</td>\n      <td>0.0</td>\n      <td>0.0</td>\n      <td>0.0</td>\n      <td>0.0</td>\n      <td>0.0</td>\n      <td>0.0</td>\n      <td>0.0</td>\n      <td>0.0</td>\n      <td>0.0</td>\n      <td>0.0</td>\n      <td>0.0</td>\n      <td>0.0</td>\n      <td>0.0</td>\n    </tr>\n    <tr>\n      <th>2</th>\n      <td>0.0</td>\n      <td>0.0</td>\n      <td>0.0</td>\n      <td>1.0</td>\n      <td>0.0</td>\n      <td>0.0</td>\n      <td>1.0</td>\n      <td>0.0</td>\n      <td>1.0</td>\n      <td>1.0</td>\n      <td>0.0</td>\n      <td>0.0</td>\n      <td>0.0</td>\n      <td>0.0</td>\n      <td>0.0</td>\n      <td>0.0</td>\n      <td>0.0</td>\n      <td>0.0</td>\n      <td>0.0</td>\n      <td>0.0</td>\n    </tr>\n    <tr>\n      <th>3</th>\n      <td>1.0</td>\n      <td>1.0</td>\n      <td>0.0</td>\n      <td>0.0</td>\n      <td>0.0</td>\n      <td>0.0</td>\n      <td>0.0</td>\n      <td>1.0</td>\n      <td>0.0</td>\n      <td>0.0</td>\n      <td>0.0</td>\n      <td>0.0</td>\n      <td>1.0</td>\n      <td>0.0</td>\n      <td>0.0</td>\n      <td>0.0</td>\n      <td>0.0</td>\n      <td>0.0</td>\n      <td>0.0</td>\n      <td>0.0</td>\n    </tr>\n    <tr>\n      <th>4</th>\n      <td>0.0</td>\n      <td>0.0</td>\n      <td>0.0</td>\n      <td>1.0</td>\n      <td>0.0</td>\n      <td>0.0</td>\n      <td>1.0</td>\n      <td>0.0</td>\n      <td>0.0</td>\n      <td>0.0</td>\n      <td>0.0</td>\n      <td>0.0</td>\n      <td>0.0</td>\n      <td>0.0</td>\n      <td>0.0</td>\n      <td>0.0</td>\n      <td>0.0</td>\n      <td>0.0</td>\n      <td>0.0</td>\n      <td>0.0</td>\n    </tr>\n  </tbody>\n</table>\n</div>"
     },
     "metadata": {},
     "output_type": "execute_result",
     "execution_count": 12
    }
   ]
  },
  {
   "cell_type": "markdown",
   "source": [
    "Now we're ready to start learning the input's preferences!\n",
    "\n",
    "To do this, we're going to turn each genre into weights. We can do this by using the input's reviews and multiplying them into the input's genre table and then summing up the resulting table by column. This operation is actually a dot product between a matrix and a vector, so we can simply accomplish by calling Pandas's \"dot\" function."
   ],
   "metadata": {
    "collapsed": false,
    "pycharm": {
     "name": "#%% md\n"
    }
   }
  },
  {
   "cell_type": "code",
   "execution_count": 13,
   "outputs": [
    {
     "data": {
      "text/plain": "0    3.5\n1    2.0\n2    5.0\n3    4.5\n4    5.0\nName: rating, dtype: float64"
     },
     "metadata": {},
     "output_type": "execute_result",
     "execution_count": 13
    }
   ],
   "source": [
    "inputMovies['rating']"
   ],
   "metadata": {
    "collapsed": false,
    "pycharm": {
     "name": "#%%\n",
     "is_executing": false
    }
   }
  },
  {
   "cell_type": "code",
   "source": [
    "#Dot produt to get weights\n",
    "userProfile = userGenreTable.transpose().dot(inputMovies['rating'])\n",
    "#The user profile\n",
    "userProfile"
   ],
   "metadata": {
    "collapsed": false,
    "pycharm": {
     "name": "#%%\n",
     "is_executing": false
    }
   },
   "execution_count": 14,
   "outputs": [
    {
     "data": {
      "text/plain": "Adventure             10.0\nAnimation              8.0\nChildren               5.5\nComedy                13.5\nFantasy                5.5\nRomance                0.0\nDrama                 10.0\nAction                 4.5\nCrime                  5.0\nThriller               5.0\nHorror                 0.0\nMystery                0.0\nSci-Fi                 4.5\nIMAX                   0.0\nDocumentary            0.0\nWar                    0.0\nMusical                0.0\nWestern                0.0\nFilm-Noir              0.0\n(no genres listed)     0.0\ndtype: float64"
     },
     "metadata": {},
     "output_type": "execute_result",
     "execution_count": 14
    }
   ]
  },
  {
   "cell_type": "markdown",
   "source": [
    "Now, we have the weights for every of the user's preferences. This is known as the User Profile. Using this, we can recommend movies that satisfy the user's preferences."
   ],
   "metadata": {
    "collapsed": false,
    "pycharm": {
     "name": "#%% md\n"
    }
   }
  },
  {
   "cell_type": "markdown",
   "source": [
    "Let's start by extracting the genre table from the original dataframe:"
   ],
   "metadata": {
    "collapsed": false,
    "pycharm": {
     "name": "#%% md\n"
    }
   }
  },
  {
   "cell_type": "code",
   "execution_count": 15,
   "outputs": [
    {
     "data": {
      "text/plain": "         Adventure  Animation  Children  Comedy  Fantasy  Romance  Drama  \\\nmovieId                                                                    \n1              1.0        1.0       1.0     1.0      1.0      0.0    0.0   \n2              1.0        0.0       1.0     0.0      1.0      0.0    0.0   \n3              0.0        0.0       0.0     1.0      0.0      1.0    0.0   \n4              0.0        0.0       0.0     1.0      0.0      1.0    1.0   \n5              0.0        0.0       0.0     1.0      0.0      0.0    0.0   \n\n         Action  Crime  Thriller  Horror  Mystery  Sci-Fi  IMAX  Documentary  \\\nmovieId                                                                        \n1           0.0    0.0       0.0     0.0      0.0     0.0   0.0          0.0   \n2           0.0    0.0       0.0     0.0      0.0     0.0   0.0          0.0   \n3           0.0    0.0       0.0     0.0      0.0     0.0   0.0          0.0   \n4           0.0    0.0       0.0     0.0      0.0     0.0   0.0          0.0   \n5           0.0    0.0       0.0     0.0      0.0     0.0   0.0          0.0   \n\n         War  Musical  Western  Film-Noir  (no genres listed)  \nmovieId                                                        \n1        0.0      0.0      0.0        0.0                 0.0  \n2        0.0      0.0      0.0        0.0                 0.0  \n3        0.0      0.0      0.0        0.0                 0.0  \n4        0.0      0.0      0.0        0.0                 0.0  \n5        0.0      0.0      0.0        0.0                 0.0  ",
      "text/html": "<div>\n<style scoped>\n    .dataframe tbody tr th:only-of-type {\n        vertical-align: middle;\n    }\n\n    .dataframe tbody tr th {\n        vertical-align: top;\n    }\n\n    .dataframe thead th {\n        text-align: right;\n    }\n</style>\n<table border=\"1\" class=\"dataframe\">\n  <thead>\n    <tr style=\"text-align: right;\">\n      <th></th>\n      <th>Adventure</th>\n      <th>Animation</th>\n      <th>Children</th>\n      <th>Comedy</th>\n      <th>Fantasy</th>\n      <th>Romance</th>\n      <th>Drama</th>\n      <th>Action</th>\n      <th>Crime</th>\n      <th>Thriller</th>\n      <th>Horror</th>\n      <th>Mystery</th>\n      <th>Sci-Fi</th>\n      <th>IMAX</th>\n      <th>Documentary</th>\n      <th>War</th>\n      <th>Musical</th>\n      <th>Western</th>\n      <th>Film-Noir</th>\n      <th>(no genres listed)</th>\n    </tr>\n    <tr>\n      <th>movieId</th>\n      <th></th>\n      <th></th>\n      <th></th>\n      <th></th>\n      <th></th>\n      <th></th>\n      <th></th>\n      <th></th>\n      <th></th>\n      <th></th>\n      <th></th>\n      <th></th>\n      <th></th>\n      <th></th>\n      <th></th>\n      <th></th>\n      <th></th>\n      <th></th>\n      <th></th>\n      <th></th>\n    </tr>\n  </thead>\n  <tbody>\n    <tr>\n      <th>1</th>\n      <td>1.0</td>\n      <td>1.0</td>\n      <td>1.0</td>\n      <td>1.0</td>\n      <td>1.0</td>\n      <td>0.0</td>\n      <td>0.0</td>\n      <td>0.0</td>\n      <td>0.0</td>\n      <td>0.0</td>\n      <td>0.0</td>\n      <td>0.0</td>\n      <td>0.0</td>\n      <td>0.0</td>\n      <td>0.0</td>\n      <td>0.0</td>\n      <td>0.0</td>\n      <td>0.0</td>\n      <td>0.0</td>\n      <td>0.0</td>\n    </tr>\n    <tr>\n      <th>2</th>\n      <td>1.0</td>\n      <td>0.0</td>\n      <td>1.0</td>\n      <td>0.0</td>\n      <td>1.0</td>\n      <td>0.0</td>\n      <td>0.0</td>\n      <td>0.0</td>\n      <td>0.0</td>\n      <td>0.0</td>\n      <td>0.0</td>\n      <td>0.0</td>\n      <td>0.0</td>\n      <td>0.0</td>\n      <td>0.0</td>\n      <td>0.0</td>\n      <td>0.0</td>\n      <td>0.0</td>\n      <td>0.0</td>\n      <td>0.0</td>\n    </tr>\n    <tr>\n      <th>3</th>\n      <td>0.0</td>\n      <td>0.0</td>\n      <td>0.0</td>\n      <td>1.0</td>\n      <td>0.0</td>\n      <td>1.0</td>\n      <td>0.0</td>\n      <td>0.0</td>\n      <td>0.0</td>\n      <td>0.0</td>\n      <td>0.0</td>\n      <td>0.0</td>\n      <td>0.0</td>\n      <td>0.0</td>\n      <td>0.0</td>\n      <td>0.0</td>\n      <td>0.0</td>\n      <td>0.0</td>\n      <td>0.0</td>\n      <td>0.0</td>\n    </tr>\n    <tr>\n      <th>4</th>\n      <td>0.0</td>\n      <td>0.0</td>\n      <td>0.0</td>\n      <td>1.0</td>\n      <td>0.0</td>\n      <td>1.0</td>\n      <td>1.0</td>\n      <td>0.0</td>\n      <td>0.0</td>\n      <td>0.0</td>\n      <td>0.0</td>\n      <td>0.0</td>\n      <td>0.0</td>\n      <td>0.0</td>\n      <td>0.0</td>\n      <td>0.0</td>\n      <td>0.0</td>\n      <td>0.0</td>\n      <td>0.0</td>\n      <td>0.0</td>\n    </tr>\n    <tr>\n      <th>5</th>\n      <td>0.0</td>\n      <td>0.0</td>\n      <td>0.0</td>\n      <td>1.0</td>\n      <td>0.0</td>\n      <td>0.0</td>\n      <td>0.0</td>\n      <td>0.0</td>\n      <td>0.0</td>\n      <td>0.0</td>\n      <td>0.0</td>\n      <td>0.0</td>\n      <td>0.0</td>\n      <td>0.0</td>\n      <td>0.0</td>\n      <td>0.0</td>\n      <td>0.0</td>\n      <td>0.0</td>\n      <td>0.0</td>\n      <td>0.0</td>\n    </tr>\n  </tbody>\n</table>\n</div>"
     },
     "metadata": {},
     "output_type": "execute_result",
     "execution_count": 15
    }
   ],
   "source": [
    "#Now let's get the genres of every movie in our original dataframe\n",
    "genreTable = moviesWithGenres_df.set_index(moviesWithGenres_df['movieId'])\n",
    "#And drop the unnecessary information\n",
    "genreTable = genreTable.drop('movieId', 1).drop('title', 1).drop('genres', 1).drop('year', 1)\n",
    "genreTable.head()"
   ],
   "metadata": {
    "collapsed": false,
    "pycharm": {
     "name": "#%%\n",
     "is_executing": false
    }
   }
  },
  {
   "cell_type": "code",
   "execution_count": 16,
   "outputs": [
    {
     "data": {
      "text/plain": "(34208, 20)"
     },
     "metadata": {},
     "output_type": "execute_result",
     "execution_count": 16
    }
   ],
   "source": [
    "genreTable.shape"
   ],
   "metadata": {
    "collapsed": false,
    "pycharm": {
     "name": "#%%\n",
     "is_executing": false
    }
   }
  },
  {
   "cell_type": "markdown",
   "source": [
    "With the input's profile and the complete list of movies and their genres in hand, we're going to take the weighted average of every movie based on the input profile and recommend the top twenty movies that most satisfy it."
   ],
   "metadata": {
    "collapsed": false,
    "pycharm": {
     "name": "#%% md\n"
    }
   }
  },
  {
   "cell_type": "code",
   "execution_count": 17,
   "outputs": [
    {
     "data": {
      "text/plain": "movieId\n1    0.594406\n2    0.293706\n3    0.188811\n4    0.328671\n5    0.188811\ndtype: float64"
     },
     "metadata": {},
     "output_type": "execute_result",
     "execution_count": 17
    }
   ],
   "source": [
    "#Multiply the genres by the weights and then take the weighted average\n",
    "recommendationTable_df = ((genreTable*userProfile).sum(axis=1))/(userProfile.sum())\n",
    "recommendationTable_df.head()"
   ],
   "metadata": {
    "collapsed": false,
    "pycharm": {
     "name": "#%%\n",
     "is_executing": false
    }
   }
  },
  {
   "cell_type": "code",
   "execution_count": 18,
   "outputs": [
    {
     "data": {
      "text/plain": "movieId\n5018      0.748252\n26093     0.734266\n27344     0.720280\n148775    0.685315\n6902      0.678322\ndtype: float64"
     },
     "metadata": {},
     "output_type": "execute_result",
     "execution_count": 18
    }
   ],
   "source": [
    "#Sort our recommendations in descending order\n",
    "recommendationTable_df = recommendationTable_df.sort_values(ascending=False)\n",
    "#Just a peek at the values\n",
    "recommendationTable_df.head()"
   ],
   "metadata": {
    "collapsed": false,
    "pycharm": {
     "name": "#%%\n",
     "is_executing": false
    }
   }
  },
  {
   "cell_type": "markdown",
   "source": [
    "Now here's the recommendation table!"
   ],
   "metadata": {
    "collapsed": false,
    "pycharm": {
     "name": "#%% md\n"
    }
   }
  },
  {
   "cell_type": "code",
   "source": [
    "#The final recommendation table\n",
    "movies_df.loc[movies_df['movieId'].isin(recommendationTable_df.head(20).keys())]\n"
   ],
   "metadata": {
    "collapsed": false,
    "pycharm": {
     "name": "#%%\n",
     "is_executing": false
    }
   },
   "execution_count": 22,
   "outputs": [
    {
     "data": {
      "text/plain": "       movieId                                              title  \\\n664        673                                          Space Jam   \n1824      1907                                              Mulan   \n2902      2987                           Who Framed Roger Rabbit?   \n4923      5018                                           Motorama   \n6793      6902                                      Interstate 60   \n8605     26093         Wonderful World of the Brothers Grimm, The   \n8783     26340  Twelve Tasks of Asterix, The (Les douze travau...   \n9296     27344  Revolutionary Girl Utena: Adolescence of Utena...   \n9825     32031                                             Robots   \n11716    51632                            Atlantis: Milo's Return   \n11751    51939                TMNT (Teenage Mutant Ninja Turtles)   \n13250    64645                                  The Wrecking Crew   \n16055    81132                                             Rubber   \n18312    91335                                      Gruffalo, The   \n22778   108540           Ernest & Célestine (Ernest et Célestine)   \n22881   108932                                     The Lego Movie   \n25218   117646                     Dragonheart 2: A New Beginning   \n26442   122787                                       The 39 Steps   \n32854   146305                             Princes and Princesses   \n33509   148775                Wizards of Waverly Place: The Movie   \n\n                                                  genres  year  \n664    [Adventure, Animation, Children, Comedy, Fanta...  1996  \n1824   [Adventure, Animation, Children, Comedy, Drama...  1998  \n2902   [Adventure, Animation, Children, Comedy, Crime...  1988  \n4923   [Adventure, Comedy, Crime, Drama, Fantasy, Mys...  1991  \n6793   [Adventure, Comedy, Drama, Fantasy, Mystery, S...  2002  \n8605   [Adventure, Animation, Children, Comedy, Drama...  1962  \n8783   [Action, Adventure, Animation, Children, Comed...  1976  \n9296   [Action, Adventure, Animation, Comedy, Drama, ...  1999  \n9825   [Adventure, Animation, Children, Comedy, Fanta...  2005  \n11716  [Action, Adventure, Animation, Children, Comed...  2003  \n11751  [Action, Adventure, Animation, Children, Comed...  2007  \n13250  [Action, Adventure, Comedy, Crime, Drama, Thri...  1968  \n16055  [Action, Adventure, Comedy, Crime, Drama, Film...  2010  \n18312    [Adventure, Animation, Children, Comedy, Drama]  2009  \n22778  [Adventure, Animation, Children, Comedy, Drama...  2012  \n22881  [Action, Adventure, Animation, Children, Comed...  2014  \n25218  [Action, Adventure, Comedy, Drama, Fantasy, Th...  2000  \n26442  [Action, Adventure, Comedy, Crime, Drama, Thri...  1959  \n32854  [Animation, Children, Comedy, Drama, Fantasy, ...  2000  \n33509  [Adventure, Children, Comedy, Drama, Fantasy, ...  2009  ",
      "text/html": "<div>\n<style scoped>\n    .dataframe tbody tr th:only-of-type {\n        vertical-align: middle;\n    }\n\n    .dataframe tbody tr th {\n        vertical-align: top;\n    }\n\n    .dataframe thead th {\n        text-align: right;\n    }\n</style>\n<table border=\"1\" class=\"dataframe\">\n  <thead>\n    <tr style=\"text-align: right;\">\n      <th></th>\n      <th>movieId</th>\n      <th>title</th>\n      <th>genres</th>\n      <th>year</th>\n    </tr>\n  </thead>\n  <tbody>\n    <tr>\n      <th>664</th>\n      <td>673</td>\n      <td>Space Jam</td>\n      <td>[Adventure, Animation, Children, Comedy, Fanta...</td>\n      <td>1996</td>\n    </tr>\n    <tr>\n      <th>1824</th>\n      <td>1907</td>\n      <td>Mulan</td>\n      <td>[Adventure, Animation, Children, Comedy, Drama...</td>\n      <td>1998</td>\n    </tr>\n    <tr>\n      <th>2902</th>\n      <td>2987</td>\n      <td>Who Framed Roger Rabbit?</td>\n      <td>[Adventure, Animation, Children, Comedy, Crime...</td>\n      <td>1988</td>\n    </tr>\n    <tr>\n      <th>4923</th>\n      <td>5018</td>\n      <td>Motorama</td>\n      <td>[Adventure, Comedy, Crime, Drama, Fantasy, Mys...</td>\n      <td>1991</td>\n    </tr>\n    <tr>\n      <th>6793</th>\n      <td>6902</td>\n      <td>Interstate 60</td>\n      <td>[Adventure, Comedy, Drama, Fantasy, Mystery, S...</td>\n      <td>2002</td>\n    </tr>\n    <tr>\n      <th>8605</th>\n      <td>26093</td>\n      <td>Wonderful World of the Brothers Grimm, The</td>\n      <td>[Adventure, Animation, Children, Comedy, Drama...</td>\n      <td>1962</td>\n    </tr>\n    <tr>\n      <th>8783</th>\n      <td>26340</td>\n      <td>Twelve Tasks of Asterix, The (Les douze travau...</td>\n      <td>[Action, Adventure, Animation, Children, Comed...</td>\n      <td>1976</td>\n    </tr>\n    <tr>\n      <th>9296</th>\n      <td>27344</td>\n      <td>Revolutionary Girl Utena: Adolescence of Utena...</td>\n      <td>[Action, Adventure, Animation, Comedy, Drama, ...</td>\n      <td>1999</td>\n    </tr>\n    <tr>\n      <th>9825</th>\n      <td>32031</td>\n      <td>Robots</td>\n      <td>[Adventure, Animation, Children, Comedy, Fanta...</td>\n      <td>2005</td>\n    </tr>\n    <tr>\n      <th>11716</th>\n      <td>51632</td>\n      <td>Atlantis: Milo's Return</td>\n      <td>[Action, Adventure, Animation, Children, Comed...</td>\n      <td>2003</td>\n    </tr>\n    <tr>\n      <th>11751</th>\n      <td>51939</td>\n      <td>TMNT (Teenage Mutant Ninja Turtles)</td>\n      <td>[Action, Adventure, Animation, Children, Comed...</td>\n      <td>2007</td>\n    </tr>\n    <tr>\n      <th>13250</th>\n      <td>64645</td>\n      <td>The Wrecking Crew</td>\n      <td>[Action, Adventure, Comedy, Crime, Drama, Thri...</td>\n      <td>1968</td>\n    </tr>\n    <tr>\n      <th>16055</th>\n      <td>81132</td>\n      <td>Rubber</td>\n      <td>[Action, Adventure, Comedy, Crime, Drama, Film...</td>\n      <td>2010</td>\n    </tr>\n    <tr>\n      <th>18312</th>\n      <td>91335</td>\n      <td>Gruffalo, The</td>\n      <td>[Adventure, Animation, Children, Comedy, Drama]</td>\n      <td>2009</td>\n    </tr>\n    <tr>\n      <th>22778</th>\n      <td>108540</td>\n      <td>Ernest &amp; Célestine (Ernest et Célestine)</td>\n      <td>[Adventure, Animation, Children, Comedy, Drama...</td>\n      <td>2012</td>\n    </tr>\n    <tr>\n      <th>22881</th>\n      <td>108932</td>\n      <td>The Lego Movie</td>\n      <td>[Action, Adventure, Animation, Children, Comed...</td>\n      <td>2014</td>\n    </tr>\n    <tr>\n      <th>25218</th>\n      <td>117646</td>\n      <td>Dragonheart 2: A New Beginning</td>\n      <td>[Action, Adventure, Comedy, Drama, Fantasy, Th...</td>\n      <td>2000</td>\n    </tr>\n    <tr>\n      <th>26442</th>\n      <td>122787</td>\n      <td>The 39 Steps</td>\n      <td>[Action, Adventure, Comedy, Crime, Drama, Thri...</td>\n      <td>1959</td>\n    </tr>\n    <tr>\n      <th>32854</th>\n      <td>146305</td>\n      <td>Princes and Princesses</td>\n      <td>[Animation, Children, Comedy, Drama, Fantasy, ...</td>\n      <td>2000</td>\n    </tr>\n    <tr>\n      <th>33509</th>\n      <td>148775</td>\n      <td>Wizards of Waverly Place: The Movie</td>\n      <td>[Adventure, Children, Comedy, Drama, Fantasy, ...</td>\n      <td>2009</td>\n    </tr>\n  </tbody>\n</table>\n</div>"
     },
     "metadata": {},
     "output_type": "execute_result",
     "execution_count": 22
    }
   ]
  },
  {
   "cell_type": "markdown",
   "source": [
    "### Advantages and Disadvantages of Content-Based Filtering\n",
    "\n",
    "##### Advantages\n",
    "* Learns user's preferences\n",
    "* Highly personalized for the user\n",
    "\n",
    "##### Disadvantages\n",
    "* Doesn't take into account what others think of the item, so low quality item recommendations might happen\n",
    "* Extracting data is not always intuitive\n",
    "* Determining what characteristics of the item the user dislikes or likes is not always obvious"
   ],
   "metadata": {
    "collapsed": false,
    "pycharm": {
     "name": "#%% md\n"
    }
   }
  }
 ],
 "metadata": {
  "kernelspec": {
   "name": "pycharm-fe6a7a62",
   "language": "python",
   "display_name": "PyCharm (Machine-Learning)"
  },
  "language_info": {
   "codemirror_mode": {
    "name": "ipython",
    "version": 2
   },
   "file_extension": ".py",
   "mimetype": "text/x-python",
   "name": "python",
   "nbconvert_exporter": "python",
   "pygments_lexer": "ipython2",
   "version": "2.7.6"
  },
  "pycharm": {
   "stem_cell": {
    "cell_type": "raw",
    "source": [],
    "metadata": {
     "collapsed": false
    }
   }
  }
 },
 "nbformat": 4,
 "nbformat_minor": 0
}